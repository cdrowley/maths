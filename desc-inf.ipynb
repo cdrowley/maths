{
 "cells": [
  {
   "attachments": {},
   "cell_type": "markdown",
   "metadata": {},
   "source": [
    "## Setup"
   ]
  },
  {
   "cell_type": "code",
   "execution_count": 24,
   "metadata": {},
   "outputs": [],
   "source": [
    "import numpy as np\n",
    "import pandas as pd\n",
    "import faker\n",
    "import plotly.express as px\n",
    "import plotly.figure_factory as ff\n",
    "from matplotlib import pyplot as plt\n",
    "import matplotlib.ticker as ticker\n",
    "\n",
    "pd.set_option('plotting.backend', 'plotly')\n",
    "FAKE = faker.Faker(seed=42)"
   ]
  },
  {
   "cell_type": "code",
   "execution_count": 53,
   "metadata": {},
   "outputs": [
    {
     "name": "stdout",
     "output_type": "stream",
     "text": [
      "0\n"
     ]
    }
   ],
   "source": [
    "def test(x, min_x=None):\n",
    "    min_x = min_x or min(0, x.min() - 1)\n",
    "    max_x = max_x or max(0, x.max() + 1)\n",
    "        \n",
    "x = np.array([1, 2, 3])\n",
    "for t in [1]:\n",
    "    print(test(x, None))"
   ]
  },
  {
   "cell_type": "code",
   "execution_count": 26,
   "metadata": {},
   "outputs": [],
   "source": [
    "def absolute_deviation(s: pd.Series) -> pd.Series:\n",
    "    return (s - s.mean()).abs()\n",
    "\n",
    "\n",
    "def number_line(x, xlabel=None, min_x=None, max_x=None):\n",
    "    # set x-axis limits, if not provided defaults to min/max of x, with 1 unit padding\n",
    "    # and 0 as the min/max (if all positive/negative)\n",
    "    min_x = min_x or min(0, x.min() - 1)\n",
    "    max_x = max_x or max(0, x.max() + 1)\n",
    "    \n",
    "    plt.figure(figsize=(10, 0.5))\n",
    "    ax = plt.subplot(1, 1, 1)\n",
    "    ax.yaxis.set_major_locator(ticker.NullLocator())\n",
    "    ax.xaxis.set_major_locator(ticker.AutoLocator())\n",
    "    ax.xaxis.set_minor_locator(ticker.AutoMinorLocator())\n",
    "    \n",
    "    for spine in ax.spines.values():\n",
    "        if spine.spine_type != 'bottom': # keep bottom spine visible\n",
    "            spine.set_visible(False)\n",
    "\n",
    "    ax.set_xlim(min_x, max_x)\n",
    "    ax.set_ylim(0, 1)\n",
    "    \n",
    "    # plot x values & label xaxis (if provided)\n",
    "    y = np.array([0.25] * x.shape[0]) # height of x above number line\n",
    "    ax.plot(x, y, 'ro', markersize=2.5, alpha=0.25)\n",
    "    ax.set_xlabel(xlabel)\n",
    "\n",
    "    # plot & label x mean\n",
    "    avg_x = x.mean()\n",
    "\n",
    "    # plot a line from the mean to the number line\n",
    "    ax.plot([avg_x, avg_x], [0.5, 0], 'b--', linewidth=5)\n",
    "    ax.annotate(text=f'arithmetic mean = {avg_x:.2f}', xy=(avg_x, 0.5), ha='center', va='bottom')\n",
    "\n",
    "\n",
    "# TODO alter y values to make them more interesting\n",
    "# stack points on top of each other if they are the same\n",
    "# new = [0.25] * len(x)\n",
    "# x = sorted(x)\n",
    "# for i in range(len(x)):\n",
    "#     if i == 0:\n",
    "#         continue\n",
    "#     if round(x[i], 2) == round(x[i-1], 2):\n",
    "#         new[i] = ((new[i-1] + new[i-2]) / 2) + 1\n",
    "# y = new"
   ]
  },
  {
   "attachments": {},
   "cell_type": "markdown",
   "metadata": {},
   "source": [
    "## Types of Statistics"
   ]
  },
  {
   "attachments": {},
   "cell_type": "markdown",
   "metadata": {},
   "source": [
    "### Descriptive Statistics\n",
    "Meaningfully describe, show, or summarize data for patterns to emerge and include measures of central tendency (mean, median, mode) and measures of variability (range, variance, standard deviation, mean absolute deviation, quartiles, percentiles, and interquartile range).\n",
    "\n",
    "- Do not allow for conclusions beyond the data analysed, though can help us choose statistical tools for further analysis.\n",
    "- Inferential statistics are required to draw conclusions from the data.\n",
    "\n",
    "### Inferential Statistics\n",
    "Allow us to generalise from sample data to the wider population (from which the sample was selected). Inferential statistics are used to:\n",
    "\n",
    "- test hypotheses\n",
    "- estimate population parameters\n",
    "- make predictions about the future\n",
    "- determine whether study results are statistically significant\n",
    "\n",
    "Inferential statistics include hypothesis testing, confidence intervals, and prediction intervals.\n",
    "- Hypothesis testing (statistical method used in making decisions using data analysis):\n",
    "    - makes an assumption about a population parameter (null hypothesis) and compares it to our alternative assumption (the claim being tested)\n",
    "    - the null hypothesis is a general statement or default position that there is no relationship between two measured phenomena, or no association among groups.=\n",
    "    - The alternative hypothesis is an assumption that there is a relationship between two measured phenomena, or an association among groups\n",
    "    - A p-value is the probability of obtaining test results at least as extreme as the results observed, assuming that the null hypothesis is correct\n",
    "- A confidence interval is an estimate computed from statistics of observed data, providing a range of values likely to contain the true value of an unknown population parameter\n",
    "- Similarly a prediction interval is a range of values likely to contain the true value of an unknown future observation"
   ]
  },
  {
   "attachments": {},
   "cell_type": "markdown",
   "metadata": {},
   "source": [
    "### Measures of Central Tendency"
   ]
  },
  {
   "cell_type": "code",
   "execution_count": 57,
   "metadata": {},
   "outputs": [
    {
     "data": {
      "text/html": [
       "<div>\n",
       "<style scoped>\n",
       "    .dataframe tbody tr th:only-of-type {\n",
       "        vertical-align: middle;\n",
       "    }\n",
       "\n",
       "    .dataframe tbody tr th {\n",
       "        vertical-align: top;\n",
       "    }\n",
       "\n",
       "    .dataframe thead th {\n",
       "        text-align: right;\n",
       "    }\n",
       "</style>\n",
       "<table border=\"1\" class=\"dataframe\">\n",
       "  <thead>\n",
       "    <tr style=\"text-align: right;\">\n",
       "      <th></th>\n",
       "      <th>name</th>\n",
       "      <th>income</th>\n",
       "    </tr>\n",
       "  </thead>\n",
       "  <tbody>\n",
       "    <tr>\n",
       "      <th>0</th>\n",
       "      <td>Morgan Bryan</td>\n",
       "      <td>96229</td>\n",
       "    </tr>\n",
       "    <tr>\n",
       "      <th>1</th>\n",
       "      <td>Joseph Young</td>\n",
       "      <td>63130</td>\n",
       "    </tr>\n",
       "    <tr>\n",
       "      <th>2</th>\n",
       "      <td>Paul Patel</td>\n",
       "      <td>50543</td>\n",
       "    </tr>\n",
       "    <tr>\n",
       "      <th>3</th>\n",
       "      <td>Zachary Harris</td>\n",
       "      <td>56495</td>\n",
       "    </tr>\n",
       "    <tr>\n",
       "      <th>4</th>\n",
       "      <td>Roger Williams</td>\n",
       "      <td>81402</td>\n",
       "    </tr>\n",
       "  </tbody>\n",
       "</table>\n",
       "</div>"
      ],
      "text/plain": [
       "             name  income\n",
       "0    Morgan Bryan   96229\n",
       "1    Joseph Young   63130\n",
       "2      Paul Patel   50543\n",
       "3  Zachary Harris   56495\n",
       "4  Roger Williams   81402"
      ]
     },
     "execution_count": 57,
     "metadata": {},
     "output_type": "execute_result"
    }
   ],
   "source": [
    "data = {\n",
    "    'name': [FAKE.name() for _ in range(100)],\n",
    "    'income': [FAKE.random_int(min=0, max=100000) for _ in range(100)],\n",
    "}\n",
    "\n",
    "df = pd.DataFrame(data)\n",
    "df.head()"
   ]
  },
  {
   "cell_type": "code",
   "execution_count": 58,
   "metadata": {},
   "outputs": [
    {
     "data": {
      "text/html": [
       "<div>\n",
       "<style scoped>\n",
       "    .dataframe tbody tr th:only-of-type {\n",
       "        vertical-align: middle;\n",
       "    }\n",
       "\n",
       "    .dataframe tbody tr th {\n",
       "        vertical-align: top;\n",
       "    }\n",
       "\n",
       "    .dataframe thead th {\n",
       "        text-align: right;\n",
       "    }\n",
       "</style>\n",
       "<table border=\"1\" class=\"dataframe\">\n",
       "  <thead>\n",
       "    <tr style=\"text-align: right;\">\n",
       "      <th></th>\n",
       "      <th>mean</th>\n",
       "      <th>median</th>\n",
       "    </tr>\n",
       "  </thead>\n",
       "  <tbody>\n",
       "    <tr>\n",
       "      <th>income</th>\n",
       "      <td>49905</td>\n",
       "      <td>49830</td>\n",
       "    </tr>\n",
       "  </tbody>\n",
       "</table>\n",
       "</div>"
      ],
      "text/plain": [
       "         mean  median\n",
       "income  49905   49830"
      ]
     },
     "execution_count": 58,
     "metadata": {},
     "output_type": "execute_result"
    }
   ],
   "source": [
    "df.agg({'income': ['mean', 'median']}).T.astype(int)"
   ]
  },
  {
   "cell_type": "code",
   "execution_count": 59,
   "metadata": {},
   "outputs": [
    {
     "data": {
      "text/html": [
       "<div>\n",
       "<style scoped>\n",
       "    .dataframe tbody tr th:only-of-type {\n",
       "        vertical-align: middle;\n",
       "    }\n",
       "\n",
       "    .dataframe tbody tr th {\n",
       "        vertical-align: top;\n",
       "    }\n",
       "\n",
       "    .dataframe thead th {\n",
       "        text-align: right;\n",
       "    }\n",
       "</style>\n",
       "<table border=\"1\" class=\"dataframe\">\n",
       "  <thead>\n",
       "    <tr style=\"text-align: right;\">\n",
       "      <th></th>\n",
       "      <th>mean</th>\n",
       "      <th>median</th>\n",
       "    </tr>\n",
       "  </thead>\n",
       "  <tbody>\n",
       "    <tr>\n",
       "      <th>income</th>\n",
       "      <td>396089015</td>\n",
       "      <td>49886</td>\n",
       "    </tr>\n",
       "  </tbody>\n",
       "</table>\n",
       "</div>"
      ],
      "text/plain": [
       "             mean  median\n",
       "income  396089015   49886"
      ]
     },
     "execution_count": 59,
     "metadata": {},
     "output_type": "execute_result"
    }
   ],
   "source": [
    "new_row = pd.DataFrame({'name': ['Elon Musk'], 'income': [40_000_000_000]})\n",
    "new_df = pd.concat([df, new_row], ignore_index=True)\n",
    "new_df.agg({'income': ['mean', 'median']}).T.astype(int)"
   ]
  },
  {
   "attachments": {},
   "cell_type": "markdown",
   "metadata": {},
   "source": [
    "## Logarithms"
   ]
  },
  {
   "attachments": {},
   "cell_type": "markdown",
   "metadata": {},
   "source": [
    "### [Introduction to Logarithms](https://www.mathsisfun.com/algebra/logarithms.html)"
   ]
  },
  {
   "cell_type": "code",
   "execution_count": 60,
   "metadata": {},
   "outputs": [
    {
     "name": "stdout",
     "output_type": "stream",
     "text": [
      "3\n",
      "[5, 25, 125]\n"
     ]
    }
   ],
   "source": [
    "# with base investment of $5 and 5x return, how many years will it take to reach $125?\n",
    "base = 5\n",
    "investment = 125\n",
    "print(int(np.log(investment) / np.log(base)))\n",
    "print([5**i for i in range(1, 4)])"
   ]
  },
  {
   "cell_type": "code",
   "execution_count": 61,
   "metadata": {},
   "outputs": [
    {
     "name": "stdout",
     "output_type": "stream",
     "text": [
      "log10(10) = 1.0\n",
      "log10(100) = log10(10^2) = 2log10(10) = 2.0\n",
      "log10(1000) = log10(10^3) = 3log10(10) = 3.0\n"
     ]
    }
   ],
   "source": [
    "# log is the inverse of exponentiation\n",
    "print(\n",
    "    f'log10(10) = {np.log10(10)}'\n",
    "    , f'log10(100) = log10(10^2) = 2log10(10) = {np.log10(100)}'\n",
    "    , f'log10(1000) = log10(10^3) = 3log10(10) = {np.log10(1000)}'\n",
    "    , sep='\\n'\n",
    ")"
   ]
  },
  {
   "attachments": {},
   "cell_type": "markdown",
   "metadata": {},
   "source": [
    "### Visualising data"
   ]
  },
  {
   "cell_type": "code",
   "execution_count": 62,
   "metadata": {},
   "outputs": [
    {
     "data": {
      "application/vnd.plotly.v1+json": {
       "config": {
        "plotlyServerURL": "https://plot.ly"
       },
       "data": [
        {
         "alignmentgroup": "True",
         "hovertemplate": "company=%{x}<br>revenue=%{y}<extra></extra>",
         "legendgroup": "",
         "marker": {
          "color": "#636efa",
          "pattern": {
           "shape": ""
          }
         },
         "name": "",
         "offsetgroup": "",
         "orientation": "v",
         "showlegend": false,
         "textposition": "auto",
         "type": "bar",
         "x": [
          "Tesla ",
          "UBER",
          "Amazon",
          "Jindal  Steel",
          "Axis Bank",
          "Vedanta"
         ],
         "xaxis": "x",
         "y": [
          31,
          11,
          386,
          4.7,
          5.6,
          11.3
         ],
         "yaxis": "y"
        }
       ],
       "layout": {
        "barmode": "relative",
        "legend": {
         "tracegroupgap": 0
        },
        "margin": {
         "t": 60
        },
        "template": {
         "data": {
          "bar": [
           {
            "error_x": {
             "color": "#2a3f5f"
            },
            "error_y": {
             "color": "#2a3f5f"
            },
            "marker": {
             "line": {
              "color": "#E5ECF6",
              "width": 0.5
             },
             "pattern": {
              "fillmode": "overlay",
              "size": 10,
              "solidity": 0.2
             }
            },
            "type": "bar"
           }
          ],
          "barpolar": [
           {
            "marker": {
             "line": {
              "color": "#E5ECF6",
              "width": 0.5
             },
             "pattern": {
              "fillmode": "overlay",
              "size": 10,
              "solidity": 0.2
             }
            },
            "type": "barpolar"
           }
          ],
          "carpet": [
           {
            "aaxis": {
             "endlinecolor": "#2a3f5f",
             "gridcolor": "white",
             "linecolor": "white",
             "minorgridcolor": "white",
             "startlinecolor": "#2a3f5f"
            },
            "baxis": {
             "endlinecolor": "#2a3f5f",
             "gridcolor": "white",
             "linecolor": "white",
             "minorgridcolor": "white",
             "startlinecolor": "#2a3f5f"
            },
            "type": "carpet"
           }
          ],
          "choropleth": [
           {
            "colorbar": {
             "outlinewidth": 0,
             "ticks": ""
            },
            "type": "choropleth"
           }
          ],
          "contour": [
           {
            "colorbar": {
             "outlinewidth": 0,
             "ticks": ""
            },
            "colorscale": [
             [
              0,
              "#0d0887"
             ],
             [
              0.1111111111111111,
              "#46039f"
             ],
             [
              0.2222222222222222,
              "#7201a8"
             ],
             [
              0.3333333333333333,
              "#9c179e"
             ],
             [
              0.4444444444444444,
              "#bd3786"
             ],
             [
              0.5555555555555556,
              "#d8576b"
             ],
             [
              0.6666666666666666,
              "#ed7953"
             ],
             [
              0.7777777777777778,
              "#fb9f3a"
             ],
             [
              0.8888888888888888,
              "#fdca26"
             ],
             [
              1,
              "#f0f921"
             ]
            ],
            "type": "contour"
           }
          ],
          "contourcarpet": [
           {
            "colorbar": {
             "outlinewidth": 0,
             "ticks": ""
            },
            "type": "contourcarpet"
           }
          ],
          "heatmap": [
           {
            "colorbar": {
             "outlinewidth": 0,
             "ticks": ""
            },
            "colorscale": [
             [
              0,
              "#0d0887"
             ],
             [
              0.1111111111111111,
              "#46039f"
             ],
             [
              0.2222222222222222,
              "#7201a8"
             ],
             [
              0.3333333333333333,
              "#9c179e"
             ],
             [
              0.4444444444444444,
              "#bd3786"
             ],
             [
              0.5555555555555556,
              "#d8576b"
             ],
             [
              0.6666666666666666,
              "#ed7953"
             ],
             [
              0.7777777777777778,
              "#fb9f3a"
             ],
             [
              0.8888888888888888,
              "#fdca26"
             ],
             [
              1,
              "#f0f921"
             ]
            ],
            "type": "heatmap"
           }
          ],
          "heatmapgl": [
           {
            "colorbar": {
             "outlinewidth": 0,
             "ticks": ""
            },
            "colorscale": [
             [
              0,
              "#0d0887"
             ],
             [
              0.1111111111111111,
              "#46039f"
             ],
             [
              0.2222222222222222,
              "#7201a8"
             ],
             [
              0.3333333333333333,
              "#9c179e"
             ],
             [
              0.4444444444444444,
              "#bd3786"
             ],
             [
              0.5555555555555556,
              "#d8576b"
             ],
             [
              0.6666666666666666,
              "#ed7953"
             ],
             [
              0.7777777777777778,
              "#fb9f3a"
             ],
             [
              0.8888888888888888,
              "#fdca26"
             ],
             [
              1,
              "#f0f921"
             ]
            ],
            "type": "heatmapgl"
           }
          ],
          "histogram": [
           {
            "marker": {
             "pattern": {
              "fillmode": "overlay",
              "size": 10,
              "solidity": 0.2
             }
            },
            "type": "histogram"
           }
          ],
          "histogram2d": [
           {
            "colorbar": {
             "outlinewidth": 0,
             "ticks": ""
            },
            "colorscale": [
             [
              0,
              "#0d0887"
             ],
             [
              0.1111111111111111,
              "#46039f"
             ],
             [
              0.2222222222222222,
              "#7201a8"
             ],
             [
              0.3333333333333333,
              "#9c179e"
             ],
             [
              0.4444444444444444,
              "#bd3786"
             ],
             [
              0.5555555555555556,
              "#d8576b"
             ],
             [
              0.6666666666666666,
              "#ed7953"
             ],
             [
              0.7777777777777778,
              "#fb9f3a"
             ],
             [
              0.8888888888888888,
              "#fdca26"
             ],
             [
              1,
              "#f0f921"
             ]
            ],
            "type": "histogram2d"
           }
          ],
          "histogram2dcontour": [
           {
            "colorbar": {
             "outlinewidth": 0,
             "ticks": ""
            },
            "colorscale": [
             [
              0,
              "#0d0887"
             ],
             [
              0.1111111111111111,
              "#46039f"
             ],
             [
              0.2222222222222222,
              "#7201a8"
             ],
             [
              0.3333333333333333,
              "#9c179e"
             ],
             [
              0.4444444444444444,
              "#bd3786"
             ],
             [
              0.5555555555555556,
              "#d8576b"
             ],
             [
              0.6666666666666666,
              "#ed7953"
             ],
             [
              0.7777777777777778,
              "#fb9f3a"
             ],
             [
              0.8888888888888888,
              "#fdca26"
             ],
             [
              1,
              "#f0f921"
             ]
            ],
            "type": "histogram2dcontour"
           }
          ],
          "mesh3d": [
           {
            "colorbar": {
             "outlinewidth": 0,
             "ticks": ""
            },
            "type": "mesh3d"
           }
          ],
          "parcoords": [
           {
            "line": {
             "colorbar": {
              "outlinewidth": 0,
              "ticks": ""
             }
            },
            "type": "parcoords"
           }
          ],
          "pie": [
           {
            "automargin": true,
            "type": "pie"
           }
          ],
          "scatter": [
           {
            "fillpattern": {
             "fillmode": "overlay",
             "size": 10,
             "solidity": 0.2
            },
            "type": "scatter"
           }
          ],
          "scatter3d": [
           {
            "line": {
             "colorbar": {
              "outlinewidth": 0,
              "ticks": ""
             }
            },
            "marker": {
             "colorbar": {
              "outlinewidth": 0,
              "ticks": ""
             }
            },
            "type": "scatter3d"
           }
          ],
          "scattercarpet": [
           {
            "marker": {
             "colorbar": {
              "outlinewidth": 0,
              "ticks": ""
             }
            },
            "type": "scattercarpet"
           }
          ],
          "scattergeo": [
           {
            "marker": {
             "colorbar": {
              "outlinewidth": 0,
              "ticks": ""
             }
            },
            "type": "scattergeo"
           }
          ],
          "scattergl": [
           {
            "marker": {
             "colorbar": {
              "outlinewidth": 0,
              "ticks": ""
             }
            },
            "type": "scattergl"
           }
          ],
          "scattermapbox": [
           {
            "marker": {
             "colorbar": {
              "outlinewidth": 0,
              "ticks": ""
             }
            },
            "type": "scattermapbox"
           }
          ],
          "scatterpolar": [
           {
            "marker": {
             "colorbar": {
              "outlinewidth": 0,
              "ticks": ""
             }
            },
            "type": "scatterpolar"
           }
          ],
          "scatterpolargl": [
           {
            "marker": {
             "colorbar": {
              "outlinewidth": 0,
              "ticks": ""
             }
            },
            "type": "scatterpolargl"
           }
          ],
          "scatterternary": [
           {
            "marker": {
             "colorbar": {
              "outlinewidth": 0,
              "ticks": ""
             }
            },
            "type": "scatterternary"
           }
          ],
          "surface": [
           {
            "colorbar": {
             "outlinewidth": 0,
             "ticks": ""
            },
            "colorscale": [
             [
              0,
              "#0d0887"
             ],
             [
              0.1111111111111111,
              "#46039f"
             ],
             [
              0.2222222222222222,
              "#7201a8"
             ],
             [
              0.3333333333333333,
              "#9c179e"
             ],
             [
              0.4444444444444444,
              "#bd3786"
             ],
             [
              0.5555555555555556,
              "#d8576b"
             ],
             [
              0.6666666666666666,
              "#ed7953"
             ],
             [
              0.7777777777777778,
              "#fb9f3a"
             ],
             [
              0.8888888888888888,
              "#fdca26"
             ],
             [
              1,
              "#f0f921"
             ]
            ],
            "type": "surface"
           }
          ],
          "table": [
           {
            "cells": {
             "fill": {
              "color": "#EBF0F8"
             },
             "line": {
              "color": "white"
             }
            },
            "header": {
             "fill": {
              "color": "#C8D4E3"
             },
             "line": {
              "color": "white"
             }
            },
            "type": "table"
           }
          ]
         },
         "layout": {
          "annotationdefaults": {
           "arrowcolor": "#2a3f5f",
           "arrowhead": 0,
           "arrowwidth": 1
          },
          "autotypenumbers": "strict",
          "coloraxis": {
           "colorbar": {
            "outlinewidth": 0,
            "ticks": ""
           }
          },
          "colorscale": {
           "diverging": [
            [
             0,
             "#8e0152"
            ],
            [
             0.1,
             "#c51b7d"
            ],
            [
             0.2,
             "#de77ae"
            ],
            [
             0.3,
             "#f1b6da"
            ],
            [
             0.4,
             "#fde0ef"
            ],
            [
             0.5,
             "#f7f7f7"
            ],
            [
             0.6,
             "#e6f5d0"
            ],
            [
             0.7,
             "#b8e186"
            ],
            [
             0.8,
             "#7fbc41"
            ],
            [
             0.9,
             "#4d9221"
            ],
            [
             1,
             "#276419"
            ]
           ],
           "sequential": [
            [
             0,
             "#0d0887"
            ],
            [
             0.1111111111111111,
             "#46039f"
            ],
            [
             0.2222222222222222,
             "#7201a8"
            ],
            [
             0.3333333333333333,
             "#9c179e"
            ],
            [
             0.4444444444444444,
             "#bd3786"
            ],
            [
             0.5555555555555556,
             "#d8576b"
            ],
            [
             0.6666666666666666,
             "#ed7953"
            ],
            [
             0.7777777777777778,
             "#fb9f3a"
            ],
            [
             0.8888888888888888,
             "#fdca26"
            ],
            [
             1,
             "#f0f921"
            ]
           ],
           "sequentialminus": [
            [
             0,
             "#0d0887"
            ],
            [
             0.1111111111111111,
             "#46039f"
            ],
            [
             0.2222222222222222,
             "#7201a8"
            ],
            [
             0.3333333333333333,
             "#9c179e"
            ],
            [
             0.4444444444444444,
             "#bd3786"
            ],
            [
             0.5555555555555556,
             "#d8576b"
            ],
            [
             0.6666666666666666,
             "#ed7953"
            ],
            [
             0.7777777777777778,
             "#fb9f3a"
            ],
            [
             0.8888888888888888,
             "#fdca26"
            ],
            [
             1,
             "#f0f921"
            ]
           ]
          },
          "colorway": [
           "#636efa",
           "#EF553B",
           "#00cc96",
           "#ab63fa",
           "#FFA15A",
           "#19d3f3",
           "#FF6692",
           "#B6E880",
           "#FF97FF",
           "#FECB52"
          ],
          "font": {
           "color": "#2a3f5f"
          },
          "geo": {
           "bgcolor": "white",
           "lakecolor": "white",
           "landcolor": "#E5ECF6",
           "showlakes": true,
           "showland": true,
           "subunitcolor": "white"
          },
          "hoverlabel": {
           "align": "left"
          },
          "hovermode": "closest",
          "mapbox": {
           "style": "light"
          },
          "paper_bgcolor": "white",
          "plot_bgcolor": "#E5ECF6",
          "polar": {
           "angularaxis": {
            "gridcolor": "white",
            "linecolor": "white",
            "ticks": ""
           },
           "bgcolor": "#E5ECF6",
           "radialaxis": {
            "gridcolor": "white",
            "linecolor": "white",
            "ticks": ""
           }
          },
          "scene": {
           "xaxis": {
            "backgroundcolor": "#E5ECF6",
            "gridcolor": "white",
            "gridwidth": 2,
            "linecolor": "white",
            "showbackground": true,
            "ticks": "",
            "zerolinecolor": "white"
           },
           "yaxis": {
            "backgroundcolor": "#E5ECF6",
            "gridcolor": "white",
            "gridwidth": 2,
            "linecolor": "white",
            "showbackground": true,
            "ticks": "",
            "zerolinecolor": "white"
           },
           "zaxis": {
            "backgroundcolor": "#E5ECF6",
            "gridcolor": "white",
            "gridwidth": 2,
            "linecolor": "white",
            "showbackground": true,
            "ticks": "",
            "zerolinecolor": "white"
           }
          },
          "shapedefaults": {
           "line": {
            "color": "#2a3f5f"
           }
          },
          "ternary": {
           "aaxis": {
            "gridcolor": "white",
            "linecolor": "white",
            "ticks": ""
           },
           "baxis": {
            "gridcolor": "white",
            "linecolor": "white",
            "ticks": ""
           },
           "bgcolor": "#E5ECF6",
           "caxis": {
            "gridcolor": "white",
            "linecolor": "white",
            "ticks": ""
           }
          },
          "title": {
           "x": 0.05
          },
          "xaxis": {
           "automargin": true,
           "gridcolor": "white",
           "linecolor": "white",
           "ticks": "",
           "title": {
            "standoff": 15
           },
           "zerolinecolor": "white",
           "zerolinewidth": 2
          },
          "yaxis": {
           "automargin": true,
           "gridcolor": "white",
           "linecolor": "white",
           "ticks": "",
           "title": {
            "standoff": 15
           },
           "zerolinecolor": "white",
           "zerolinewidth": 2
          }
         }
        },
        "xaxis": {
         "anchor": "y",
         "domain": [
          0,
          1
         ],
         "title": {
          "text": "Company"
         }
        },
        "yaxis": {
         "anchor": "x",
         "domain": [
          0,
          1
         ],
         "title": {
          "text": "Revenue in $Bn"
         }
        }
       }
      }
     },
     "metadata": {},
     "output_type": "display_data"
    }
   ],
   "source": [
    "data = {\n",
    "    'company': ['Tesla ', 'UBER', 'Amazon', 'Jindal  Steel', 'Axis Bank', 'Vedanta']\n",
    "    , 'revenue': [31.0, 11.0, 386.0, 4.7, 5.6, 11.3]\n",
    "}\n",
    "\n",
    "df = pd.DataFrame(data)\n",
    "df.plot(kind='bar', x='company', y='revenue').update_layout(yaxis_title='Revenue in $Bn', xaxis_title='Company')"
   ]
  },
  {
   "cell_type": "code",
   "execution_count": 33,
   "metadata": {},
   "outputs": [
    {
     "data": {
      "application/vnd.plotly.v1+json": {
       "config": {
        "plotlyServerURL": "https://plot.ly"
       },
       "data": [
        {
         "alignmentgroup": "True",
         "hovertemplate": "company=%{x}<br>revenue=%{y}<extra></extra>",
         "legendgroup": "",
         "marker": {
          "color": "#636efa",
          "pattern": {
           "shape": ""
          }
         },
         "name": "",
         "offsetgroup": "",
         "orientation": "v",
         "showlegend": false,
         "textposition": "auto",
         "type": "bar",
         "x": [
          "Tesla ",
          "UBER",
          "Amazon",
          "Jindal  Steel",
          "Axis Bank",
          "Vedanta"
         ],
         "xaxis": "x",
         "y": [
          31,
          11,
          386,
          4.7,
          5.6,
          11.3
         ],
         "yaxis": "y"
        }
       ],
       "layout": {
        "barmode": "relative",
        "legend": {
         "tracegroupgap": 0
        },
        "margin": {
         "t": 60
        },
        "template": {
         "data": {
          "bar": [
           {
            "error_x": {
             "color": "#2a3f5f"
            },
            "error_y": {
             "color": "#2a3f5f"
            },
            "marker": {
             "line": {
              "color": "#E5ECF6",
              "width": 0.5
             },
             "pattern": {
              "fillmode": "overlay",
              "size": 10,
              "solidity": 0.2
             }
            },
            "type": "bar"
           }
          ],
          "barpolar": [
           {
            "marker": {
             "line": {
              "color": "#E5ECF6",
              "width": 0.5
             },
             "pattern": {
              "fillmode": "overlay",
              "size": 10,
              "solidity": 0.2
             }
            },
            "type": "barpolar"
           }
          ],
          "carpet": [
           {
            "aaxis": {
             "endlinecolor": "#2a3f5f",
             "gridcolor": "white",
             "linecolor": "white",
             "minorgridcolor": "white",
             "startlinecolor": "#2a3f5f"
            },
            "baxis": {
             "endlinecolor": "#2a3f5f",
             "gridcolor": "white",
             "linecolor": "white",
             "minorgridcolor": "white",
             "startlinecolor": "#2a3f5f"
            },
            "type": "carpet"
           }
          ],
          "choropleth": [
           {
            "colorbar": {
             "outlinewidth": 0,
             "ticks": ""
            },
            "type": "choropleth"
           }
          ],
          "contour": [
           {
            "colorbar": {
             "outlinewidth": 0,
             "ticks": ""
            },
            "colorscale": [
             [
              0,
              "#0d0887"
             ],
             [
              0.1111111111111111,
              "#46039f"
             ],
             [
              0.2222222222222222,
              "#7201a8"
             ],
             [
              0.3333333333333333,
              "#9c179e"
             ],
             [
              0.4444444444444444,
              "#bd3786"
             ],
             [
              0.5555555555555556,
              "#d8576b"
             ],
             [
              0.6666666666666666,
              "#ed7953"
             ],
             [
              0.7777777777777778,
              "#fb9f3a"
             ],
             [
              0.8888888888888888,
              "#fdca26"
             ],
             [
              1,
              "#f0f921"
             ]
            ],
            "type": "contour"
           }
          ],
          "contourcarpet": [
           {
            "colorbar": {
             "outlinewidth": 0,
             "ticks": ""
            },
            "type": "contourcarpet"
           }
          ],
          "heatmap": [
           {
            "colorbar": {
             "outlinewidth": 0,
             "ticks": ""
            },
            "colorscale": [
             [
              0,
              "#0d0887"
             ],
             [
              0.1111111111111111,
              "#46039f"
             ],
             [
              0.2222222222222222,
              "#7201a8"
             ],
             [
              0.3333333333333333,
              "#9c179e"
             ],
             [
              0.4444444444444444,
              "#bd3786"
             ],
             [
              0.5555555555555556,
              "#d8576b"
             ],
             [
              0.6666666666666666,
              "#ed7953"
             ],
             [
              0.7777777777777778,
              "#fb9f3a"
             ],
             [
              0.8888888888888888,
              "#fdca26"
             ],
             [
              1,
              "#f0f921"
             ]
            ],
            "type": "heatmap"
           }
          ],
          "heatmapgl": [
           {
            "colorbar": {
             "outlinewidth": 0,
             "ticks": ""
            },
            "colorscale": [
             [
              0,
              "#0d0887"
             ],
             [
              0.1111111111111111,
              "#46039f"
             ],
             [
              0.2222222222222222,
              "#7201a8"
             ],
             [
              0.3333333333333333,
              "#9c179e"
             ],
             [
              0.4444444444444444,
              "#bd3786"
             ],
             [
              0.5555555555555556,
              "#d8576b"
             ],
             [
              0.6666666666666666,
              "#ed7953"
             ],
             [
              0.7777777777777778,
              "#fb9f3a"
             ],
             [
              0.8888888888888888,
              "#fdca26"
             ],
             [
              1,
              "#f0f921"
             ]
            ],
            "type": "heatmapgl"
           }
          ],
          "histogram": [
           {
            "marker": {
             "pattern": {
              "fillmode": "overlay",
              "size": 10,
              "solidity": 0.2
             }
            },
            "type": "histogram"
           }
          ],
          "histogram2d": [
           {
            "colorbar": {
             "outlinewidth": 0,
             "ticks": ""
            },
            "colorscale": [
             [
              0,
              "#0d0887"
             ],
             [
              0.1111111111111111,
              "#46039f"
             ],
             [
              0.2222222222222222,
              "#7201a8"
             ],
             [
              0.3333333333333333,
              "#9c179e"
             ],
             [
              0.4444444444444444,
              "#bd3786"
             ],
             [
              0.5555555555555556,
              "#d8576b"
             ],
             [
              0.6666666666666666,
              "#ed7953"
             ],
             [
              0.7777777777777778,
              "#fb9f3a"
             ],
             [
              0.8888888888888888,
              "#fdca26"
             ],
             [
              1,
              "#f0f921"
             ]
            ],
            "type": "histogram2d"
           }
          ],
          "histogram2dcontour": [
           {
            "colorbar": {
             "outlinewidth": 0,
             "ticks": ""
            },
            "colorscale": [
             [
              0,
              "#0d0887"
             ],
             [
              0.1111111111111111,
              "#46039f"
             ],
             [
              0.2222222222222222,
              "#7201a8"
             ],
             [
              0.3333333333333333,
              "#9c179e"
             ],
             [
              0.4444444444444444,
              "#bd3786"
             ],
             [
              0.5555555555555556,
              "#d8576b"
             ],
             [
              0.6666666666666666,
              "#ed7953"
             ],
             [
              0.7777777777777778,
              "#fb9f3a"
             ],
             [
              0.8888888888888888,
              "#fdca26"
             ],
             [
              1,
              "#f0f921"
             ]
            ],
            "type": "histogram2dcontour"
           }
          ],
          "mesh3d": [
           {
            "colorbar": {
             "outlinewidth": 0,
             "ticks": ""
            },
            "type": "mesh3d"
           }
          ],
          "parcoords": [
           {
            "line": {
             "colorbar": {
              "outlinewidth": 0,
              "ticks": ""
             }
            },
            "type": "parcoords"
           }
          ],
          "pie": [
           {
            "automargin": true,
            "type": "pie"
           }
          ],
          "scatter": [
           {
            "fillpattern": {
             "fillmode": "overlay",
             "size": 10,
             "solidity": 0.2
            },
            "type": "scatter"
           }
          ],
          "scatter3d": [
           {
            "line": {
             "colorbar": {
              "outlinewidth": 0,
              "ticks": ""
             }
            },
            "marker": {
             "colorbar": {
              "outlinewidth": 0,
              "ticks": ""
             }
            },
            "type": "scatter3d"
           }
          ],
          "scattercarpet": [
           {
            "marker": {
             "colorbar": {
              "outlinewidth": 0,
              "ticks": ""
             }
            },
            "type": "scattercarpet"
           }
          ],
          "scattergeo": [
           {
            "marker": {
             "colorbar": {
              "outlinewidth": 0,
              "ticks": ""
             }
            },
            "type": "scattergeo"
           }
          ],
          "scattergl": [
           {
            "marker": {
             "colorbar": {
              "outlinewidth": 0,
              "ticks": ""
             }
            },
            "type": "scattergl"
           }
          ],
          "scattermapbox": [
           {
            "marker": {
             "colorbar": {
              "outlinewidth": 0,
              "ticks": ""
             }
            },
            "type": "scattermapbox"
           }
          ],
          "scatterpolar": [
           {
            "marker": {
             "colorbar": {
              "outlinewidth": 0,
              "ticks": ""
             }
            },
            "type": "scatterpolar"
           }
          ],
          "scatterpolargl": [
           {
            "marker": {
             "colorbar": {
              "outlinewidth": 0,
              "ticks": ""
             }
            },
            "type": "scatterpolargl"
           }
          ],
          "scatterternary": [
           {
            "marker": {
             "colorbar": {
              "outlinewidth": 0,
              "ticks": ""
             }
            },
            "type": "scatterternary"
           }
          ],
          "surface": [
           {
            "colorbar": {
             "outlinewidth": 0,
             "ticks": ""
            },
            "colorscale": [
             [
              0,
              "#0d0887"
             ],
             [
              0.1111111111111111,
              "#46039f"
             ],
             [
              0.2222222222222222,
              "#7201a8"
             ],
             [
              0.3333333333333333,
              "#9c179e"
             ],
             [
              0.4444444444444444,
              "#bd3786"
             ],
             [
              0.5555555555555556,
              "#d8576b"
             ],
             [
              0.6666666666666666,
              "#ed7953"
             ],
             [
              0.7777777777777778,
              "#fb9f3a"
             ],
             [
              0.8888888888888888,
              "#fdca26"
             ],
             [
              1,
              "#f0f921"
             ]
            ],
            "type": "surface"
           }
          ],
          "table": [
           {
            "cells": {
             "fill": {
              "color": "#EBF0F8"
             },
             "line": {
              "color": "white"
             }
            },
            "header": {
             "fill": {
              "color": "#C8D4E3"
             },
             "line": {
              "color": "white"
             }
            },
            "type": "table"
           }
          ]
         },
         "layout": {
          "annotationdefaults": {
           "arrowcolor": "#2a3f5f",
           "arrowhead": 0,
           "arrowwidth": 1
          },
          "autotypenumbers": "strict",
          "coloraxis": {
           "colorbar": {
            "outlinewidth": 0,
            "ticks": ""
           }
          },
          "colorscale": {
           "diverging": [
            [
             0,
             "#8e0152"
            ],
            [
             0.1,
             "#c51b7d"
            ],
            [
             0.2,
             "#de77ae"
            ],
            [
             0.3,
             "#f1b6da"
            ],
            [
             0.4,
             "#fde0ef"
            ],
            [
             0.5,
             "#f7f7f7"
            ],
            [
             0.6,
             "#e6f5d0"
            ],
            [
             0.7,
             "#b8e186"
            ],
            [
             0.8,
             "#7fbc41"
            ],
            [
             0.9,
             "#4d9221"
            ],
            [
             1,
             "#276419"
            ]
           ],
           "sequential": [
            [
             0,
             "#0d0887"
            ],
            [
             0.1111111111111111,
             "#46039f"
            ],
            [
             0.2222222222222222,
             "#7201a8"
            ],
            [
             0.3333333333333333,
             "#9c179e"
            ],
            [
             0.4444444444444444,
             "#bd3786"
            ],
            [
             0.5555555555555556,
             "#d8576b"
            ],
            [
             0.6666666666666666,
             "#ed7953"
            ],
            [
             0.7777777777777778,
             "#fb9f3a"
            ],
            [
             0.8888888888888888,
             "#fdca26"
            ],
            [
             1,
             "#f0f921"
            ]
           ],
           "sequentialminus": [
            [
             0,
             "#0d0887"
            ],
            [
             0.1111111111111111,
             "#46039f"
            ],
            [
             0.2222222222222222,
             "#7201a8"
            ],
            [
             0.3333333333333333,
             "#9c179e"
            ],
            [
             0.4444444444444444,
             "#bd3786"
            ],
            [
             0.5555555555555556,
             "#d8576b"
            ],
            [
             0.6666666666666666,
             "#ed7953"
            ],
            [
             0.7777777777777778,
             "#fb9f3a"
            ],
            [
             0.8888888888888888,
             "#fdca26"
            ],
            [
             1,
             "#f0f921"
            ]
           ]
          },
          "colorway": [
           "#636efa",
           "#EF553B",
           "#00cc96",
           "#ab63fa",
           "#FFA15A",
           "#19d3f3",
           "#FF6692",
           "#B6E880",
           "#FF97FF",
           "#FECB52"
          ],
          "font": {
           "color": "#2a3f5f"
          },
          "geo": {
           "bgcolor": "white",
           "lakecolor": "white",
           "landcolor": "#E5ECF6",
           "showlakes": true,
           "showland": true,
           "subunitcolor": "white"
          },
          "hoverlabel": {
           "align": "left"
          },
          "hovermode": "closest",
          "mapbox": {
           "style": "light"
          },
          "paper_bgcolor": "white",
          "plot_bgcolor": "#E5ECF6",
          "polar": {
           "angularaxis": {
            "gridcolor": "white",
            "linecolor": "white",
            "ticks": ""
           },
           "bgcolor": "#E5ECF6",
           "radialaxis": {
            "gridcolor": "white",
            "linecolor": "white",
            "ticks": ""
           }
          },
          "scene": {
           "xaxis": {
            "backgroundcolor": "#E5ECF6",
            "gridcolor": "white",
            "gridwidth": 2,
            "linecolor": "white",
            "showbackground": true,
            "ticks": "",
            "zerolinecolor": "white"
           },
           "yaxis": {
            "backgroundcolor": "#E5ECF6",
            "gridcolor": "white",
            "gridwidth": 2,
            "linecolor": "white",
            "showbackground": true,
            "ticks": "",
            "zerolinecolor": "white"
           },
           "zaxis": {
            "backgroundcolor": "#E5ECF6",
            "gridcolor": "white",
            "gridwidth": 2,
            "linecolor": "white",
            "showbackground": true,
            "ticks": "",
            "zerolinecolor": "white"
           }
          },
          "shapedefaults": {
           "line": {
            "color": "#2a3f5f"
           }
          },
          "ternary": {
           "aaxis": {
            "gridcolor": "white",
            "linecolor": "white",
            "ticks": ""
           },
           "baxis": {
            "gridcolor": "white",
            "linecolor": "white",
            "ticks": ""
           },
           "bgcolor": "#E5ECF6",
           "caxis": {
            "gridcolor": "white",
            "linecolor": "white",
            "ticks": ""
           }
          },
          "title": {
           "x": 0.05
          },
          "xaxis": {
           "automargin": true,
           "gridcolor": "white",
           "linecolor": "white",
           "ticks": "",
           "title": {
            "standoff": 15
           },
           "zerolinecolor": "white",
           "zerolinewidth": 2
          },
          "yaxis": {
           "automargin": true,
           "gridcolor": "white",
           "linecolor": "white",
           "ticks": "",
           "title": {
            "standoff": 15
           },
           "zerolinecolor": "white",
           "zerolinewidth": 2
          }
         }
        },
        "xaxis": {
         "anchor": "y",
         "domain": [
          0,
          1
         ],
         "title": {
          "text": "Company"
         }
        },
        "yaxis": {
         "anchor": "x",
         "domain": [
          0,
          1
         ],
         "title": {
          "text": "Revenue in $Bn"
         },
         "type": "log"
        }
       }
      }
     },
     "metadata": {},
     "output_type": "display_data"
    }
   ],
   "source": [
    "# using log scale for y-axis, to better visualize the difference in revenue (can better compare non-amazon companies)\n",
    "df.plot(kind='bar', x='company', y='revenue', log_y=True).update_layout(yaxis_title='Revenue in $Bn', xaxis_title='Company')"
   ]
  },
  {
   "attachments": {},
   "cell_type": "markdown",
   "metadata": {},
   "source": [
    "### Log Transformation in ML\n",
    "\n",
    "Classic example is the Richter scale, whereby an earthquake measured at 5.0 is 10 times more powerful than one measured at 4.0. This is because the Richter scale is logarithmic."
   ]
  },
  {
   "cell_type": "code",
   "execution_count": 63,
   "metadata": {},
   "outputs": [
    {
     "data": {
      "text/html": [
       "<div>\n",
       "<style scoped>\n",
       "    .dataframe tbody tr th:only-of-type {\n",
       "        vertical-align: middle;\n",
       "    }\n",
       "\n",
       "    .dataframe tbody tr th {\n",
       "        vertical-align: top;\n",
       "    }\n",
       "\n",
       "    .dataframe thead th {\n",
       "        text-align: right;\n",
       "    }\n",
       "</style>\n",
       "<table border=\"1\" class=\"dataframe\">\n",
       "  <thead>\n",
       "    <tr style=\"text-align: right;\">\n",
       "      <th></th>\n",
       "      <th>company</th>\n",
       "      <th>revenue</th>\n",
       "      <th>log_revenue</th>\n",
       "    </tr>\n",
       "  </thead>\n",
       "  <tbody>\n",
       "    <tr>\n",
       "      <th>0</th>\n",
       "      <td>Tesla</td>\n",
       "      <td>31.0</td>\n",
       "      <td>1.491362</td>\n",
       "    </tr>\n",
       "    <tr>\n",
       "      <th>1</th>\n",
       "      <td>UBER</td>\n",
       "      <td>11.0</td>\n",
       "      <td>1.041393</td>\n",
       "    </tr>\n",
       "    <tr>\n",
       "      <th>2</th>\n",
       "      <td>Amazon</td>\n",
       "      <td>386.0</td>\n",
       "      <td>2.586587</td>\n",
       "    </tr>\n",
       "    <tr>\n",
       "      <th>3</th>\n",
       "      <td>Jindal  Steel</td>\n",
       "      <td>4.7</td>\n",
       "      <td>0.672098</td>\n",
       "    </tr>\n",
       "    <tr>\n",
       "      <th>4</th>\n",
       "      <td>Axis Bank</td>\n",
       "      <td>5.6</td>\n",
       "      <td>0.748188</td>\n",
       "    </tr>\n",
       "    <tr>\n",
       "      <th>5</th>\n",
       "      <td>Vedanta</td>\n",
       "      <td>11.3</td>\n",
       "      <td>1.053078</td>\n",
       "    </tr>\n",
       "  </tbody>\n",
       "</table>\n",
       "</div>"
      ],
      "text/plain": [
       "         company  revenue  log_revenue\n",
       "0         Tesla      31.0     1.491362\n",
       "1           UBER     11.0     1.041393\n",
       "2         Amazon    386.0     2.586587\n",
       "3  Jindal  Steel      4.7     0.672098\n",
       "4      Axis Bank      5.6     0.748188\n",
       "5        Vedanta     11.3     1.053078"
      ]
     },
     "execution_count": 63,
     "metadata": {},
     "output_type": "execute_result"
    }
   ],
   "source": [
    "# bring the values into a more comparable (log) scale, especially import when comparing values of different orders of magnitude\n",
    "df.assign(log_revenue=np.log10(df['revenue']))"
   ]
  },
  {
   "attachments": {},
   "cell_type": "markdown",
   "metadata": {},
   "source": [
    "## Standard Deviation and Mean Absolute Deviation"
   ]
  },
  {
   "attachments": {},
   "cell_type": "markdown",
   "metadata": {},
   "source": [
    "### Introduction to [MAD](https://www.mathsisfun.com/data/mean-deviation.html) and [STD](https://www.mathsisfun.com/data/standard-deviation.html)\n",
    "#### In Machhine Learning:\n",
    "- MAD is to L1 Norm / Manhattan Distance / Mean Absolute Error (MAE)\n",
    "- as STD is to L2 Norm / Euclidean Distance / Root Mean Squared Error (RMSE)\n",
    "\n",
    "#### Quick Aside:\n",
    "- MAE is the average of the absolute differences between predicted and actual values\n",
    "- RMSE is the square root of the average of the squared differences between predicted and actual values\n",
    "\n",
    "#### L-Norm [examples](https://montjoile.medium.com/l0-norm-l1-norm-l2-norm-l-infinity-norm-7a7d18a4f40c)\n",
    "- L0 Norm (not actually a norm) is the number of non-zero elements in a vector\n",
    "- L1 Norm is the sum of the absolute values of elements in a vector\n",
    "- L2 Norm is the square root of the sum of the squared values elements in a vector\n",
    "- L∞ Norm is the maximum absolute value of the vector elements"
   ]
  },
  {
   "cell_type": "code",
   "execution_count": 66,
   "metadata": {},
   "outputs": [
    {
     "data": {
      "text/html": [
       "<div>\n",
       "<style scoped>\n",
       "    .dataframe tbody tr th:only-of-type {\n",
       "        vertical-align: middle;\n",
       "    }\n",
       "\n",
       "    .dataframe tbody tr th {\n",
       "        vertical-align: top;\n",
       "    }\n",
       "\n",
       "    .dataframe thead th {\n",
       "        text-align: right;\n",
       "    }\n",
       "</style>\n",
       "<table border=\"1\" class=\"dataframe\">\n",
       "  <thead>\n",
       "    <tr style=\"text-align: right;\">\n",
       "      <th></th>\n",
       "      <th>mean_absolute_deviation</th>\n",
       "    </tr>\n",
       "  </thead>\n",
       "  <tbody>\n",
       "    <tr>\n",
       "      <th>maths</th>\n",
       "      <td>8.227945</td>\n",
       "    </tr>\n",
       "    <tr>\n",
       "      <th>history</th>\n",
       "      <td>0.765550</td>\n",
       "    </tr>\n",
       "  </tbody>\n",
       "</table>\n",
       "</div>"
      ],
      "text/plain": [
       "         mean_absolute_deviation\n",
       "maths                   8.227945\n",
       "history                 0.765550"
      ]
     },
     "execution_count": 66,
     "metadata": {},
     "output_type": "execute_result"
    },
    {
     "data": {
      "image/png": "[encoded data removed]",
      "text/plain": [
       "<Figure size 1000x50 with 1 Axes>"
      ]
     },
     "metadata": {},
     "output_type": "display_data"
    },
    {
     "data": {
      "image/png": "[encoded data removed]",
      "text/plain": [
       "<Figure size 1000x50 with 1 Axes>"
      ]
     },
     "metadata": {},
     "output_type": "display_data"
    }
   ],
   "source": [
    "data = {\n",
    "    'maths': np.random.normal(loc=50, scale=10, size=1_000).clip(0, 100)\n",
    "    , 'history': np.random.normal(loc=50, scale=1, size=1_000).clip(0, 100)\n",
    "}\n",
    "df = pd.DataFrame(data)\n",
    "\n",
    "# we can see from the chart and MAD, that the maths scores are more spread out than the history scores\n",
    "number_line(df['maths'], xlabel='Maths Scores', min_x=0, max_x=100)\n",
    "number_line(df['history'], xlabel='History Scores', min_x=0, max_x=100)\n",
    "df.pipe(absolute_deviation).mean().to_frame('mean_absolute_deviation')"
   ]
  },
  {
   "attachments": {},
   "cell_type": "markdown",
   "metadata": {},
   "source": [
    "### What if our MAD is very similar?"
   ]
  },
  {
   "cell_type": "code",
   "execution_count": 130,
   "metadata": {},
   "outputs": [
    {
     "data": {
      "text/html": [
       "<div>\n",
       "<style scoped>\n",
       "    .dataframe tbody tr th:only-of-type {\n",
       "        vertical-align: middle;\n",
       "    }\n",
       "\n",
       "    .dataframe tbody tr th {\n",
       "        vertical-align: top;\n",
       "    }\n",
       "\n",
       "    .dataframe thead th {\n",
       "        text-align: right;\n",
       "    }\n",
       "</style>\n",
       "<table border=\"1\" class=\"dataframe\">\n",
       "  <thead>\n",
       "    <tr style=\"text-align: right;\">\n",
       "      <th></th>\n",
       "      <th>maths</th>\n",
       "      <th>history</th>\n",
       "    </tr>\n",
       "  </thead>\n",
       "  <tbody>\n",
       "    <tr>\n",
       "      <th>mean_absolute_deviation</th>\n",
       "      <td>3.0</td>\n",
       "      <td>3.0</td>\n",
       "    </tr>\n",
       "    <tr>\n",
       "      <th>standard_deviation</th>\n",
       "      <td>4.0</td>\n",
       "      <td>4.0</td>\n",
       "    </tr>\n",
       "  </tbody>\n",
       "</table>\n",
       "</div>"
      ],
      "text/plain": [
       "                         maths  history\n",
       "mean_absolute_deviation    3.0      3.0\n",
       "standard_deviation         4.0      4.0"
      ]
     },
     "execution_count": 130,
     "metadata": {},
     "output_type": "execute_result"
    },
    {
     "data": {
      "image/png": "[encoded data removed]",
      "text/plain": [
       "<Figure size 1000x50 with 1 Axes>"
      ]
     },
     "metadata": {},
     "output_type": "display_data"
    },
    {
     "data": {
      "image/png": "[encoded data removed]",
      "text/plain": [
       "<Figure size 1000x50 with 1 Axes>"
      ]
     },
     "metadata": {},
     "output_type": "display_data"
    }
   ],
   "source": [
    "data = {'maths': [43, 52, 54, 50, 53, 54], 'history': [46, 51, 51, 49, 45, 56]}\n",
    "df = pd.DataFrame(data)\n",
    "\n",
    "\n",
    "number_line(df['maths'], xlabel='Maths Scores', min_x=0, max_x=100)\n",
    "number_line(df['history'], xlabel='History Scores', min_x=0, max_x=100)\n",
    "\n",
    "(\n",
    "    df\n",
    "    .pipe(absolute_deviation)\n",
    "    .mean()\n",
    "    .to_frame('mean_absolute_deviation')\n",
    "    .join( df.std(ddof=1).to_frame('standard_deviation') )\n",
    "    .round()\n",
    "    .T\n",
    ")"
   ]
  },
  {
   "attachments": {},
   "cell_type": "markdown",
   "metadata": {},
   "source": [
    "## Normal/Gaussian Distribution & Z-Score"
   ]
  },
  {
   "attachments": {},
   "cell_type": "markdown",
   "metadata": {},
   "source": [
    "### Introduction to [Normal Distribution](https://www.mathsisfun.com/data/standard-normal-distribution.html) and [Z-Score](https://www.mathsisfun.com/definitions/z-score.html)\n",
    "\n",
    "#### Common Practices\n",
    "- Z-Score Normalisation: data so that it has a mean of 0 and a standard deviation of 1\n",
    "- Z-Score is simply the number of standard deviations away from the mean that data points are\n",
    "- Data points falling 3 standard deviations from the mean are considered outliers"
   ]
  },
  {
   "cell_type": "code",
   "execution_count": 37,
   "metadata": {},
   "outputs": [
    {
     "data": {
      "text/html": [
       "<div>\n",
       "<style scoped>\n",
       "    .dataframe tbody tr th:only-of-type {\n",
       "        vertical-align: middle;\n",
       "    }\n",
       "\n",
       "    .dataframe tbody tr th {\n",
       "        vertical-align: top;\n",
       "    }\n",
       "\n",
       "    .dataframe thead th {\n",
       "        text-align: right;\n",
       "    }\n",
       "</style>\n",
       "<table border=\"1\" class=\"dataframe\">\n",
       "  <thead>\n",
       "    <tr style=\"text-align: right;\">\n",
       "      <th></th>\n",
       "      <th>name</th>\n",
       "      <th>height_ft</th>\n",
       "    </tr>\n",
       "  </thead>\n",
       "  <tbody>\n",
       "    <tr>\n",
       "      <th>0</th>\n",
       "      <td>Olivia</td>\n",
       "      <td>5.1</td>\n",
       "    </tr>\n",
       "    <tr>\n",
       "      <th>1</th>\n",
       "      <td>Juan</td>\n",
       "      <td>5.2</td>\n",
       "    </tr>\n",
       "    <tr>\n",
       "      <th>2</th>\n",
       "      <td>Phillip</td>\n",
       "      <td>6.0</td>\n",
       "    </tr>\n",
       "  </tbody>\n",
       "</table>\n",
       "</div>"
      ],
      "text/plain": [
       "      name  height_ft\n",
       "0   Olivia        5.1\n",
       "1     Juan        5.2\n",
       "2  Phillip        6.0"
      ]
     },
     "execution_count": 37,
     "metadata": {},
     "output_type": "execute_result"
    }
   ],
   "source": [
    "data = {\n",
    "    'name': [FAKE.first_name() for _ in range(1000)]\n",
    "    , 'height_ft': np.random.normal(loc=5.25, scale=0.5, size=1000).clip(4, 6.5).round(1)\n",
    "}\n",
    "df = pd.DataFrame(data)\n",
    "df.head(3)"
   ]
  },
  {
   "cell_type": "code",
   "execution_count": 38,
   "metadata": {},
   "outputs": [
    {
     "data": {
      "application/vnd.plotly.v1+json": {
       "config": {
        "plotlyServerURL": "https://plot.ly"
       },
       "data": [
        {
         "alignmentgroup": "True",
         "bingroup": "x",
         "hovertemplate": "height_ft=%{x}<br>count=%{y}<extra></extra>",
         "legendgroup": "",
         "marker": {
          "color": "#636efa",
          "pattern": {
           "shape": ""
          }
         },
         "name": "",
         "offsetgroup": "",
         "orientation": "v",
         "showlegend": false,
         "type": "histogram",
         "x": [
          5.1,
          5.2,
          6,
          5.5,
          5.3,
          5.4,
          5.7,
          5.5,
          5.8,
          5.2,
          4.7,
          5.2,
          4.8,
          4.3,
          5.8,
          5.3,
          5.4,
          5.1,
          5.4,
          4.5,
          4.3,
          5.2,
          5.3,
          4.6,
          5.4,
          5,
          4.8,
          4.6,
          5.4,
          5.4,
          5.7,
          5.7,
          5.4,
          5.2,
          5.1,
          5.2,
          5.4,
          5.3,
          5.1,
          4.5,
          6.2,
          5.4,
          5,
          6,
          4.5,
          4.8,
          5.5,
          4.8,
          5.4,
          4.5,
          5.1,
          4,
          5.4,
          6.4,
          4.8,
          5,
          5.1,
          5.8,
          5.8,
          4.8,
          4.6,
          5.1,
          4.9,
          5.3,
          5.5,
          4.9,
          5,
          5.1,
          5,
          4.6,
          6,
          5.6,
          5.6,
          5,
          5.5,
          5.6,
          5.6,
          4.7,
          5.1,
          4.9,
          5,
          5.5,
          5,
          4.9,
          4.9,
          4.4,
          5.9,
          5.9,
          5.2,
          5.3,
          5,
          5.2,
          4.9,
          5.8,
          5.5,
          4.9,
          5.5,
          4,
          5.7,
          5,
          5.2,
          4.9,
          4.8,
          5.6,
          5.3,
          4.2,
          6.2,
          5.5,
          5.4,
          5.8,
          5.6,
          4.9,
          5.5,
          4.7,
          5.3,
          5.1,
          4.8,
          5.5,
          5.3,
          4.5,
          5.6,
          5,
          5,
          5.5,
          5.7,
          4.9,
          5.2,
          5.4,
          6.1,
          6.1,
          5.5,
          5.1,
          5,
          5.8,
          4.6,
          4.8,
          5.5,
          5.6,
          4.4,
          5.7,
          4.8,
          6.1,
          5.5,
          5.6,
          5.3,
          5.6,
          5,
          4.4,
          4.9,
          5.2,
          6,
          5.6,
          6,
          5.1,
          5.5,
          4.8,
          5.4,
          5.3,
          4.8,
          5,
          5,
          5.6,
          5.1,
          5,
          5.8,
          4.5,
          4.4,
          5.4,
          5.4,
          5.6,
          5.2,
          5.5,
          4.9,
          5.5,
          5.6,
          5.6,
          5.1,
          5.7,
          5.5,
          5.3,
          5.1,
          5,
          5.7,
          5.3,
          4.8,
          5.3,
          5.5,
          5.2,
          5.7,
          4.2,
          4.5,
          5.8,
          5.6,
          5.3,
          5.5,
          5.9,
          4.7,
          5.7,
          5.3,
          5.1,
          5.4,
          5.1,
          5.1,
          5.3,
          5.1,
          5.6,
          5.8,
          5.1,
          5.4,
          5,
          5.6,
          5.2,
          5.3,
          5.9,
          5.7,
          5.1,
          4.6,
          4.5,
          5.3,
          4.8,
          4.9,
          6,
          5.2,
          5.4,
          4.7,
          4.8,
          5.7,
          5.6,
          4.8,
          5.1,
          4.8,
          5.2,
          5,
          5.6,
          4.1,
          4.9,
          5.2,
          5.4,
          5.1,
          5,
          4.7,
          5.6,
          4.6,
          4.9,
          5.8,
          5.2,
          5.3,
          6.1,
          5.4,
          5.3,
          5.5,
          5.2,
          5.8,
          5.4,
          5.6,
          4.9,
          4.8,
          4.8,
          6,
          5,
          5.5,
          6.5,
          5,
          5.4,
          5.3,
          5.5,
          5.4,
          5.9,
          5.2,
          5.2,
          4.8,
          4.9,
          5,
          5.4,
          5.2,
          5.4,
          5.4,
          4,
          5.1,
          5.1,
          4.6,
          6.1,
          4.8,
          5.8,
          5.4,
          6.1,
          5.5,
          4.9,
          5.1,
          5.7,
          5.3,
          5.2,
          6.1,
          6.1,
          4.8,
          6.2,
          5,
          4.4,
          6.5,
          4.4,
          5.3,
          5.2,
          6,
          6,
          5,
          5.3,
          5.1,
          5,
          5.4,
          4.9,
          5.6,
          4.7,
          6.1,
          4.5,
          6.2,
          5.1,
          5.5,
          4.7,
          5.2,
          5.1,
          5.6,
          5.2,
          5.4,
          4.9,
          5,
          4.6,
          5.7,
          5.4,
          5.8,
          5.4,
          5,
          5.2,
          5.5,
          6.5,
          5.7,
          4.6,
          5.1,
          4.7,
          5.6,
          5.3,
          4.8,
          6.1,
          5,
          6.5,
          4.3,
          5.8,
          5.2,
          5.1,
          5.3,
          5.1,
          5.6,
          4.8,
          4.8,
          4.8,
          4.9,
          5.9,
          5.6,
          5.2,
          4.9,
          5.4,
          4.7,
          4.8,
          5,
          5.6,
          4,
          5.4,
          4.8,
          5.6,
          5.7,
          5,
          4.3,
          5.4,
          4.2,
          5.4,
          4.6,
          6.4,
          5.8,
          5.2,
          4.5,
          4.4,
          5.4,
          5.3,
          5.4,
          5.7,
          5.6,
          5.1,
          5.3,
          5.5,
          4.8,
          4.8,
          5,
          5.3,
          5.2,
          5.8,
          5.6,
          5.3,
          5.8,
          5.6,
          5.1,
          4.2,
          4.9,
          5.4,
          5.3,
          4.7,
          5,
          5.1,
          4.5,
          5.6,
          5.3,
          5,
          5.5,
          4.8,
          5.1,
          5,
          4.6,
          5.4,
          4.9,
          5.3,
          5.4,
          5.6,
          5.9,
          5.3,
          5.7,
          5.1,
          5,
          4.8,
          5,
          5.8,
          5.4,
          4.6,
          5,
          5.2,
          5.1,
          5.4,
          4.7,
          5.8,
          4.7,
          6,
          5.7,
          5,
          4.4,
          5.5,
          6,
          5.6,
          5.2,
          5,
          4.4,
          5.5,
          5.6,
          4.6,
          4.7,
          6.1,
          6.1,
          5.8,
          5.2,
          5.4,
          5.4,
          4.1,
          6,
          5.5,
          6.5,
          5.6,
          4.6,
          6.1,
          5.8,
          5.4,
          5.9,
          4.5,
          5.7,
          5.5,
          5.4,
          5.4,
          5.1,
          5.9,
          4.8,
          5.2,
          4.9,
          5.3,
          5.6,
          5.4,
          5.4,
          5.3,
          4.9,
          5.1,
          5,
          5.8,
          5.5,
          4.7,
          5.5,
          5.3,
          5,
          6.5,
          5.5,
          5.1,
          4.2,
          5.1,
          5.4,
          5.7,
          5.3,
          5.2,
          5.9,
          5.2,
          4.9,
          5.2,
          4.3,
          4.7,
          5.3,
          5.4,
          5.2,
          4.9,
          5.4,
          5.4,
          6,
          4.9,
          5.2,
          5.9,
          5.3,
          4.9,
          5.9,
          4.4,
          6.2,
          5.7,
          5.2,
          4.6,
          5,
          5.5,
          5.1,
          5.5,
          5.8,
          4.9,
          5.2,
          4.7,
          5.3,
          5.1,
          5.9,
          5.4,
          6,
          5.2,
          5.6,
          4.5,
          5.4,
          4.9,
          5.7,
          4.9,
          5.5,
          4.8,
          5.7,
          5.4,
          4.9,
          5.2,
          4.6,
          6.4,
          5.7,
          5.9,
          5.9,
          5,
          5.7,
          4.7,
          4.7,
          4.5,
          5.3,
          5.9,
          5,
          4.7,
          4.5,
          5.8,
          5.6,
          5,
          4.5,
          4.4,
          5.6,
          5.5,
          4.8,
          5.5,
          4.9,
          5.2,
          4.8,
          5.4,
          5.1,
          4.6,
          5.5,
          4.8,
          4.9,
          5,
          5.1,
          5.2,
          4,
          5.5,
          5.4,
          5.4,
          4.7,
          5.6,
          5.1,
          5,
          5.4,
          6,
          5.8,
          4.3,
          6,
          5.2,
          4.6,
          5.6,
          5.1,
          5,
          4,
          5.2,
          5.7,
          5,
          5.9,
          6.2,
          5.1,
          5.7,
          5.3,
          5.9,
          4.3,
          5.2,
          4.7,
          5.2,
          5.6,
          5.8,
          5.3,
          5.4,
          5.6,
          4.9,
          5.1,
          5.1,
          5.4,
          5.4,
          4.8,
          5.3,
          5.1,
          5.8,
          4.4,
          4.8,
          5.1,
          5,
          5.6,
          5.7,
          6,
          5.3,
          5.1,
          5.8,
          5,
          5.3,
          5,
          5.2,
          5.5,
          4.7,
          5.6,
          4.4,
          4.9,
          6.1,
          5.2,
          5.2,
          5.2,
          5.8,
          5.2,
          5.1,
          6.1,
          5.6,
          4.4,
          5.7,
          5.2,
          5.9,
          5.8,
          5.2,
          4.9,
          5.4,
          4.8,
          5.5,
          5,
          4.6,
          5.8,
          4.7,
          5,
          4.7,
          6.4,
          4.9,
          4.3,
          6.1,
          4.8,
          5.3,
          5.8,
          4.5,
          5.2,
          6,
          5.5,
          5,
          5.6,
          5.6,
          5.5,
          5.6,
          4.9,
          5.5,
          5.7,
          5.4,
          5.7,
          4.9,
          4.6,
          5.1,
          5.3,
          5.4,
          5.6,
          6.2,
          5,
          5.1,
          5.3,
          5.2,
          5.2,
          5.7,
          5.4,
          5.2,
          5.2,
          5,
          5,
          5.2,
          5.4,
          5.5,
          4.9,
          5.2,
          5.5,
          5.2,
          5.1,
          6.1,
          6.1,
          6.4,
          5.2,
          4.9,
          5.2,
          6.1,
          5.6,
          5.4,
          5,
          5.4,
          5.2,
          5.4,
          5.7,
          4.4,
          5.8,
          4.9,
          4,
          5.2,
          5.3,
          5.6,
          4.4,
          4.5,
          4.8,
          5.7,
          5.4,
          4.8,
          5.5,
          5.2,
          4.5,
          5.7,
          5.4,
          5.6,
          4.9,
          5.3,
          5.3,
          5,
          4.6,
          5.9,
          5.2,
          5.6,
          5.3,
          4.9,
          5.4,
          4.8,
          5,
          5.3,
          5.7,
          4.8,
          4.5,
          5.2,
          4.6,
          5.3,
          5.7,
          5.6,
          5,
          4.9,
          5.4,
          6.4,
          4.3,
          4.2,
          4.7,
          5.3,
          4.8,
          5.2,
          5.5,
          4,
          4.9,
          4.8,
          4.8,
          4.5,
          6.1,
          4.9,
          5.3,
          5.8,
          5.6,
          5.8,
          6,
          4.8,
          4.6,
          5.7,
          4.9,
          5.2,
          5,
          4.9,
          4.3,
          5.7,
          5.2,
          5.1,
          5,
          5.8,
          4.7,
          5,
          4.7,
          5.4,
          4.9,
          4.3,
          5.2,
          4.9,
          5.1,
          4.2,
          5.1,
          5.5,
          5.6,
          4.4,
          5.5,
          4.8,
          6.4,
          5.3,
          5.7,
          5.8,
          5.4,
          5.1,
          5.4,
          5.6,
          5.7,
          5.3,
          5.1,
          5.6,
          5.7,
          5.4,
          4.6,
          5.4,
          5.4,
          5.2,
          5.6,
          6.4,
          5.4,
          5.5,
          5,
          5.5,
          5.5,
          6.2,
          5,
          5.9,
          4.9,
          4.9,
          4.5,
          5.4,
          5.4,
          5.4,
          5.9,
          5.4,
          4.9,
          4.9,
          4.3,
          5.7,
          5.9,
          4.3,
          6,
          4,
          5.7,
          5,
          5.6,
          5.5,
          4.8,
          5.5,
          5.2,
          5.1,
          4.1,
          5.5,
          5.4,
          4.1,
          5.1,
          5.4,
          5.7,
          5.8,
          6.2,
          5.5,
          5.7,
          5.4,
          5.8,
          4.4,
          4.7,
          5.4,
          5.2,
          5.2,
          5.2,
          5.5,
          5.6,
          5.4,
          5.2,
          5.8,
          5.1,
          6.4,
          5.6,
          5.5,
          4.9,
          5.3,
          5.6,
          5.6,
          4.9,
          5,
          5.4,
          4.1,
          4.5,
          5.8,
          5.4,
          5,
          5.9,
          5.5,
          5.8,
          5.3,
          5,
          5.5,
          5.4,
          5.2,
          4.3,
          5.4,
          5.6,
          4.2,
          5.1,
          4.5,
          4.8,
          4.8,
          5.6,
          5.7,
          5,
          5,
          5.2,
          5.7,
          4.9,
          5.7,
          5.8,
          5.9,
          4.1,
          5.2,
          5,
          5.9,
          5.5,
          5.7,
          5.9,
          4.5,
          5,
          5.4,
          5.6,
          5,
          4.8,
          6,
          6.1,
          5.2,
          5.2,
          4.9,
          5.1,
          4.3,
          4.8,
          5.3,
          5.3,
          4.7,
          5.4,
          5.3,
          6.2,
          5,
          5.5,
          4.4,
          5.5,
          5.5,
          4.6,
          4.9,
          5.5,
          5.1,
          5.4,
          5,
          5.2,
          5.3,
          5.2,
          4.7,
          5.4,
          5.1,
          5.3,
          4.3,
          5.2,
          5.8,
          5.3,
          5.7,
          4.9,
          5.5
         ],
         "xaxis": "x",
         "yaxis": "y"
        },
        {
         "alignmentgroup": "True",
         "hovertemplate": "height_ft=%{x}<extra></extra>",
         "legendgroup": "",
         "marker": {
          "color": "#636efa"
         },
         "name": "",
         "offsetgroup": "",
         "scalegroup": "x",
         "showlegend": false,
         "type": "violin",
         "x": [
          5.1,
          5.2,
          6,
          5.5,
          5.3,
          5.4,
          5.7,
          5.5,
          5.8,
          5.2,
          4.7,
          5.2,
          4.8,
          4.3,
          5.8,
          5.3,
          5.4,
          5.1,
          5.4,
          4.5,
          4.3,
          5.2,
          5.3,
          4.6,
          5.4,
          5,
          4.8,
          4.6,
          5.4,
          5.4,
          5.7,
          5.7,
          5.4,
          5.2,
          5.1,
          5.2,
          5.4,
          5.3,
          5.1,
          4.5,
          6.2,
          5.4,
          5,
          6,
          4.5,
          4.8,
          5.5,
          4.8,
          5.4,
          4.5,
          5.1,
          4,
          5.4,
          6.4,
          4.8,
          5,
          5.1,
          5.8,
          5.8,
          4.8,
          4.6,
          5.1,
          4.9,
          5.3,
          5.5,
          4.9,
          5,
          5.1,
          5,
          4.6,
          6,
          5.6,
          5.6,
          5,
          5.5,
          5.6,
          5.6,
          4.7,
          5.1,
          4.9,
          5,
          5.5,
          5,
          4.9,
          4.9,
          4.4,
          5.9,
          5.9,
          5.2,
          5.3,
          5,
          5.2,
          4.9,
          5.8,
          5.5,
          4.9,
          5.5,
          4,
          5.7,
          5,
          5.2,
          4.9,
          4.8,
          5.6,
          5.3,
          4.2,
          6.2,
          5.5,
          5.4,
          5.8,
          5.6,
          4.9,
          5.5,
          4.7,
          5.3,
          5.1,
          4.8,
          5.5,
          5.3,
          4.5,
          5.6,
          5,
          5,
          5.5,
          5.7,
          4.9,
          5.2,
          5.4,
          6.1,
          6.1,
          5.5,
          5.1,
          5,
          5.8,
          4.6,
          4.8,
          5.5,
          5.6,
          4.4,
          5.7,
          4.8,
          6.1,
          5.5,
          5.6,
          5.3,
          5.6,
          5,
          4.4,
          4.9,
          5.2,
          6,
          5.6,
          6,
          5.1,
          5.5,
          4.8,
          5.4,
          5.3,
          4.8,
          5,
          5,
          5.6,
          5.1,
          5,
          5.8,
          4.5,
          4.4,
          5.4,
          5.4,
          5.6,
          5.2,
          5.5,
          4.9,
          5.5,
          5.6,
          5.6,
          5.1,
          5.7,
          5.5,
          5.3,
          5.1,
          5,
          5.7,
          5.3,
          4.8,
          5.3,
          5.5,
          5.2,
          5.7,
          4.2,
          4.5,
          5.8,
          5.6,
          5.3,
          5.5,
          5.9,
          4.7,
          5.7,
          5.3,
          5.1,
          5.4,
          5.1,
          5.1,
          5.3,
          5.1,
          5.6,
          5.8,
          5.1,
          5.4,
          5,
          5.6,
          5.2,
          5.3,
          5.9,
          5.7,
          5.1,
          4.6,
          4.5,
          5.3,
          4.8,
          4.9,
          6,
          5.2,
          5.4,
          4.7,
          4.8,
          5.7,
          5.6,
          4.8,
          5.1,
          4.8,
          5.2,
          5,
          5.6,
          4.1,
          4.9,
          5.2,
          5.4,
          5.1,
          5,
          4.7,
          5.6,
          4.6,
          4.9,
          5.8,
          5.2,
          5.3,
          6.1,
          5.4,
          5.3,
          5.5,
          5.2,
          5.8,
          5.4,
          5.6,
          4.9,
          4.8,
          4.8,
          6,
          5,
          5.5,
          6.5,
          5,
          5.4,
          5.3,
          5.5,
          5.4,
          5.9,
          5.2,
          5.2,
          4.8,
          4.9,
          5,
          5.4,
          5.2,
          5.4,
          5.4,
          4,
          5.1,
          5.1,
          4.6,
          6.1,
          4.8,
          5.8,
          5.4,
          6.1,
          5.5,
          4.9,
          5.1,
          5.7,
          5.3,
          5.2,
          6.1,
          6.1,
          4.8,
          6.2,
          5,
          4.4,
          6.5,
          4.4,
          5.3,
          5.2,
          6,
          6,
          5,
          5.3,
          5.1,
          5,
          5.4,
          4.9,
          5.6,
          4.7,
          6.1,
          4.5,
          6.2,
          5.1,
          5.5,
          4.7,
          5.2,
          5.1,
          5.6,
          5.2,
          5.4,
          4.9,
          5,
          4.6,
          5.7,
          5.4,
          5.8,
          5.4,
          5,
          5.2,
          5.5,
          6.5,
          5.7,
          4.6,
          5.1,
          4.7,
          5.6,
          5.3,
          4.8,
          6.1,
          5,
          6.5,
          4.3,
          5.8,
          5.2,
          5.1,
          5.3,
          5.1,
          5.6,
          4.8,
          4.8,
          4.8,
          4.9,
          5.9,
          5.6,
          5.2,
          4.9,
          5.4,
          4.7,
          4.8,
          5,
          5.6,
          4,
          5.4,
          4.8,
          5.6,
          5.7,
          5,
          4.3,
          5.4,
          4.2,
          5.4,
          4.6,
          6.4,
          5.8,
          5.2,
          4.5,
          4.4,
          5.4,
          5.3,
          5.4,
          5.7,
          5.6,
          5.1,
          5.3,
          5.5,
          4.8,
          4.8,
          5,
          5.3,
          5.2,
          5.8,
          5.6,
          5.3,
          5.8,
          5.6,
          5.1,
          4.2,
          4.9,
          5.4,
          5.3,
          4.7,
          5,
          5.1,
          4.5,
          5.6,
          5.3,
          5,
          5.5,
          4.8,
          5.1,
          5,
          4.6,
          5.4,
          4.9,
          5.3,
          5.4,
          5.6,
          5.9,
          5.3,
          5.7,
          5.1,
          5,
          4.8,
          5,
          5.8,
          5.4,
          4.6,
          5,
          5.2,
          5.1,
          5.4,
          4.7,
          5.8,
          4.7,
          6,
          5.7,
          5,
          4.4,
          5.5,
          6,
          5.6,
          5.2,
          5,
          4.4,
          5.5,
          5.6,
          4.6,
          4.7,
          6.1,
          6.1,
          5.8,
          5.2,
          5.4,
          5.4,
          4.1,
          6,
          5.5,
          6.5,
          5.6,
          4.6,
          6.1,
          5.8,
          5.4,
          5.9,
          4.5,
          5.7,
          5.5,
          5.4,
          5.4,
          5.1,
          5.9,
          4.8,
          5.2,
          4.9,
          5.3,
          5.6,
          5.4,
          5.4,
          5.3,
          4.9,
          5.1,
          5,
          5.8,
          5.5,
          4.7,
          5.5,
          5.3,
          5,
          6.5,
          5.5,
          5.1,
          4.2,
          5.1,
          5.4,
          5.7,
          5.3,
          5.2,
          5.9,
          5.2,
          4.9,
          5.2,
          4.3,
          4.7,
          5.3,
          5.4,
          5.2,
          4.9,
          5.4,
          5.4,
          6,
          4.9,
          5.2,
          5.9,
          5.3,
          4.9,
          5.9,
          4.4,
          6.2,
          5.7,
          5.2,
          4.6,
          5,
          5.5,
          5.1,
          5.5,
          5.8,
          4.9,
          5.2,
          4.7,
          5.3,
          5.1,
          5.9,
          5.4,
          6,
          5.2,
          5.6,
          4.5,
          5.4,
          4.9,
          5.7,
          4.9,
          5.5,
          4.8,
          5.7,
          5.4,
          4.9,
          5.2,
          4.6,
          6.4,
          5.7,
          5.9,
          5.9,
          5,
          5.7,
          4.7,
          4.7,
          4.5,
          5.3,
          5.9,
          5,
          4.7,
          4.5,
          5.8,
          5.6,
          5,
          4.5,
          4.4,
          5.6,
          5.5,
          4.8,
          5.5,
          4.9,
          5.2,
          4.8,
          5.4,
          5.1,
          4.6,
          5.5,
          4.8,
          4.9,
          5,
          5.1,
          5.2,
          4,
          5.5,
          5.4,
          5.4,
          4.7,
          5.6,
          5.1,
          5,
          5.4,
          6,
          5.8,
          4.3,
          6,
          5.2,
          4.6,
          5.6,
          5.1,
          5,
          4,
          5.2,
          5.7,
          5,
          5.9,
          6.2,
          5.1,
          5.7,
          5.3,
          5.9,
          4.3,
          5.2,
          4.7,
          5.2,
          5.6,
          5.8,
          5.3,
          5.4,
          5.6,
          4.9,
          5.1,
          5.1,
          5.4,
          5.4,
          4.8,
          5.3,
          5.1,
          5.8,
          4.4,
          4.8,
          5.1,
          5,
          5.6,
          5.7,
          6,
          5.3,
          5.1,
          5.8,
          5,
          5.3,
          5,
          5.2,
          5.5,
          4.7,
          5.6,
          4.4,
          4.9,
          6.1,
          5.2,
          5.2,
          5.2,
          5.8,
          5.2,
          5.1,
          6.1,
          5.6,
          4.4,
          5.7,
          5.2,
          5.9,
          5.8,
          5.2,
          4.9,
          5.4,
          4.8,
          5.5,
          5,
          4.6,
          5.8,
          4.7,
          5,
          4.7,
          6.4,
          4.9,
          4.3,
          6.1,
          4.8,
          5.3,
          5.8,
          4.5,
          5.2,
          6,
          5.5,
          5,
          5.6,
          5.6,
          5.5,
          5.6,
          4.9,
          5.5,
          5.7,
          5.4,
          5.7,
          4.9,
          4.6,
          5.1,
          5.3,
          5.4,
          5.6,
          6.2,
          5,
          5.1,
          5.3,
          5.2,
          5.2,
          5.7,
          5.4,
          5.2,
          5.2,
          5,
          5,
          5.2,
          5.4,
          5.5,
          4.9,
          5.2,
          5.5,
          5.2,
          5.1,
          6.1,
          6.1,
          6.4,
          5.2,
          4.9,
          5.2,
          6.1,
          5.6,
          5.4,
          5,
          5.4,
          5.2,
          5.4,
          5.7,
          4.4,
          5.8,
          4.9,
          4,
          5.2,
          5.3,
          5.6,
          4.4,
          4.5,
          4.8,
          5.7,
          5.4,
          4.8,
          5.5,
          5.2,
          4.5,
          5.7,
          5.4,
          5.6,
          4.9,
          5.3,
          5.3,
          5,
          4.6,
          5.9,
          5.2,
          5.6,
          5.3,
          4.9,
          5.4,
          4.8,
          5,
          5.3,
          5.7,
          4.8,
          4.5,
          5.2,
          4.6,
          5.3,
          5.7,
          5.6,
          5,
          4.9,
          5.4,
          6.4,
          4.3,
          4.2,
          4.7,
          5.3,
          4.8,
          5.2,
          5.5,
          4,
          4.9,
          4.8,
          4.8,
          4.5,
          6.1,
          4.9,
          5.3,
          5.8,
          5.6,
          5.8,
          6,
          4.8,
          4.6,
          5.7,
          4.9,
          5.2,
          5,
          4.9,
          4.3,
          5.7,
          5.2,
          5.1,
          5,
          5.8,
          4.7,
          5,
          4.7,
          5.4,
          4.9,
          4.3,
          5.2,
          4.9,
          5.1,
          4.2,
          5.1,
          5.5,
          5.6,
          4.4,
          5.5,
          4.8,
          6.4,
          5.3,
          5.7,
          5.8,
          5.4,
          5.1,
          5.4,
          5.6,
          5.7,
          5.3,
          5.1,
          5.6,
          5.7,
          5.4,
          4.6,
          5.4,
          5.4,
          5.2,
          5.6,
          6.4,
          5.4,
          5.5,
          5,
          5.5,
          5.5,
          6.2,
          5,
          5.9,
          4.9,
          4.9,
          4.5,
          5.4,
          5.4,
          5.4,
          5.9,
          5.4,
          4.9,
          4.9,
          4.3,
          5.7,
          5.9,
          4.3,
          6,
          4,
          5.7,
          5,
          5.6,
          5.5,
          4.8,
          5.5,
          5.2,
          5.1,
          4.1,
          5.5,
          5.4,
          4.1,
          5.1,
          5.4,
          5.7,
          5.8,
          6.2,
          5.5,
          5.7,
          5.4,
          5.8,
          4.4,
          4.7,
          5.4,
          5.2,
          5.2,
          5.2,
          5.5,
          5.6,
          5.4,
          5.2,
          5.8,
          5.1,
          6.4,
          5.6,
          5.5,
          4.9,
          5.3,
          5.6,
          5.6,
          4.9,
          5,
          5.4,
          4.1,
          4.5,
          5.8,
          5.4,
          5,
          5.9,
          5.5,
          5.8,
          5.3,
          5,
          5.5,
          5.4,
          5.2,
          4.3,
          5.4,
          5.6,
          4.2,
          5.1,
          4.5,
          4.8,
          4.8,
          5.6,
          5.7,
          5,
          5,
          5.2,
          5.7,
          4.9,
          5.7,
          5.8,
          5.9,
          4.1,
          5.2,
          5,
          5.9,
          5.5,
          5.7,
          5.9,
          4.5,
          5,
          5.4,
          5.6,
          5,
          4.8,
          6,
          6.1,
          5.2,
          5.2,
          4.9,
          5.1,
          4.3,
          4.8,
          5.3,
          5.3,
          4.7,
          5.4,
          5.3,
          6.2,
          5,
          5.5,
          4.4,
          5.5,
          5.5,
          4.6,
          4.9,
          5.5,
          5.1,
          5.4,
          5,
          5.2,
          5.3,
          5.2,
          4.7,
          5.4,
          5.1,
          5.3,
          4.3,
          5.2,
          5.8,
          5.3,
          5.7,
          4.9,
          5.5
         ],
         "xaxis": "x2",
         "yaxis": "y2"
        }
       ],
       "layout": {
        "bargap": 0.1,
        "barmode": "relative",
        "legend": {
         "tracegroupgap": 0
        },
        "margin": {
         "t": 60
        },
        "template": {
         "data": {
          "bar": [
           {
            "error_x": {
             "color": "#2a3f5f"
            },
            "error_y": {
             "color": "#2a3f5f"
            },
            "marker": {
             "line": {
              "color": "#E5ECF6",
              "width": 0.5
             },
             "pattern": {
              "fillmode": "overlay",
              "size": 10,
              "solidity": 0.2
             }
            },
            "type": "bar"
           }
          ],
          "barpolar": [
           {
            "marker": {
             "line": {
              "color": "#E5ECF6",
              "width": 0.5
             },
             "pattern": {
              "fillmode": "overlay",
              "size": 10,
              "solidity": 0.2
             }
            },
            "type": "barpolar"
           }
          ],
          "carpet": [
           {
            "aaxis": {
             "endlinecolor": "#2a3f5f",
             "gridcolor": "white",
             "linecolor": "white",
             "minorgridcolor": "white",
             "startlinecolor": "#2a3f5f"
            },
            "baxis": {
             "endlinecolor": "#2a3f5f",
             "gridcolor": "white",
             "linecolor": "white",
             "minorgridcolor": "white",
             "startlinecolor": "#2a3f5f"
            },
            "type": "carpet"
           }
          ],
          "choropleth": [
           {
            "colorbar": {
             "outlinewidth": 0,
             "ticks": ""
            },
            "type": "choropleth"
           }
          ],
          "contour": [
           {
            "colorbar": {
             "outlinewidth": 0,
             "ticks": ""
            },
            "colorscale": [
             [
              0,
              "#0d0887"
             ],
             [
              0.1111111111111111,
              "#46039f"
             ],
             [
              0.2222222222222222,
              "#7201a8"
             ],
             [
              0.3333333333333333,
              "#9c179e"
             ],
             [
              0.4444444444444444,
              "#bd3786"
             ],
             [
              0.5555555555555556,
              "#d8576b"
             ],
             [
              0.6666666666666666,
              "#ed7953"
             ],
             [
              0.7777777777777778,
              "#fb9f3a"
             ],
             [
              0.8888888888888888,
              "#fdca26"
             ],
             [
              1,
              "#f0f921"
             ]
            ],
            "type": "contour"
           }
          ],
          "contourcarpet": [
           {
            "colorbar": {
             "outlinewidth": 0,
             "ticks": ""
            },
            "type": "contourcarpet"
           }
          ],
          "heatmap": [
           {
            "colorbar": {
             "outlinewidth": 0,
             "ticks": ""
            },
            "colorscale": [
             [
              0,
              "#0d0887"
             ],
             [
              0.1111111111111111,
              "#46039f"
             ],
             [
              0.2222222222222222,
              "#7201a8"
             ],
             [
              0.3333333333333333,
              "#9c179e"
             ],
             [
              0.4444444444444444,
              "#bd3786"
             ],
             [
              0.5555555555555556,
              "#d8576b"
             ],
             [
              0.6666666666666666,
              "#ed7953"
             ],
             [
              0.7777777777777778,
              "#fb9f3a"
             ],
             [
              0.8888888888888888,
              "#fdca26"
             ],
             [
              1,
              "#f0f921"
             ]
            ],
            "type": "heatmap"
           }
          ],
          "heatmapgl": [
           {
            "colorbar": {
             "outlinewidth": 0,
             "ticks": ""
            },
            "colorscale": [
             [
              0,
              "#0d0887"
             ],
             [
              0.1111111111111111,
              "#46039f"
             ],
             [
              0.2222222222222222,
              "#7201a8"
             ],
             [
              0.3333333333333333,
              "#9c179e"
             ],
             [
              0.4444444444444444,
              "#bd3786"
             ],
             [
              0.5555555555555556,
              "#d8576b"
             ],
             [
              0.6666666666666666,
              "#ed7953"
             ],
             [
              0.7777777777777778,
              "#fb9f3a"
             ],
             [
              0.8888888888888888,
              "#fdca26"
             ],
             [
              1,
              "#f0f921"
             ]
            ],
            "type": "heatmapgl"
           }
          ],
          "histogram": [
           {
            "marker": {
             "pattern": {
              "fillmode": "overlay",
              "size": 10,
              "solidity": 0.2
             }
            },
            "type": "histogram"
           }
          ],
          "histogram2d": [
           {
            "colorbar": {
             "outlinewidth": 0,
             "ticks": ""
            },
            "colorscale": [
             [
              0,
              "#0d0887"
             ],
             [
              0.1111111111111111,
              "#46039f"
             ],
             [
              0.2222222222222222,
              "#7201a8"
             ],
             [
              0.3333333333333333,
              "#9c179e"
             ],
             [
              0.4444444444444444,
              "#bd3786"
             ],
             [
              0.5555555555555556,
              "#d8576b"
             ],
             [
              0.6666666666666666,
              "#ed7953"
             ],
             [
              0.7777777777777778,
              "#fb9f3a"
             ],
             [
              0.8888888888888888,
              "#fdca26"
             ],
             [
              1,
              "#f0f921"
             ]
            ],
            "type": "histogram2d"
           }
          ],
          "histogram2dcontour": [
           {
            "colorbar": {
             "outlinewidth": 0,
             "ticks": ""
            },
            "colorscale": [
             [
              0,
              "#0d0887"
             ],
             [
              0.1111111111111111,
              "#46039f"
             ],
             [
              0.2222222222222222,
              "#7201a8"
             ],
             [
              0.3333333333333333,
              "#9c179e"
             ],
             [
              0.4444444444444444,
              "#bd3786"
             ],
             [
              0.5555555555555556,
              "#d8576b"
             ],
             [
              0.6666666666666666,
              "#ed7953"
             ],
             [
              0.7777777777777778,
              "#fb9f3a"
             ],
             [
              0.8888888888888888,
              "#fdca26"
             ],
             [
              1,
              "#f0f921"
             ]
            ],
            "type": "histogram2dcontour"
           }
          ],
          "mesh3d": [
           {
            "colorbar": {
             "outlinewidth": 0,
             "ticks": ""
            },
            "type": "mesh3d"
           }
          ],
          "parcoords": [
           {
            "line": {
             "colorbar": {
              "outlinewidth": 0,
              "ticks": ""
             }
            },
            "type": "parcoords"
           }
          ],
          "pie": [
           {
            "automargin": true,
            "type": "pie"
           }
          ],
          "scatter": [
           {
            "fillpattern": {
             "fillmode": "overlay",
             "size": 10,
             "solidity": 0.2
            },
            "type": "scatter"
           }
          ],
          "scatter3d": [
           {
            "line": {
             "colorbar": {
              "outlinewidth": 0,
              "ticks": ""
             }
            },
            "marker": {
             "colorbar": {
              "outlinewidth": 0,
              "ticks": ""
             }
            },
            "type": "scatter3d"
           }
          ],
          "scattercarpet": [
           {
            "marker": {
             "colorbar": {
              "outlinewidth": 0,
              "ticks": ""
             }
            },
            "type": "scattercarpet"
           }
          ],
          "scattergeo": [
           {
            "marker": {
             "colorbar": {
              "outlinewidth": 0,
              "ticks": ""
             }
            },
            "type": "scattergeo"
           }
          ],
          "scattergl": [
           {
            "marker": {
             "colorbar": {
              "outlinewidth": 0,
              "ticks": ""
             }
            },
            "type": "scattergl"
           }
          ],
          "scattermapbox": [
           {
            "marker": {
             "colorbar": {
              "outlinewidth": 0,
              "ticks": ""
             }
            },
            "type": "scattermapbox"
           }
          ],
          "scatterpolar": [
           {
            "marker": {
             "colorbar": {
              "outlinewidth": 0,
              "ticks": ""
             }
            },
            "type": "scatterpolar"
           }
          ],
          "scatterpolargl": [
           {
            "marker": {
             "colorbar": {
              "outlinewidth": 0,
              "ticks": ""
             }
            },
            "type": "scatterpolargl"
           }
          ],
          "scatterternary": [
           {
            "marker": {
             "colorbar": {
              "outlinewidth": 0,
              "ticks": ""
             }
            },
            "type": "scatterternary"
           }
          ],
          "surface": [
           {
            "colorbar": {
             "outlinewidth": 0,
             "ticks": ""
            },
            "colorscale": [
             [
              0,
              "#0d0887"
             ],
             [
              0.1111111111111111,
              "#46039f"
             ],
             [
              0.2222222222222222,
              "#7201a8"
             ],
             [
              0.3333333333333333,
              "#9c179e"
             ],
             [
              0.4444444444444444,
              "#bd3786"
             ],
             [
              0.5555555555555556,
              "#d8576b"
             ],
             [
              0.6666666666666666,
              "#ed7953"
             ],
             [
              0.7777777777777778,
              "#fb9f3a"
             ],
             [
              0.8888888888888888,
              "#fdca26"
             ],
             [
              1,
              "#f0f921"
             ]
            ],
            "type": "surface"
           }
          ],
          "table": [
           {
            "cells": {
             "fill": {
              "color": "#EBF0F8"
             },
             "line": {
              "color": "white"
             }
            },
            "header": {
             "fill": {
              "color": "#C8D4E3"
             },
             "line": {
              "color": "white"
             }
            },
            "type": "table"
           }
          ]
         },
         "layout": {
          "annotationdefaults": {
           "arrowcolor": "#2a3f5f",
           "arrowhead": 0,
           "arrowwidth": 1
          },
          "autotypenumbers": "strict",
          "coloraxis": {
           "colorbar": {
            "outlinewidth": 0,
            "ticks": ""
           }
          },
          "colorscale": {
           "diverging": [
            [
             0,
             "#8e0152"
            ],
            [
             0.1,
             "#c51b7d"
            ],
            [
             0.2,
             "#de77ae"
            ],
            [
             0.3,
             "#f1b6da"
            ],
            [
             0.4,
             "#fde0ef"
            ],
            [
             0.5,
             "#f7f7f7"
            ],
            [
             0.6,
             "#e6f5d0"
            ],
            [
             0.7,
             "#b8e186"
            ],
            [
             0.8,
             "#7fbc41"
            ],
            [
             0.9,
             "#4d9221"
            ],
            [
             1,
             "#276419"
            ]
           ],
           "sequential": [
            [
             0,
             "#0d0887"
            ],
            [
             0.1111111111111111,
             "#46039f"
            ],
            [
             0.2222222222222222,
             "#7201a8"
            ],
            [
             0.3333333333333333,
             "#9c179e"
            ],
            [
             0.4444444444444444,
             "#bd3786"
            ],
            [
             0.5555555555555556,
             "#d8576b"
            ],
            [
             0.6666666666666666,
             "#ed7953"
            ],
            [
             0.7777777777777778,
             "#fb9f3a"
            ],
            [
             0.8888888888888888,
             "#fdca26"
            ],
            [
             1,
             "#f0f921"
            ]
           ],
           "sequentialminus": [
            [
             0,
             "#0d0887"
            ],
            [
             0.1111111111111111,
             "#46039f"
            ],
            [
             0.2222222222222222,
             "#7201a8"
            ],
            [
             0.3333333333333333,
             "#9c179e"
            ],
            [
             0.4444444444444444,
             "#bd3786"
            ],
            [
             0.5555555555555556,
             "#d8576b"
            ],
            [
             0.6666666666666666,
             "#ed7953"
            ],
            [
             0.7777777777777778,
             "#fb9f3a"
            ],
            [
             0.8888888888888888,
             "#fdca26"
            ],
            [
             1,
             "#f0f921"
            ]
           ]
          },
          "colorway": [
           "#636efa",
           "#EF553B",
           "#00cc96",
           "#ab63fa",
           "#FFA15A",
           "#19d3f3",
           "#FF6692",
           "#B6E880",
           "#FF97FF",
           "#FECB52"
          ],
          "font": {
           "color": "#2a3f5f"
          },
          "geo": {
           "bgcolor": "white",
           "lakecolor": "white",
           "landcolor": "#E5ECF6",
           "showlakes": true,
           "showland": true,
           "subunitcolor": "white"
          },
          "hoverlabel": {
           "align": "left"
          },
          "hovermode": "closest",
          "mapbox": {
           "style": "light"
          },
          "paper_bgcolor": "white",
          "plot_bgcolor": "#E5ECF6",
          "polar": {
           "angularaxis": {
            "gridcolor": "white",
            "linecolor": "white",
            "ticks": ""
           },
           "bgcolor": "#E5ECF6",
           "radialaxis": {
            "gridcolor": "white",
            "linecolor": "white",
            "ticks": ""
           }
          },
          "scene": {
           "xaxis": {
            "backgroundcolor": "#E5ECF6",
            "gridcolor": "white",
            "gridwidth": 2,
            "linecolor": "white",
            "showbackground": true,
            "ticks": "",
            "zerolinecolor": "white"
           },
           "yaxis": {
            "backgroundcolor": "#E5ECF6",
            "gridcolor": "white",
            "gridwidth": 2,
            "linecolor": "white",
            "showbackground": true,
            "ticks": "",
            "zerolinecolor": "white"
           },
           "zaxis": {
            "backgroundcolor": "#E5ECF6",
            "gridcolor": "white",
            "gridwidth": 2,
            "linecolor": "white",
            "showbackground": true,
            "ticks": "",
            "zerolinecolor": "white"
           }
          },
          "shapedefaults": {
           "line": {
            "color": "#2a3f5f"
           }
          },
          "ternary": {
           "aaxis": {
            "gridcolor": "white",
            "linecolor": "white",
            "ticks": ""
           },
           "baxis": {
            "gridcolor": "white",
            "linecolor": "white",
            "ticks": ""
           },
           "bgcolor": "#E5ECF6",
           "caxis": {
            "gridcolor": "white",
            "linecolor": "white",
            "ticks": ""
           }
          },
          "title": {
           "x": 0.05
          },
          "xaxis": {
           "automargin": true,
           "gridcolor": "white",
           "linecolor": "white",
           "ticks": "",
           "title": {
            "standoff": 15
           },
           "zerolinecolor": "white",
           "zerolinewidth": 2
          },
          "yaxis": {
           "automargin": true,
           "gridcolor": "white",
           "linecolor": "white",
           "ticks": "",
           "title": {
            "standoff": 15
           },
           "zerolinecolor": "white",
           "zerolinewidth": 2
          }
         }
        },
        "title": {
         "text": "Height Distribution",
         "x": 0.5
        },
        "xaxis": {
         "anchor": "y",
         "domain": [
          0,
          1
         ],
         "title": {
          "text": "Height (ft)"
         }
        },
        "xaxis2": {
         "anchor": "y2",
         "domain": [
          0,
          1
         ],
         "matches": "x",
         "showgrid": true,
         "showticklabels": false
        },
        "yaxis": {
         "anchor": "x",
         "domain": [
          0,
          0.8316
         ],
         "title": {
          "text": "Frequency"
         }
        },
        "yaxis2": {
         "anchor": "x2",
         "domain": [
          0.8416,
          1
         ],
         "matches": "y2",
         "showgrid": false,
         "showline": false,
         "showticklabels": false,
         "ticks": ""
        }
       }
      }
     },
     "metadata": {},
     "output_type": "display_data"
    }
   ],
   "source": [
    "df.plot(\n",
    "    kind='hist'\n",
    "    , x='height_ft'\n",
    "    , marginal='violin'\n",
    ").update_layout(\n",
    "    title='Height Distribution'\n",
    "    , xaxis_title='Height (ft)'\n",
    "    , yaxis_title='Frequency'\n",
    "    , bargap=0.1\n",
    "    , title_x=0.5\n",
    ")"
   ]
  },
  {
   "cell_type": "code",
   "execution_count": 39,
   "metadata": {},
   "outputs": [
    {
     "data": {
      "application/vnd.plotly.v1+json": {
       "config": {
        "plotlyServerURL": "https://plot.ly"
       },
       "data": [
        {
         "autobinx": false,
         "histnorm": "probability density",
         "legendgroup": "height_ft",
         "marker": {
          "color": "green"
         },
         "name": "height_ft",
         "opacity": 0.7,
         "type": "histogram",
         "x": [
          5.1,
          5.2,
          6,
          5.5,
          5.3,
          5.4,
          5.7,
          5.5,
          5.8,
          5.2,
          4.7,
          5.2,
          4.8,
          4.3,
          5.8,
          5.3,
          5.4,
          5.1,
          5.4,
          4.5,
          4.3,
          5.2,
          5.3,
          4.6,
          5.4,
          5,
          4.8,
          4.6,
          5.4,
          5.4,
          5.7,
          5.7,
          5.4,
          5.2,
          5.1,
          5.2,
          5.4,
          5.3,
          5.1,
          4.5,
          6.2,
          5.4,
          5,
          6,
          4.5,
          4.8,
          5.5,
          4.8,
          5.4,
          4.5,
          5.1,
          4,
          5.4,
          6.4,
          4.8,
          5,
          5.1,
          5.8,
          5.8,
          4.8,
          4.6,
          5.1,
          4.9,
          5.3,
          5.5,
          4.9,
          5,
          5.1,
          5,
          4.6,
          6,
          5.6,
          5.6,
          5,
          5.5,
          5.6,
          5.6,
          4.7,
          5.1,
          4.9,
          5,
          5.5,
          5,
          4.9,
          4.9,
          4.4,
          5.9,
          5.9,
          5.2,
          5.3,
          5,
          5.2,
          4.9,
          5.8,
          5.5,
          4.9,
          5.5,
          4,
          5.7,
          5,
          5.2,
          4.9,
          4.8,
          5.6,
          5.3,
          4.2,
          6.2,
          5.5,
          5.4,
          5.8,
          5.6,
          4.9,
          5.5,
          4.7,
          5.3,
          5.1,
          4.8,
          5.5,
          5.3,
          4.5,
          5.6,
          5,
          5,
          5.5,
          5.7,
          4.9,
          5.2,
          5.4,
          6.1,
          6.1,
          5.5,
          5.1,
          5,
          5.8,
          4.6,
          4.8,
          5.5,
          5.6,
          4.4,
          5.7,
          4.8,
          6.1,
          5.5,
          5.6,
          5.3,
          5.6,
          5,
          4.4,
          4.9,
          5.2,
          6,
          5.6,
          6,
          5.1,
          5.5,
          4.8,
          5.4,
          5.3,
          4.8,
          5,
          5,
          5.6,
          5.1,
          5,
          5.8,
          4.5,
          4.4,
          5.4,
          5.4,
          5.6,
          5.2,
          5.5,
          4.9,
          5.5,
          5.6,
          5.6,
          5.1,
          5.7,
          5.5,
          5.3,
          5.1,
          5,
          5.7,
          5.3,
          4.8,
          5.3,
          5.5,
          5.2,
          5.7,
          4.2,
          4.5,
          5.8,
          5.6,
          5.3,
          5.5,
          5.9,
          4.7,
          5.7,
          5.3,
          5.1,
          5.4,
          5.1,
          5.1,
          5.3,
          5.1,
          5.6,
          5.8,
          5.1,
          5.4,
          5,
          5.6,
          5.2,
          5.3,
          5.9,
          5.7,
          5.1,
          4.6,
          4.5,
          5.3,
          4.8,
          4.9,
          6,
          5.2,
          5.4,
          4.7,
          4.8,
          5.7,
          5.6,
          4.8,
          5.1,
          4.8,
          5.2,
          5,
          5.6,
          4.1,
          4.9,
          5.2,
          5.4,
          5.1,
          5,
          4.7,
          5.6,
          4.6,
          4.9,
          5.8,
          5.2,
          5.3,
          6.1,
          5.4,
          5.3,
          5.5,
          5.2,
          5.8,
          5.4,
          5.6,
          4.9,
          4.8,
          4.8,
          6,
          5,
          5.5,
          6.5,
          5,
          5.4,
          5.3,
          5.5,
          5.4,
          5.9,
          5.2,
          5.2,
          4.8,
          4.9,
          5,
          5.4,
          5.2,
          5.4,
          5.4,
          4,
          5.1,
          5.1,
          4.6,
          6.1,
          4.8,
          5.8,
          5.4,
          6.1,
          5.5,
          4.9,
          5.1,
          5.7,
          5.3,
          5.2,
          6.1,
          6.1,
          4.8,
          6.2,
          5,
          4.4,
          6.5,
          4.4,
          5.3,
          5.2,
          6,
          6,
          5,
          5.3,
          5.1,
          5,
          5.4,
          4.9,
          5.6,
          4.7,
          6.1,
          4.5,
          6.2,
          5.1,
          5.5,
          4.7,
          5.2,
          5.1,
          5.6,
          5.2,
          5.4,
          4.9,
          5,
          4.6,
          5.7,
          5.4,
          5.8,
          5.4,
          5,
          5.2,
          5.5,
          6.5,
          5.7,
          4.6,
          5.1,
          4.7,
          5.6,
          5.3,
          4.8,
          6.1,
          5,
          6.5,
          4.3,
          5.8,
          5.2,
          5.1,
          5.3,
          5.1,
          5.6,
          4.8,
          4.8,
          4.8,
          4.9,
          5.9,
          5.6,
          5.2,
          4.9,
          5.4,
          4.7,
          4.8,
          5,
          5.6,
          4,
          5.4,
          4.8,
          5.6,
          5.7,
          5,
          4.3,
          5.4,
          4.2,
          5.4,
          4.6,
          6.4,
          5.8,
          5.2,
          4.5,
          4.4,
          5.4,
          5.3,
          5.4,
          5.7,
          5.6,
          5.1,
          5.3,
          5.5,
          4.8,
          4.8,
          5,
          5.3,
          5.2,
          5.8,
          5.6,
          5.3,
          5.8,
          5.6,
          5.1,
          4.2,
          4.9,
          5.4,
          5.3,
          4.7,
          5,
          5.1,
          4.5,
          5.6,
          5.3,
          5,
          5.5,
          4.8,
          5.1,
          5,
          4.6,
          5.4,
          4.9,
          5.3,
          5.4,
          5.6,
          5.9,
          5.3,
          5.7,
          5.1,
          5,
          4.8,
          5,
          5.8,
          5.4,
          4.6,
          5,
          5.2,
          5.1,
          5.4,
          4.7,
          5.8,
          4.7,
          6,
          5.7,
          5,
          4.4,
          5.5,
          6,
          5.6,
          5.2,
          5,
          4.4,
          5.5,
          5.6,
          4.6,
          4.7,
          6.1,
          6.1,
          5.8,
          5.2,
          5.4,
          5.4,
          4.1,
          6,
          5.5,
          6.5,
          5.6,
          4.6,
          6.1,
          5.8,
          5.4,
          5.9,
          4.5,
          5.7,
          5.5,
          5.4,
          5.4,
          5.1,
          5.9,
          4.8,
          5.2,
          4.9,
          5.3,
          5.6,
          5.4,
          5.4,
          5.3,
          4.9,
          5.1,
          5,
          5.8,
          5.5,
          4.7,
          5.5,
          5.3,
          5,
          6.5,
          5.5,
          5.1,
          4.2,
          5.1,
          5.4,
          5.7,
          5.3,
          5.2,
          5.9,
          5.2,
          4.9,
          5.2,
          4.3,
          4.7,
          5.3,
          5.4,
          5.2,
          4.9,
          5.4,
          5.4,
          6,
          4.9,
          5.2,
          5.9,
          5.3,
          4.9,
          5.9,
          4.4,
          6.2,
          5.7,
          5.2,
          4.6,
          5,
          5.5,
          5.1,
          5.5,
          5.8,
          4.9,
          5.2,
          4.7,
          5.3,
          5.1,
          5.9,
          5.4,
          6,
          5.2,
          5.6,
          4.5,
          5.4,
          4.9,
          5.7,
          4.9,
          5.5,
          4.8,
          5.7,
          5.4,
          4.9,
          5.2,
          4.6,
          6.4,
          5.7,
          5.9,
          5.9,
          5,
          5.7,
          4.7,
          4.7,
          4.5,
          5.3,
          5.9,
          5,
          4.7,
          4.5,
          5.8,
          5.6,
          5,
          4.5,
          4.4,
          5.6,
          5.5,
          4.8,
          5.5,
          4.9,
          5.2,
          4.8,
          5.4,
          5.1,
          4.6,
          5.5,
          4.8,
          4.9,
          5,
          5.1,
          5.2,
          4,
          5.5,
          5.4,
          5.4,
          4.7,
          5.6,
          5.1,
          5,
          5.4,
          6,
          5.8,
          4.3,
          6,
          5.2,
          4.6,
          5.6,
          5.1,
          5,
          4,
          5.2,
          5.7,
          5,
          5.9,
          6.2,
          5.1,
          5.7,
          5.3,
          5.9,
          4.3,
          5.2,
          4.7,
          5.2,
          5.6,
          5.8,
          5.3,
          5.4,
          5.6,
          4.9,
          5.1,
          5.1,
          5.4,
          5.4,
          4.8,
          5.3,
          5.1,
          5.8,
          4.4,
          4.8,
          5.1,
          5,
          5.6,
          5.7,
          6,
          5.3,
          5.1,
          5.8,
          5,
          5.3,
          5,
          5.2,
          5.5,
          4.7,
          5.6,
          4.4,
          4.9,
          6.1,
          5.2,
          5.2,
          5.2,
          5.8,
          5.2,
          5.1,
          6.1,
          5.6,
          4.4,
          5.7,
          5.2,
          5.9,
          5.8,
          5.2,
          4.9,
          5.4,
          4.8,
          5.5,
          5,
          4.6,
          5.8,
          4.7,
          5,
          4.7,
          6.4,
          4.9,
          4.3,
          6.1,
          4.8,
          5.3,
          5.8,
          4.5,
          5.2,
          6,
          5.5,
          5,
          5.6,
          5.6,
          5.5,
          5.6,
          4.9,
          5.5,
          5.7,
          5.4,
          5.7,
          4.9,
          4.6,
          5.1,
          5.3,
          5.4,
          5.6,
          6.2,
          5,
          5.1,
          5.3,
          5.2,
          5.2,
          5.7,
          5.4,
          5.2,
          5.2,
          5,
          5,
          5.2,
          5.4,
          5.5,
          4.9,
          5.2,
          5.5,
          5.2,
          5.1,
          6.1,
          6.1,
          6.4,
          5.2,
          4.9,
          5.2,
          6.1,
          5.6,
          5.4,
          5,
          5.4,
          5.2,
          5.4,
          5.7,
          4.4,
          5.8,
          4.9,
          4,
          5.2,
          5.3,
          5.6,
          4.4,
          4.5,
          4.8,
          5.7,
          5.4,
          4.8,
          5.5,
          5.2,
          4.5,
          5.7,
          5.4,
          5.6,
          4.9,
          5.3,
          5.3,
          5,
          4.6,
          5.9,
          5.2,
          5.6,
          5.3,
          4.9,
          5.4,
          4.8,
          5,
          5.3,
          5.7,
          4.8,
          4.5,
          5.2,
          4.6,
          5.3,
          5.7,
          5.6,
          5,
          4.9,
          5.4,
          6.4,
          4.3,
          4.2,
          4.7,
          5.3,
          4.8,
          5.2,
          5.5,
          4,
          4.9,
          4.8,
          4.8,
          4.5,
          6.1,
          4.9,
          5.3,
          5.8,
          5.6,
          5.8,
          6,
          4.8,
          4.6,
          5.7,
          4.9,
          5.2,
          5,
          4.9,
          4.3,
          5.7,
          5.2,
          5.1,
          5,
          5.8,
          4.7,
          5,
          4.7,
          5.4,
          4.9,
          4.3,
          5.2,
          4.9,
          5.1,
          4.2,
          5.1,
          5.5,
          5.6,
          4.4,
          5.5,
          4.8,
          6.4,
          5.3,
          5.7,
          5.8,
          5.4,
          5.1,
          5.4,
          5.6,
          5.7,
          5.3,
          5.1,
          5.6,
          5.7,
          5.4,
          4.6,
          5.4,
          5.4,
          5.2,
          5.6,
          6.4,
          5.4,
          5.5,
          5,
          5.5,
          5.5,
          6.2,
          5,
          5.9,
          4.9,
          4.9,
          4.5,
          5.4,
          5.4,
          5.4,
          5.9,
          5.4,
          4.9,
          4.9,
          4.3,
          5.7,
          5.9,
          4.3,
          6,
          4,
          5.7,
          5,
          5.6,
          5.5,
          4.8,
          5.5,
          5.2,
          5.1,
          4.1,
          5.5,
          5.4,
          4.1,
          5.1,
          5.4,
          5.7,
          5.8,
          6.2,
          5.5,
          5.7,
          5.4,
          5.8,
          4.4,
          4.7,
          5.4,
          5.2,
          5.2,
          5.2,
          5.5,
          5.6,
          5.4,
          5.2,
          5.8,
          5.1,
          6.4,
          5.6,
          5.5,
          4.9,
          5.3,
          5.6,
          5.6,
          4.9,
          5,
          5.4,
          4.1,
          4.5,
          5.8,
          5.4,
          5,
          5.9,
          5.5,
          5.8,
          5.3,
          5,
          5.5,
          5.4,
          5.2,
          4.3,
          5.4,
          5.6,
          4.2,
          5.1,
          4.5,
          4.8,
          4.8,
          5.6,
          5.7,
          5,
          5,
          5.2,
          5.7,
          4.9,
          5.7,
          5.8,
          5.9,
          4.1,
          5.2,
          5,
          5.9,
          5.5,
          5.7,
          5.9,
          4.5,
          5,
          5.4,
          5.6,
          5,
          4.8,
          6,
          6.1,
          5.2,
          5.2,
          4.9,
          5.1,
          4.3,
          4.8,
          5.3,
          5.3,
          4.7,
          5.4,
          5.3,
          6.2,
          5,
          5.5,
          4.4,
          5.5,
          5.5,
          4.6,
          4.9,
          5.5,
          5.1,
          5.4,
          5,
          5.2,
          5.3,
          5.2,
          4.7,
          5.4,
          5.1,
          5.3,
          4.3,
          5.2,
          5.8,
          5.3,
          5.7,
          4.9,
          5.5
         ],
         "xaxis": "x",
         "xbins": {
          "end": 6.5,
          "size": 0.1,
          "start": 4
         },
         "yaxis": "y"
        },
        {
         "legendgroup": "height_ft",
         "marker": {
          "color": "green"
         },
         "mode": "lines",
         "name": "height_ft",
         "showlegend": false,
         "type": "scatter",
         "x": [
          4,
          4.005,
          4.01,
          4.015,
          4.02,
          4.025,
          4.03,
          4.035,
          4.04,
          4.045,
          4.05,
          4.055,
          4.06,
          4.065,
          4.07,
          4.075,
          4.08,
          4.085,
          4.09,
          4.095,
          4.1,
          4.105,
          4.11,
          4.115,
          4.12,
          4.125,
          4.13,
          4.135,
          4.14,
          4.145,
          4.15,
          4.155,
          4.16,
          4.165,
          4.17,
          4.175,
          4.18,
          4.185,
          4.19,
          4.195,
          4.2,
          4.205,
          4.21,
          4.215,
          4.22,
          4.225,
          4.23,
          4.235,
          4.24,
          4.245,
          4.25,
          4.255,
          4.26,
          4.265,
          4.27,
          4.275,
          4.28,
          4.285,
          4.29,
          4.295,
          4.3,
          4.305,
          4.31,
          4.315,
          4.32,
          4.325,
          4.33,
          4.335,
          4.34,
          4.345,
          4.35,
          4.355,
          4.36,
          4.365,
          4.37,
          4.375,
          4.38,
          4.385,
          4.39,
          4.395,
          4.4,
          4.405,
          4.41,
          4.415,
          4.42,
          4.425,
          4.43,
          4.435,
          4.44,
          4.445,
          4.45,
          4.455,
          4.46,
          4.465,
          4.47,
          4.475,
          4.48,
          4.485,
          4.49,
          4.495,
          4.5,
          4.505,
          4.51,
          4.515,
          4.52,
          4.525,
          4.53,
          4.535,
          4.54,
          4.545,
          4.55,
          4.555,
          4.5600000000000005,
          4.5649999999999995,
          4.57,
          4.575,
          4.58,
          4.585,
          4.59,
          4.595,
          4.6,
          4.605,
          4.61,
          4.615,
          4.62,
          4.625,
          4.63,
          4.635,
          4.64,
          4.645,
          4.65,
          4.655,
          4.66,
          4.665,
          4.67,
          4.675,
          4.68,
          4.6850000000000005,
          4.6899999999999995,
          4.695,
          4.7,
          4.705,
          4.71,
          4.715,
          4.72,
          4.725,
          4.73,
          4.735,
          4.74,
          4.745,
          4.75,
          4.755,
          4.76,
          4.765,
          4.77,
          4.775,
          4.78,
          4.785,
          4.79,
          4.795,
          4.8,
          4.805,
          4.8100000000000005,
          4.8149999999999995,
          4.82,
          4.825,
          4.83,
          4.835,
          4.84,
          4.845,
          4.85,
          4.855,
          4.86,
          4.865,
          4.87,
          4.875,
          4.88,
          4.885,
          4.89,
          4.895,
          4.9,
          4.905,
          4.91,
          4.915,
          4.92,
          4.925,
          4.93,
          4.9350000000000005,
          4.9399999999999995,
          4.945,
          4.95,
          4.955,
          4.96,
          4.965,
          4.97,
          4.975,
          4.98,
          4.985,
          4.99,
          4.995,
          5,
          5.005,
          5.01,
          5.015,
          5.02,
          5.025,
          5.03,
          5.035,
          5.04,
          5.045,
          5.05,
          5.055,
          5.0600000000000005,
          5.0649999999999995,
          5.07,
          5.075,
          5.08,
          5.085,
          5.09,
          5.095,
          5.1,
          5.105,
          5.11,
          5.115,
          5.12,
          5.125,
          5.13,
          5.135,
          5.14,
          5.145,
          5.15,
          5.155,
          5.16,
          5.165,
          5.17,
          5.175,
          5.18,
          5.1850000000000005,
          5.1899999999999995,
          5.195,
          5.2,
          5.205,
          5.21,
          5.215,
          5.22,
          5.225,
          5.23,
          5.235,
          5.24,
          5.245,
          5.25,
          5.255,
          5.26,
          5.265,
          5.27,
          5.275,
          5.28,
          5.285,
          5.29,
          5.295,
          5.3,
          5.305,
          5.3100000000000005,
          5.3149999999999995,
          5.32,
          5.325,
          5.33,
          5.335,
          5.34,
          5.345,
          5.35,
          5.355,
          5.36,
          5.365,
          5.37,
          5.375,
          5.38,
          5.385,
          5.39,
          5.395,
          5.4,
          5.405,
          5.41,
          5.415,
          5.42,
          5.425,
          5.43,
          5.4350000000000005,
          5.4399999999999995,
          5.445,
          5.45,
          5.455,
          5.46,
          5.465,
          5.47,
          5.475,
          5.48,
          5.485,
          5.49,
          5.495,
          5.5,
          5.505,
          5.51,
          5.515,
          5.52,
          5.525,
          5.53,
          5.535,
          5.54,
          5.545,
          5.55,
          5.555,
          5.5600000000000005,
          5.5649999999999995,
          5.57,
          5.575,
          5.58,
          5.585,
          5.59,
          5.595,
          5.6,
          5.605,
          5.61,
          5.615,
          5.62,
          5.625,
          5.63,
          5.635,
          5.64,
          5.645,
          5.65,
          5.655,
          5.66,
          5.665,
          5.67,
          5.675,
          5.68,
          5.6850000000000005,
          5.6899999999999995,
          5.695,
          5.7,
          5.705,
          5.71,
          5.715,
          5.72,
          5.725,
          5.73,
          5.735,
          5.74,
          5.745,
          5.75,
          5.755,
          5.76,
          5.765,
          5.77,
          5.775,
          5.78,
          5.785,
          5.79,
          5.795,
          5.8,
          5.805,
          5.8100000000000005,
          5.8149999999999995,
          5.82,
          5.825,
          5.83,
          5.835,
          5.84,
          5.845,
          5.85,
          5.855,
          5.86,
          5.865,
          5.87,
          5.875,
          5.88,
          5.885,
          5.89,
          5.895,
          5.9,
          5.905,
          5.91,
          5.915,
          5.92,
          5.925,
          5.93,
          5.9350000000000005,
          5.9399999999999995,
          5.945,
          5.95,
          5.955,
          5.96,
          5.965,
          5.97,
          5.975,
          5.98,
          5.985,
          5.99,
          5.995,
          6,
          6.005,
          6.01,
          6.015000000000001,
          6.02,
          6.025,
          6.029999999999999,
          6.035,
          6.04,
          6.045,
          6.05,
          6.055,
          6.0600000000000005,
          6.0649999999999995,
          6.07,
          6.075,
          6.08,
          6.085,
          6.09,
          6.095000000000001,
          6.1,
          6.105,
          6.109999999999999,
          6.115,
          6.12,
          6.125,
          6.13,
          6.135,
          6.140000000000001,
          6.145,
          6.15,
          6.154999999999999,
          6.16,
          6.165,
          6.17,
          6.175,
          6.18,
          6.1850000000000005,
          6.1899999999999995,
          6.195,
          6.2,
          6.205,
          6.21,
          6.215,
          6.220000000000001,
          6.225,
          6.23,
          6.234999999999999,
          6.24,
          6.245,
          6.25,
          6.255,
          6.26,
          6.265000000000001,
          6.27,
          6.275,
          6.279999999999999,
          6.285,
          6.29,
          6.295,
          6.3,
          6.305,
          6.3100000000000005,
          6.3149999999999995,
          6.32,
          6.325,
          6.33,
          6.335,
          6.34,
          6.345000000000001,
          6.35,
          6.355,
          6.359999999999999,
          6.365,
          6.37,
          6.375,
          6.38,
          6.385,
          6.390000000000001,
          6.395,
          6.4,
          6.404999999999999,
          6.41,
          6.415,
          6.42,
          6.425,
          6.43,
          6.4350000000000005,
          6.4399999999999995,
          6.445,
          6.45,
          6.455,
          6.46,
          6.465,
          6.470000000000001,
          6.475,
          6.48,
          6.484999999999999,
          6.49,
          6.495
         ],
         "xaxis": "x",
         "y": [
          0.027765002546377312,
          0.028533633916868615,
          0.029320320493897104,
          0.030125384743290722,
          0.030949151859947694,
          0.03179194969783905,
          0.03265410869661125,
          0.03353596180474714,
          0.03443784439924019,
          0.035360094201742964,
          0.03630305119115005,
          0.0372670575125781,
          0.03825245738270723,
          0.03925959699145034,
          0.040288824399916996,
          0.04134048943464588,
          0.04241494357807314,
          0.043512539855215075,
          0.044633632716540264,
          0.04577857791701098,
          0.04694773239127494,
          0.04814145412499277,
          0.04936010202228563,
          0.05060403576929621,
          0.05187361569385146,
          0.05316920262122443,
          0.054491157725992424,
          0.05583984237999323,
          0.05721561799638228,
          0.05861884586979874,
          0.060049887012651224,
          0.06150910198753474,
          0.06299685073580032,
          0.06451349240229194,
          0.06605938515627967,
          0.06763488600861355,
          0.06924035062513048,
          0.07087613313634858,
          0.07254258594348785,
          0.07424005952085716,
          0.07596890221465898,
          0.07772946003825475,
          0.07952207646394993,
          0.0813470922113547,
          0.08320484503238207,
          0.08509566949294967,
          0.08701989675145498,
          0.08897785433409723,
          0.09096986590712758,
          0.09299625104610434,
          0.09505732500224481,
          0.09715339846596181,
          0.09928477732768072,
          0.1014517624360365,
          0.10365464935355345,
          0.10589372810991583,
          0.10816928295293987,
          0.1104815920973677,
          0.1128309274715966,
          0.11521755446247427,
          0.11764173165828544,
          0.1201037105900639,
          0.12260373547136638,
          0.12514204293665046,
          0.1277188617783979,
          0.13033441268314053,
          0.1329889079665313,
          0.13568255130762555,
          0.1384155374825297,
          0.14118805209758253,
          0.14400027132223772,
          0.14685236162181953,
          0.1497444794903245,
          0.152676771183455,
          0.15564937245205812,
          0.1586624082761612,
          0.16171599259979125,
          0.16481022806677023,
          0.16794520575768054,
          0.1711210049281987,
          0.174337692748998,
          0.17759532404742048,
          0.1808939410511306,
          0.18423357313394906,
          0.18761423656408324,
          0.19103593425496462,
          0.19449865551890655,
          0.19800237582379884,
          0.20154705655305644,
          0.2051326447690375,
          0.2087590729801603,
          0.2124262589119274,
          0.21613410528208776,
          0.2198824995801574,
          0.22367131385152064,
          0.22750040448633654,
          0.2313696120134741,
          0.235278760899698,
          0.23922765935433493,
          0.24321609913963338,
          0.2472438553870478,
          0.2513106864196648,
          0.25541633358099214,
          0.2595605210703314,
          0.26374295578494994,
          0.26796332716927,
          0.2722213070712847,
          0.2765165496064237,
          0.2808486910290624,
          0.28521734961189615,
          0.2896221255333735,
          0.2940626007733962,
          0.29853833901748017,
          0.3030488855695702,
          0.30759376727371174,
          0.3121724924447386,
          0.3167845508081964,
          0.3214294134496466,
          0.3261065327735444,
          0.33081534247185207,
          0.335555257502552,
          0.34032567407821984,
          0.34512596966480374,
          0.34995550299077155,
          0.3548136140667481,
          0.35969962421579244,
          0.3646128361144366,
          0.36955253384461045,
          0.37451798295656696,
          0.3795084305429178,
          0.3845231053238792,
          0.3895612177438193,
          0.39462196007920536,
          0.3997045065580119,
          0.40480801349067436,
          0.4099316194126472,
          0.4150744452386198,
          0.4202355944284389,
          0.4254141531647696,
          0.43060919054254393,
          0.4358197587701798,
          0.44104489338262853,
          0.4462836134662166,
          0.4515349218952931,
          0.45679780558066474,
          0.46207123572979186,
          0.46735416811871194,
          0.47264554337564324,
          0.4779442872762282,
          0.483249311050335,
          0.48855951170035805,
          0.49387377233093277,
          0.49919096248996897,
          0.5045099385209055,
          0.5098295439260703,
          0.5151486097410306,
          0.5204659549197914,
          0.5257803867307187,
          0.5310907011630175,
          0.536395683343616,
          0.5416941079642847,
          0.5469847397188063,
          0.5522663337500123,
          0.5575376361064791,
          0.5627973842086952,
          0.5680443073244458,
          0.5732771270532323,
          0.5784945578194544,
          0.5836953073741288,
          0.5888780773048852,
          0.5940415635539791,
          0.5991844569440471,
          0.6043054437113254,
          0.6094032060460528,
          0.6144764226397466,
          0.6195237692390606,
          0.6245439192059089,
          0.6295355440835372,
          0.6344973141682158,
          0.6394278990862213,
          0.6443259683757683,
          0.6491901920735392,
          0.6540192413054736,
          0.658811788881439,
          0.6635665098934351,
          0.6682820823169542,
          0.6729571876151238,
          0.677590511345253,
          0.6821807437673948,
          0.6867265804545477,
          0.6912267229040784,
          0.6956798791500028,
          0.7000847643756987,
          0.7044401015266594,
          0.7087446219228848,
          0.7129970658704946,
          0.7171961832721641,
          0.7213407342359579,
          0.72542948968217,
          0.7294612319477332,
          0.7334347553878012,
          0.7373488669740839,
          0.74120238688952,
          0.7449941491188788,
          0.7487230020348734,
          0.7523878089793793,
          0.7559874488393425,
          0.7595208166169828,
          0.7629868239938687,
          0.7663843998884785,
          0.7697124910068379,
          0.772970062385846,
          0.7761560979288918,
          0.7792696009333756,
          0.7823095946097608,
          0.7852751225917567,
          0.7881652494372887,
          0.7909790611198642,
          0.7937156655099855,
          0.796374192846253,
          0.7989537961958089,
          0.8014536519037823,
          0.8038729600313995,
          0.8062109447824382,
          0.8084668549176999,
          0.8106399641571992,
          0.8127295715697607,
          0.8147350019497379,
          0.816655606180565,
          0.8184907615848713,
          0.8202398722608935,
          0.8219023694049274,
          0.8234777116195834,
          0.824965385207601,
          0.8263649044510083,
          0.8276758118754094,
          0.828897678499199,
          0.8300301040675152,
          0.8310727172707508,
          0.832025175947459,
          0.8328871672714908,
          0.8336584079232314,
          0.834338644244796,
          0.8349276523790689,
          0.8354252383924798,
          0.8358312383814228,
          0.8361455185622354,
          0.8363679753446679,
          0.8364985353887905,
          0.8365371556452886,
          0.83648382337912,
          0.8363385561765138,
          0.8361014019353054,
          0.8357724388386157,
          0.8353517753118956,
          0.8348395499633652,
          0.8342359315078998,
          0.8335411186744138,
          0.8327553400968207,
          0.8318788541886467,
          0.8309119490013996,
          0.8298549420667974,
          0.8287081802229801,
          0.8274720394248387,
          0.8261469245386,
          0.8247332691208374,
          0.82323153518206,
          0.8216422129350746,
          0.8199658205283054,
          0.8182029037642748,
          0.8163540358034623,
          0.8144198168537632,
          0.8124008738457857,
          0.8102978600942286,
          0.8081114549455988,
          0.805842363412535,
          0.8034913157950088,
          0.8010590672886917,
          0.7985463975807826,
          0.7959541104335944,
          0.7932830332562154,
          0.7905340166645631,
          0.7877079340301558,
          0.7848056810179402,
          0.7818281751135163,
          0.7787763551401071,
          0.7756511807656303,
          0.7724536320002331,
          0.7691847086846623,
          0.7658454299698296,
          0.7624368337879763,
          0.7589599763157892,
          0.7554159314298834,
          0.7518057901550284,
          0.7481306601055189,
          0.7443916649200891,
          0.7405899436907739,
          0.7367266503861222,
          0.7328029532691656,
          0.7288200343105607,
          0.7247790885973092,
          0.72068132373747,
          0.716527959261277,
          0.7123202260190783,
          0.7080593655765062,
          0.7037466296072951,
          0.699383279284162,
          0.6949705846681536,
          0.6905098240968812,
          0.6860022835720465,
          0.6814492561466652,
          0.676852041312396,
          0.6722119443873735,
          0.6675302759049525,
          0.6628083510037373,
          0.6580474888193267,
          0.6532490118781173,
          0.6484142454935844,
          0.6435445171654005,
          0.6386411559817735,
          0.6337054920253686,
          0.6287388557831812,
          0.6237425775607186,
          0.6187179869008331,
          0.613666412007568,
          0.6085891791753401,
          0.6034876122237983,
          0.5983630319386823,
          0.5932167555189963,
          0.5880500960308103,
          0.5828643618679901,
          0.5776608562201554,
          0.5724408765481388,
          0.567205714067242,
          0.5619566532385463,
          0.5566949712685416,
          0.5514219376173298,
          0.5461388135156392,
          0.540846851490896,
          0.5355472949025546,
          0.5302413774869442,
          0.5249303229117871,
          0.5196153443406292,
          0.5142976440073461,
          0.508978412800913,
          0.5036588298606027,
          0.49834006218177107,
          0.4930232642323866,
          0.487709577580425,
          0.48240013053228137,
          0.47709603778230353,
          0.4717984000735623,
          0.46650830386995784,
          0.4612268210397537,
          0.45595500855061766,
          0.4506939081762395,
          0.4454445462145947,
          0.4402079332178887,
          0.43498506373424445,
          0.42977691606115215,
          0.42458445201070893,
          0.41940861668666224,
          0.41425033827326047,
          0.4091105278359142,
          0.40399007913363244,
          0.3988898684432515,
          0.39381075439537916,
          0.3887535778220509,
          0.383719161616033,
          0.37870831060172,
          0.3737218114175636,
          0.3687604324099575,
          0.36382492353850526,
          0.3589160162925699,
          0.3540344236190265,
          0.34918083986110393,
          0.3443559407082094,
          0.33956038315661974,
          0.3347948054809162,
          0.3300598272160323,
          0.3253560491497784,
          0.3206840533257058,
          0.31604440305614956,
          0.3114376429453132,
          0.30686429892222367,
          0.30232487828339694,
          0.2978198697450447,
          0.2933497435046446,
          0.28891495131170536,
          0.28451592654752017,
          0.2801530843137602,
          0.27582682152966986,
          0.27153751703770956,
          0.2672855317174217,
          0.26307120860733146,
          0.2588948730346714,
          0.2547568327527251,
          0.2506573780855816,
          0.24659678208008043,
          0.24257530066474442,
          0.23859317281547485,
          0.23465062072779497,
          0.2307478499954217,
          0.2268850497949433,
          0.2230623930763883,
          0.21928003675944494,
          0.21553812193514002,
          0.21183677407271254,
          0.20817610323150115,
          0.20455620427758334,
          0.20097715710497102,
          0.19743902686112447,
          0.1939418641765663,
          0.19048570539837692,
          0.18707057282733777,
          0.18369647495852676,
          0.18036340672511755,
          0.17707134974519054,
          0.17382027257132673,
          0.1706101309427736,
          0.16744086803997665,
          0.164312414741252,
          0.1612246898814189,
          0.1581776005121524,
          0.15517104216389088,
          0.1522048991090643,
          0.14927904462647146,
          0.14639334126659795,
          0.14354764111768853,
          0.14074178607238647,
          0.13797560809474624,
          0.135248929487457,
          0.13256156315907058,
          0.1299133128910901,
          0.12730397360471987,
          0.12473333162712866,
          0.12220116495705265,
          0.1197072435295803,
          0.11725132947996558,
          0.11483317740630716,
          0.11245253463096357,
          0.11010914146053767,
          0.10780273144430788,
          0.1055330316309607,
          0.10329976282349439,
          0.10110263983216866,
          0.09894137172536718,
          0.09681566207827068,
          0.09472520921920197,
          0.09266970647355648,
          0.09064884240518863,
          0.08866230105516831,
          0.08670976217779974,
          0.08479090147381063,
          0.08290539082062455,
          0.08105289849962241,
          0.07923308942032503,
          0.07744562534140184,
          0.07569016508845094,
          0.07396636476846362,
          0.07227387798092165,
          0.07061235602545896,
          0.06898144810603216,
          0.06738080153154904,
          0.06581006191289884,
          0.064268873356351,
          0.06275687865326586,
          0.061273719466092155,
          0.05981903651060995,
          0.05839246973439073,
          0.05699365849144938,
          0.055622241713058254,
          0.054277858074715725,
          0.05296014615923643,
          0.051668744615966794,
          0.050403292316101925,
          0.049163428504106495,
          0.04794879294523165,
          0.046759026069128774,
          0.0455937691095631,
          0.04445266424022889,
          0.04333535470668256,
          0.04224148495439329,
          0.041170700752936655,
          0.040122649316337425,
          0.03909697941958675,
          0.03809334151135234,
          0.03711138782290524,
          0.03615077247329037,
          0.035211151570765056,
          0.034292183310542616,
          0.033393528068864496,
          0.03251484849344229,
          0.031655809590301516,
          0.030816078807066268,
          0.02999532611272468,
          0.02919322407391354,
          0.02840944792777031,
          0.027643675651388783,
          0.026895588027932533
         ],
         "yaxis": "y"
        },
        {
         "legendgroup": "height_ft",
         "marker": {
          "color": "green",
          "symbol": "line-ns-open"
         },
         "mode": "markers",
         "name": "height_ft",
         "showlegend": false,
         "type": "scatter",
         "x": [
          5.1,
          5.2,
          6,
          5.5,
          5.3,
          5.4,
          5.7,
          5.5,
          5.8,
          5.2,
          4.7,
          5.2,
          4.8,
          4.3,
          5.8,
          5.3,
          5.4,
          5.1,
          5.4,
          4.5,
          4.3,
          5.2,
          5.3,
          4.6,
          5.4,
          5,
          4.8,
          4.6,
          5.4,
          5.4,
          5.7,
          5.7,
          5.4,
          5.2,
          5.1,
          5.2,
          5.4,
          5.3,
          5.1,
          4.5,
          6.2,
          5.4,
          5,
          6,
          4.5,
          4.8,
          5.5,
          4.8,
          5.4,
          4.5,
          5.1,
          4,
          5.4,
          6.4,
          4.8,
          5,
          5.1,
          5.8,
          5.8,
          4.8,
          4.6,
          5.1,
          4.9,
          5.3,
          5.5,
          4.9,
          5,
          5.1,
          5,
          4.6,
          6,
          5.6,
          5.6,
          5,
          5.5,
          5.6,
          5.6,
          4.7,
          5.1,
          4.9,
          5,
          5.5,
          5,
          4.9,
          4.9,
          4.4,
          5.9,
          5.9,
          5.2,
          5.3,
          5,
          5.2,
          4.9,
          5.8,
          5.5,
          4.9,
          5.5,
          4,
          5.7,
          5,
          5.2,
          4.9,
          4.8,
          5.6,
          5.3,
          4.2,
          6.2,
          5.5,
          5.4,
          5.8,
          5.6,
          4.9,
          5.5,
          4.7,
          5.3,
          5.1,
          4.8,
          5.5,
          5.3,
          4.5,
          5.6,
          5,
          5,
          5.5,
          5.7,
          4.9,
          5.2,
          5.4,
          6.1,
          6.1,
          5.5,
          5.1,
          5,
          5.8,
          4.6,
          4.8,
          5.5,
          5.6,
          4.4,
          5.7,
          4.8,
          6.1,
          5.5,
          5.6,
          5.3,
          5.6,
          5,
          4.4,
          4.9,
          5.2,
          6,
          5.6,
          6,
          5.1,
          5.5,
          4.8,
          5.4,
          5.3,
          4.8,
          5,
          5,
          5.6,
          5.1,
          5,
          5.8,
          4.5,
          4.4,
          5.4,
          5.4,
          5.6,
          5.2,
          5.5,
          4.9,
          5.5,
          5.6,
          5.6,
          5.1,
          5.7,
          5.5,
          5.3,
          5.1,
          5,
          5.7,
          5.3,
          4.8,
          5.3,
          5.5,
          5.2,
          5.7,
          4.2,
          4.5,
          5.8,
          5.6,
          5.3,
          5.5,
          5.9,
          4.7,
          5.7,
          5.3,
          5.1,
          5.4,
          5.1,
          5.1,
          5.3,
          5.1,
          5.6,
          5.8,
          5.1,
          5.4,
          5,
          5.6,
          5.2,
          5.3,
          5.9,
          5.7,
          5.1,
          4.6,
          4.5,
          5.3,
          4.8,
          4.9,
          6,
          5.2,
          5.4,
          4.7,
          4.8,
          5.7,
          5.6,
          4.8,
          5.1,
          4.8,
          5.2,
          5,
          5.6,
          4.1,
          4.9,
          5.2,
          5.4,
          5.1,
          5,
          4.7,
          5.6,
          4.6,
          4.9,
          5.8,
          5.2,
          5.3,
          6.1,
          5.4,
          5.3,
          5.5,
          5.2,
          5.8,
          5.4,
          5.6,
          4.9,
          4.8,
          4.8,
          6,
          5,
          5.5,
          6.5,
          5,
          5.4,
          5.3,
          5.5,
          5.4,
          5.9,
          5.2,
          5.2,
          4.8,
          4.9,
          5,
          5.4,
          5.2,
          5.4,
          5.4,
          4,
          5.1,
          5.1,
          4.6,
          6.1,
          4.8,
          5.8,
          5.4,
          6.1,
          5.5,
          4.9,
          5.1,
          5.7,
          5.3,
          5.2,
          6.1,
          6.1,
          4.8,
          6.2,
          5,
          4.4,
          6.5,
          4.4,
          5.3,
          5.2,
          6,
          6,
          5,
          5.3,
          5.1,
          5,
          5.4,
          4.9,
          5.6,
          4.7,
          6.1,
          4.5,
          6.2,
          5.1,
          5.5,
          4.7,
          5.2,
          5.1,
          5.6,
          5.2,
          5.4,
          4.9,
          5,
          4.6,
          5.7,
          5.4,
          5.8,
          5.4,
          5,
          5.2,
          5.5,
          6.5,
          5.7,
          4.6,
          5.1,
          4.7,
          5.6,
          5.3,
          4.8,
          6.1,
          5,
          6.5,
          4.3,
          5.8,
          5.2,
          5.1,
          5.3,
          5.1,
          5.6,
          4.8,
          4.8,
          4.8,
          4.9,
          5.9,
          5.6,
          5.2,
          4.9,
          5.4,
          4.7,
          4.8,
          5,
          5.6,
          4,
          5.4,
          4.8,
          5.6,
          5.7,
          5,
          4.3,
          5.4,
          4.2,
          5.4,
          4.6,
          6.4,
          5.8,
          5.2,
          4.5,
          4.4,
          5.4,
          5.3,
          5.4,
          5.7,
          5.6,
          5.1,
          5.3,
          5.5,
          4.8,
          4.8,
          5,
          5.3,
          5.2,
          5.8,
          5.6,
          5.3,
          5.8,
          5.6,
          5.1,
          4.2,
          4.9,
          5.4,
          5.3,
          4.7,
          5,
          5.1,
          4.5,
          5.6,
          5.3,
          5,
          5.5,
          4.8,
          5.1,
          5,
          4.6,
          5.4,
          4.9,
          5.3,
          5.4,
          5.6,
          5.9,
          5.3,
          5.7,
          5.1,
          5,
          4.8,
          5,
          5.8,
          5.4,
          4.6,
          5,
          5.2,
          5.1,
          5.4,
          4.7,
          5.8,
          4.7,
          6,
          5.7,
          5,
          4.4,
          5.5,
          6,
          5.6,
          5.2,
          5,
          4.4,
          5.5,
          5.6,
          4.6,
          4.7,
          6.1,
          6.1,
          5.8,
          5.2,
          5.4,
          5.4,
          4.1,
          6,
          5.5,
          6.5,
          5.6,
          4.6,
          6.1,
          5.8,
          5.4,
          5.9,
          4.5,
          5.7,
          5.5,
          5.4,
          5.4,
          5.1,
          5.9,
          4.8,
          5.2,
          4.9,
          5.3,
          5.6,
          5.4,
          5.4,
          5.3,
          4.9,
          5.1,
          5,
          5.8,
          5.5,
          4.7,
          5.5,
          5.3,
          5,
          6.5,
          5.5,
          5.1,
          4.2,
          5.1,
          5.4,
          5.7,
          5.3,
          5.2,
          5.9,
          5.2,
          4.9,
          5.2,
          4.3,
          4.7,
          5.3,
          5.4,
          5.2,
          4.9,
          5.4,
          5.4,
          6,
          4.9,
          5.2,
          5.9,
          5.3,
          4.9,
          5.9,
          4.4,
          6.2,
          5.7,
          5.2,
          4.6,
          5,
          5.5,
          5.1,
          5.5,
          5.8,
          4.9,
          5.2,
          4.7,
          5.3,
          5.1,
          5.9,
          5.4,
          6,
          5.2,
          5.6,
          4.5,
          5.4,
          4.9,
          5.7,
          4.9,
          5.5,
          4.8,
          5.7,
          5.4,
          4.9,
          5.2,
          4.6,
          6.4,
          5.7,
          5.9,
          5.9,
          5,
          5.7,
          4.7,
          4.7,
          4.5,
          5.3,
          5.9,
          5,
          4.7,
          4.5,
          5.8,
          5.6,
          5,
          4.5,
          4.4,
          5.6,
          5.5,
          4.8,
          5.5,
          4.9,
          5.2,
          4.8,
          5.4,
          5.1,
          4.6,
          5.5,
          4.8,
          4.9,
          5,
          5.1,
          5.2,
          4,
          5.5,
          5.4,
          5.4,
          4.7,
          5.6,
          5.1,
          5,
          5.4,
          6,
          5.8,
          4.3,
          6,
          5.2,
          4.6,
          5.6,
          5.1,
          5,
          4,
          5.2,
          5.7,
          5,
          5.9,
          6.2,
          5.1,
          5.7,
          5.3,
          5.9,
          4.3,
          5.2,
          4.7,
          5.2,
          5.6,
          5.8,
          5.3,
          5.4,
          5.6,
          4.9,
          5.1,
          5.1,
          5.4,
          5.4,
          4.8,
          5.3,
          5.1,
          5.8,
          4.4,
          4.8,
          5.1,
          5,
          5.6,
          5.7,
          6,
          5.3,
          5.1,
          5.8,
          5,
          5.3,
          5,
          5.2,
          5.5,
          4.7,
          5.6,
          4.4,
          4.9,
          6.1,
          5.2,
          5.2,
          5.2,
          5.8,
          5.2,
          5.1,
          6.1,
          5.6,
          4.4,
          5.7,
          5.2,
          5.9,
          5.8,
          5.2,
          4.9,
          5.4,
          4.8,
          5.5,
          5,
          4.6,
          5.8,
          4.7,
          5,
          4.7,
          6.4,
          4.9,
          4.3,
          6.1,
          4.8,
          5.3,
          5.8,
          4.5,
          5.2,
          6,
          5.5,
          5,
          5.6,
          5.6,
          5.5,
          5.6,
          4.9,
          5.5,
          5.7,
          5.4,
          5.7,
          4.9,
          4.6,
          5.1,
          5.3,
          5.4,
          5.6,
          6.2,
          5,
          5.1,
          5.3,
          5.2,
          5.2,
          5.7,
          5.4,
          5.2,
          5.2,
          5,
          5,
          5.2,
          5.4,
          5.5,
          4.9,
          5.2,
          5.5,
          5.2,
          5.1,
          6.1,
          6.1,
          6.4,
          5.2,
          4.9,
          5.2,
          6.1,
          5.6,
          5.4,
          5,
          5.4,
          5.2,
          5.4,
          5.7,
          4.4,
          5.8,
          4.9,
          4,
          5.2,
          5.3,
          5.6,
          4.4,
          4.5,
          4.8,
          5.7,
          5.4,
          4.8,
          5.5,
          5.2,
          4.5,
          5.7,
          5.4,
          5.6,
          4.9,
          5.3,
          5.3,
          5,
          4.6,
          5.9,
          5.2,
          5.6,
          5.3,
          4.9,
          5.4,
          4.8,
          5,
          5.3,
          5.7,
          4.8,
          4.5,
          5.2,
          4.6,
          5.3,
          5.7,
          5.6,
          5,
          4.9,
          5.4,
          6.4,
          4.3,
          4.2,
          4.7,
          5.3,
          4.8,
          5.2,
          5.5,
          4,
          4.9,
          4.8,
          4.8,
          4.5,
          6.1,
          4.9,
          5.3,
          5.8,
          5.6,
          5.8,
          6,
          4.8,
          4.6,
          5.7,
          4.9,
          5.2,
          5,
          4.9,
          4.3,
          5.7,
          5.2,
          5.1,
          5,
          5.8,
          4.7,
          5,
          4.7,
          5.4,
          4.9,
          4.3,
          5.2,
          4.9,
          5.1,
          4.2,
          5.1,
          5.5,
          5.6,
          4.4,
          5.5,
          4.8,
          6.4,
          5.3,
          5.7,
          5.8,
          5.4,
          5.1,
          5.4,
          5.6,
          5.7,
          5.3,
          5.1,
          5.6,
          5.7,
          5.4,
          4.6,
          5.4,
          5.4,
          5.2,
          5.6,
          6.4,
          5.4,
          5.5,
          5,
          5.5,
          5.5,
          6.2,
          5,
          5.9,
          4.9,
          4.9,
          4.5,
          5.4,
          5.4,
          5.4,
          5.9,
          5.4,
          4.9,
          4.9,
          4.3,
          5.7,
          5.9,
          4.3,
          6,
          4,
          5.7,
          5,
          5.6,
          5.5,
          4.8,
          5.5,
          5.2,
          5.1,
          4.1,
          5.5,
          5.4,
          4.1,
          5.1,
          5.4,
          5.7,
          5.8,
          6.2,
          5.5,
          5.7,
          5.4,
          5.8,
          4.4,
          4.7,
          5.4,
          5.2,
          5.2,
          5.2,
          5.5,
          5.6,
          5.4,
          5.2,
          5.8,
          5.1,
          6.4,
          5.6,
          5.5,
          4.9,
          5.3,
          5.6,
          5.6,
          4.9,
          5,
          5.4,
          4.1,
          4.5,
          5.8,
          5.4,
          5,
          5.9,
          5.5,
          5.8,
          5.3,
          5,
          5.5,
          5.4,
          5.2,
          4.3,
          5.4,
          5.6,
          4.2,
          5.1,
          4.5,
          4.8,
          4.8,
          5.6,
          5.7,
          5,
          5,
          5.2,
          5.7,
          4.9,
          5.7,
          5.8,
          5.9,
          4.1,
          5.2,
          5,
          5.9,
          5.5,
          5.7,
          5.9,
          4.5,
          5,
          5.4,
          5.6,
          5,
          4.8,
          6,
          6.1,
          5.2,
          5.2,
          4.9,
          5.1,
          4.3,
          4.8,
          5.3,
          5.3,
          4.7,
          5.4,
          5.3,
          6.2,
          5,
          5.5,
          4.4,
          5.5,
          5.5,
          4.6,
          4.9,
          5.5,
          5.1,
          5.4,
          5,
          5.2,
          5.3,
          5.2,
          4.7,
          5.4,
          5.1,
          5.3,
          4.3,
          5.2,
          5.8,
          5.3,
          5.7,
          4.9,
          5.5
         ],
         "xaxis": "x",
         "y": [
          "height_ft",
          "height_ft",
          "height_ft",
          "height_ft",
          "height_ft",
          "height_ft",
          "height_ft",
          "height_ft",
          "height_ft",
          "height_ft",
          "height_ft",
          "height_ft",
          "height_ft",
          "height_ft",
          "height_ft",
          "height_ft",
          "height_ft",
          "height_ft",
          "height_ft",
          "height_ft",
          "height_ft",
          "height_ft",
          "height_ft",
          "height_ft",
          "height_ft",
          "height_ft",
          "height_ft",
          "height_ft",
          "height_ft",
          "height_ft",
          "height_ft",
          "height_ft",
          "height_ft",
          "height_ft",
          "height_ft",
          "height_ft",
          "height_ft",
          "height_ft",
          "height_ft",
          "height_ft",
          "height_ft",
          "height_ft",
          "height_ft",
          "height_ft",
          "height_ft",
          "height_ft",
          "height_ft",
          "height_ft",
          "height_ft",
          "height_ft",
          "height_ft",
          "height_ft",
          "height_ft",
          "height_ft",
          "height_ft",
          "height_ft",
          "height_ft",
          "height_ft",
          "height_ft",
          "height_ft",
          "height_ft",
          "height_ft",
          "height_ft",
          "height_ft",
          "height_ft",
          "height_ft",
          "height_ft",
          "height_ft",
          "height_ft",
          "height_ft",
          "height_ft",
          "height_ft",
          "height_ft",
          "height_ft",
          "height_ft",
          "height_ft",
          "height_ft",
          "height_ft",
          "height_ft",
          "height_ft",
          "height_ft",
          "height_ft",
          "height_ft",
          "height_ft",
          "height_ft",
          "height_ft",
          "height_ft",
          "height_ft",
          "height_ft",
          "height_ft",
          "height_ft",
          "height_ft",
          "height_ft",
          "height_ft",
          "height_ft",
          "height_ft",
          "height_ft",
          "height_ft",
          "height_ft",
          "height_ft",
          "height_ft",
          "height_ft",
          "height_ft",
          "height_ft",
          "height_ft",
          "height_ft",
          "height_ft",
          "height_ft",
          "height_ft",
          "height_ft",
          "height_ft",
          "height_ft",
          "height_ft",
          "height_ft",
          "height_ft",
          "height_ft",
          "height_ft",
          "height_ft",
          "height_ft",
          "height_ft",
          "height_ft",
          "height_ft",
          "height_ft",
          "height_ft",
          "height_ft",
          "height_ft",
          "height_ft",
          "height_ft",
          "height_ft",
          "height_ft",
          "height_ft",
          "height_ft",
          "height_ft",
          "height_ft",
          "height_ft",
          "height_ft",
          "height_ft",
          "height_ft",
          "height_ft",
          "height_ft",
          "height_ft",
          "height_ft",
          "height_ft",
          "height_ft",
          "height_ft",
          "height_ft",
          "height_ft",
          "height_ft",
          "height_ft",
          "height_ft",
          "height_ft",
          "height_ft",
          "height_ft",
          "height_ft",
          "height_ft",
          "height_ft",
          "height_ft",
          "height_ft",
          "height_ft",
          "height_ft",
          "height_ft",
          "height_ft",
          "height_ft",
          "height_ft",
          "height_ft",
          "height_ft",
          "height_ft",
          "height_ft",
          "height_ft",
          "height_ft",
          "height_ft",
          "height_ft",
          "height_ft",
          "height_ft",
          "height_ft",
          "height_ft",
          "height_ft",
          "height_ft",
          "height_ft",
          "height_ft",
          "height_ft",
          "height_ft",
          "height_ft",
          "height_ft",
          "height_ft",
          "height_ft",
          "height_ft",
          "height_ft",
          "height_ft",
          "height_ft",
          "height_ft",
          "height_ft",
          "height_ft",
          "height_ft",
          "height_ft",
          "height_ft",
          "height_ft",
          "height_ft",
          "height_ft",
          "height_ft",
          "height_ft",
          "height_ft",
          "height_ft",
          "height_ft",
          "height_ft",
          "height_ft",
          "height_ft",
          "height_ft",
          "height_ft",
          "height_ft",
          "height_ft",
          "height_ft",
          "height_ft",
          "height_ft",
          "height_ft",
          "height_ft",
          "height_ft",
          "height_ft",
          "height_ft",
          "height_ft",
          "height_ft",
          "height_ft",
          "height_ft",
          "height_ft",
          "height_ft",
          "height_ft",
          "height_ft",
          "height_ft",
          "height_ft",
          "height_ft",
          "height_ft",
          "height_ft",
          "height_ft",
          "height_ft",
          "height_ft",
          "height_ft",
          "height_ft",
          "height_ft",
          "height_ft",
          "height_ft",
          "height_ft",
          "height_ft",
          "height_ft",
          "height_ft",
          "height_ft",
          "height_ft",
          "height_ft",
          "height_ft",
          "height_ft",
          "height_ft",
          "height_ft",
          "height_ft",
          "height_ft",
          "height_ft",
          "height_ft",
          "height_ft",
          "height_ft",
          "height_ft",
          "height_ft",
          "height_ft",
          "height_ft",
          "height_ft",
          "height_ft",
          "height_ft",
          "height_ft",
          "height_ft",
          "height_ft",
          "height_ft",
          "height_ft",
          "height_ft",
          "height_ft",
          "height_ft",
          "height_ft",
          "height_ft",
          "height_ft",
          "height_ft",
          "height_ft",
          "height_ft",
          "height_ft",
          "height_ft",
          "height_ft",
          "height_ft",
          "height_ft",
          "height_ft",
          "height_ft",
          "height_ft",
          "height_ft",
          "height_ft",
          "height_ft",
          "height_ft",
          "height_ft",
          "height_ft",
          "height_ft",
          "height_ft",
          "height_ft",
          "height_ft",
          "height_ft",
          "height_ft",
          "height_ft",
          "height_ft",
          "height_ft",
          "height_ft",
          "height_ft",
          "height_ft",
          "height_ft",
          "height_ft",
          "height_ft",
          "height_ft",
          "height_ft",
          "height_ft",
          "height_ft",
          "height_ft",
          "height_ft",
          "height_ft",
          "height_ft",
          "height_ft",
          "height_ft",
          "height_ft",
          "height_ft",
          "height_ft",
          "height_ft",
          "height_ft",
          "height_ft",
          "height_ft",
          "height_ft",
          "height_ft",
          "height_ft",
          "height_ft",
          "height_ft",
          "height_ft",
          "height_ft",
          "height_ft",
          "height_ft",
          "height_ft",
          "height_ft",
          "height_ft",
          "height_ft",
          "height_ft",
          "height_ft",
          "height_ft",
          "height_ft",
          "height_ft",
          "height_ft",
          "height_ft",
          "height_ft",
          "height_ft",
          "height_ft",
          "height_ft",
          "height_ft",
          "height_ft",
          "height_ft",
          "height_ft",
          "height_ft",
          "height_ft",
          "height_ft",
          "height_ft",
          "height_ft",
          "height_ft",
          "height_ft",
          "height_ft",
          "height_ft",
          "height_ft",
          "height_ft",
          "height_ft",
          "height_ft",
          "height_ft",
          "height_ft",
          "height_ft",
          "height_ft",
          "height_ft",
          "height_ft",
          "height_ft",
          "height_ft",
          "height_ft",
          "height_ft",
          "height_ft",
          "height_ft",
          "height_ft",
          "height_ft",
          "height_ft",
          "height_ft",
          "height_ft",
          "height_ft",
          "height_ft",
          "height_ft",
          "height_ft",
          "height_ft",
          "height_ft",
          "height_ft",
          "height_ft",
          "height_ft",
          "height_ft",
          "height_ft",
          "height_ft",
          "height_ft",
          "height_ft",
          "height_ft",
          "height_ft",
          "height_ft",
          "height_ft",
          "height_ft",
          "height_ft",
          "height_ft",
          "height_ft",
          "height_ft",
          "height_ft",
          "height_ft",
          "height_ft",
          "height_ft",
          "height_ft",
          "height_ft",
          "height_ft",
          "height_ft",
          "height_ft",
          "height_ft",
          "height_ft",
          "height_ft",
          "height_ft",
          "height_ft",
          "height_ft",
          "height_ft",
          "height_ft",
          "height_ft",
          "height_ft",
          "height_ft",
          "height_ft",
          "height_ft",
          "height_ft",
          "height_ft",
          "height_ft",
          "height_ft",
          "height_ft",
          "height_ft",
          "height_ft",
          "height_ft",
          "height_ft",
          "height_ft",
          "height_ft",
          "height_ft",
          "height_ft",
          "height_ft",
          "height_ft",
          "height_ft",
          "height_ft",
          "height_ft",
          "height_ft",
          "height_ft",
          "height_ft",
          "height_ft",
          "height_ft",
          "height_ft",
          "height_ft",
          "height_ft",
          "height_ft",
          "height_ft",
          "height_ft",
          "height_ft",
          "height_ft",
          "height_ft",
          "height_ft",
          "height_ft",
          "height_ft",
          "height_ft",
          "height_ft",
          "height_ft",
          "height_ft",
          "height_ft",
          "height_ft",
          "height_ft",
          "height_ft",
          "height_ft",
          "height_ft",
          "height_ft",
          "height_ft",
          "height_ft",
          "height_ft",
          "height_ft",
          "height_ft",
          "height_ft",
          "height_ft",
          "height_ft",
          "height_ft",
          "height_ft",
          "height_ft",
          "height_ft",
          "height_ft",
          "height_ft",
          "height_ft",
          "height_ft",
          "height_ft",
          "height_ft",
          "height_ft",
          "height_ft",
          "height_ft",
          "height_ft",
          "height_ft",
          "height_ft",
          "height_ft",
          "height_ft",
          "height_ft",
          "height_ft",
          "height_ft",
          "height_ft",
          "height_ft",
          "height_ft",
          "height_ft",
          "height_ft",
          "height_ft",
          "height_ft",
          "height_ft",
          "height_ft",
          "height_ft",
          "height_ft",
          "height_ft",
          "height_ft",
          "height_ft",
          "height_ft",
          "height_ft",
          "height_ft",
          "height_ft",
          "height_ft",
          "height_ft",
          "height_ft",
          "height_ft",
          "height_ft",
          "height_ft",
          "height_ft",
          "height_ft",
          "height_ft",
          "height_ft",
          "height_ft",
          "height_ft",
          "height_ft",
          "height_ft",
          "height_ft",
          "height_ft",
          "height_ft",
          "height_ft",
          "height_ft",
          "height_ft",
          "height_ft",
          "height_ft",
          "height_ft",
          "height_ft",
          "height_ft",
          "height_ft",
          "height_ft",
          "height_ft",
          "height_ft",
          "height_ft",
          "height_ft",
          "height_ft",
          "height_ft",
          "height_ft",
          "height_ft",
          "height_ft",
          "height_ft",
          "height_ft",
          "height_ft",
          "height_ft",
          "height_ft",
          "height_ft",
          "height_ft",
          "height_ft",
          "height_ft",
          "height_ft",
          "height_ft",
          "height_ft",
          "height_ft",
          "height_ft",
          "height_ft",
          "height_ft",
          "height_ft",
          "height_ft",
          "height_ft",
          "height_ft",
          "height_ft",
          "height_ft",
          "height_ft",
          "height_ft",
          "height_ft",
          "height_ft",
          "height_ft",
          "height_ft",
          "height_ft",
          "height_ft",
          "height_ft",
          "height_ft",
          "height_ft",
          "height_ft",
          "height_ft",
          "height_ft",
          "height_ft",
          "height_ft",
          "height_ft",
          "height_ft",
          "height_ft",
          "height_ft",
          "height_ft",
          "height_ft",
          "height_ft",
          "height_ft",
          "height_ft",
          "height_ft",
          "height_ft",
          "height_ft",
          "height_ft",
          "height_ft",
          "height_ft",
          "height_ft",
          "height_ft",
          "height_ft",
          "height_ft",
          "height_ft",
          "height_ft",
          "height_ft",
          "height_ft",
          "height_ft",
          "height_ft",
          "height_ft",
          "height_ft",
          "height_ft",
          "height_ft",
          "height_ft",
          "height_ft",
          "height_ft",
          "height_ft",
          "height_ft",
          "height_ft",
          "height_ft",
          "height_ft",
          "height_ft",
          "height_ft",
          "height_ft",
          "height_ft",
          "height_ft",
          "height_ft",
          "height_ft",
          "height_ft",
          "height_ft",
          "height_ft",
          "height_ft",
          "height_ft",
          "height_ft",
          "height_ft",
          "height_ft",
          "height_ft",
          "height_ft",
          "height_ft",
          "height_ft",
          "height_ft",
          "height_ft",
          "height_ft",
          "height_ft",
          "height_ft",
          "height_ft",
          "height_ft",
          "height_ft",
          "height_ft",
          "height_ft",
          "height_ft",
          "height_ft",
          "height_ft",
          "height_ft",
          "height_ft",
          "height_ft",
          "height_ft",
          "height_ft",
          "height_ft",
          "height_ft",
          "height_ft",
          "height_ft",
          "height_ft",
          "height_ft",
          "height_ft",
          "height_ft",
          "height_ft",
          "height_ft",
          "height_ft",
          "height_ft",
          "height_ft",
          "height_ft",
          "height_ft",
          "height_ft",
          "height_ft",
          "height_ft",
          "height_ft",
          "height_ft",
          "height_ft",
          "height_ft",
          "height_ft",
          "height_ft",
          "height_ft",
          "height_ft",
          "height_ft",
          "height_ft",
          "height_ft",
          "height_ft",
          "height_ft",
          "height_ft",
          "height_ft",
          "height_ft",
          "height_ft",
          "height_ft",
          "height_ft",
          "height_ft",
          "height_ft",
          "height_ft",
          "height_ft",
          "height_ft",
          "height_ft",
          "height_ft",
          "height_ft",
          "height_ft",
          "height_ft",
          "height_ft",
          "height_ft",
          "height_ft",
          "height_ft",
          "height_ft",
          "height_ft",
          "height_ft",
          "height_ft",
          "height_ft",
          "height_ft",
          "height_ft",
          "height_ft",
          "height_ft",
          "height_ft",
          "height_ft",
          "height_ft",
          "height_ft",
          "height_ft",
          "height_ft",
          "height_ft",
          "height_ft",
          "height_ft",
          "height_ft",
          "height_ft",
          "height_ft",
          "height_ft",
          "height_ft",
          "height_ft",
          "height_ft",
          "height_ft",
          "height_ft",
          "height_ft",
          "height_ft",
          "height_ft",
          "height_ft",
          "height_ft",
          "height_ft",
          "height_ft",
          "height_ft",
          "height_ft",
          "height_ft",
          "height_ft",
          "height_ft",
          "height_ft",
          "height_ft",
          "height_ft",
          "height_ft",
          "height_ft",
          "height_ft",
          "height_ft",
          "height_ft",
          "height_ft",
          "height_ft",
          "height_ft",
          "height_ft",
          "height_ft",
          "height_ft",
          "height_ft",
          "height_ft",
          "height_ft",
          "height_ft",
          "height_ft",
          "height_ft",
          "height_ft",
          "height_ft",
          "height_ft",
          "height_ft",
          "height_ft",
          "height_ft",
          "height_ft",
          "height_ft",
          "height_ft",
          "height_ft",
          "height_ft",
          "height_ft",
          "height_ft",
          "height_ft",
          "height_ft",
          "height_ft",
          "height_ft",
          "height_ft",
          "height_ft",
          "height_ft",
          "height_ft",
          "height_ft",
          "height_ft",
          "height_ft",
          "height_ft",
          "height_ft",
          "height_ft",
          "height_ft",
          "height_ft",
          "height_ft",
          "height_ft",
          "height_ft",
          "height_ft",
          "height_ft",
          "height_ft",
          "height_ft",
          "height_ft",
          "height_ft",
          "height_ft",
          "height_ft",
          "height_ft",
          "height_ft",
          "height_ft",
          "height_ft",
          "height_ft",
          "height_ft",
          "height_ft",
          "height_ft",
          "height_ft",
          "height_ft",
          "height_ft",
          "height_ft",
          "height_ft",
          "height_ft",
          "height_ft",
          "height_ft",
          "height_ft",
          "height_ft",
          "height_ft",
          "height_ft",
          "height_ft",
          "height_ft",
          "height_ft",
          "height_ft",
          "height_ft",
          "height_ft",
          "height_ft",
          "height_ft",
          "height_ft",
          "height_ft",
          "height_ft",
          "height_ft",
          "height_ft",
          "height_ft",
          "height_ft",
          "height_ft",
          "height_ft",
          "height_ft",
          "height_ft",
          "height_ft",
          "height_ft",
          "height_ft",
          "height_ft",
          "height_ft",
          "height_ft",
          "height_ft",
          "height_ft",
          "height_ft",
          "height_ft",
          "height_ft",
          "height_ft",
          "height_ft",
          "height_ft",
          "height_ft",
          "height_ft",
          "height_ft",
          "height_ft",
          "height_ft",
          "height_ft",
          "height_ft",
          "height_ft",
          "height_ft",
          "height_ft",
          "height_ft",
          "height_ft",
          "height_ft",
          "height_ft",
          "height_ft",
          "height_ft",
          "height_ft",
          "height_ft",
          "height_ft",
          "height_ft",
          "height_ft",
          "height_ft",
          "height_ft",
          "height_ft",
          "height_ft",
          "height_ft",
          "height_ft",
          "height_ft",
          "height_ft",
          "height_ft",
          "height_ft",
          "height_ft",
          "height_ft",
          "height_ft",
          "height_ft",
          "height_ft",
          "height_ft",
          "height_ft",
          "height_ft",
          "height_ft",
          "height_ft",
          "height_ft",
          "height_ft",
          "height_ft",
          "height_ft",
          "height_ft",
          "height_ft",
          "height_ft",
          "height_ft",
          "height_ft",
          "height_ft",
          "height_ft",
          "height_ft",
          "height_ft",
          "height_ft",
          "height_ft",
          "height_ft",
          "height_ft",
          "height_ft",
          "height_ft",
          "height_ft",
          "height_ft",
          "height_ft",
          "height_ft",
          "height_ft",
          "height_ft",
          "height_ft",
          "height_ft",
          "height_ft",
          "height_ft",
          "height_ft",
          "height_ft",
          "height_ft",
          "height_ft",
          "height_ft",
          "height_ft",
          "height_ft",
          "height_ft",
          "height_ft",
          "height_ft",
          "height_ft",
          "height_ft",
          "height_ft",
          "height_ft",
          "height_ft",
          "height_ft",
          "height_ft",
          "height_ft",
          "height_ft",
          "height_ft",
          "height_ft",
          "height_ft",
          "height_ft",
          "height_ft",
          "height_ft",
          "height_ft",
          "height_ft",
          "height_ft",
          "height_ft",
          "height_ft",
          "height_ft",
          "height_ft",
          "height_ft",
          "height_ft",
          "height_ft",
          "height_ft",
          "height_ft",
          "height_ft",
          "height_ft",
          "height_ft",
          "height_ft",
          "height_ft",
          "height_ft",
          "height_ft",
          "height_ft",
          "height_ft",
          "height_ft",
          "height_ft",
          "height_ft",
          "height_ft",
          "height_ft",
          "height_ft",
          "height_ft",
          "height_ft",
          "height_ft",
          "height_ft",
          "height_ft",
          "height_ft",
          "height_ft"
         ],
         "yaxis": "y2"
        }
       ],
       "layout": {
        "bargap": 0.1,
        "barmode": "overlay",
        "hovermode": "closest",
        "legend": {
         "traceorder": "reversed"
        },
        "template": {
         "data": {
          "bar": [
           {
            "error_x": {
             "color": "#2a3f5f"
            },
            "error_y": {
             "color": "#2a3f5f"
            },
            "marker": {
             "line": {
              "color": "#E5ECF6",
              "width": 0.5
             },
             "pattern": {
              "fillmode": "overlay",
              "size": 10,
              "solidity": 0.2
             }
            },
            "type": "bar"
           }
          ],
          "barpolar": [
           {
            "marker": {
             "line": {
              "color": "#E5ECF6",
              "width": 0.5
             },
             "pattern": {
              "fillmode": "overlay",
              "size": 10,
              "solidity": 0.2
             }
            },
            "type": "barpolar"
           }
          ],
          "carpet": [
           {
            "aaxis": {
             "endlinecolor": "#2a3f5f",
             "gridcolor": "white",
             "linecolor": "white",
             "minorgridcolor": "white",
             "startlinecolor": "#2a3f5f"
            },
            "baxis": {
             "endlinecolor": "#2a3f5f",
             "gridcolor": "white",
             "linecolor": "white",
             "minorgridcolor": "white",
             "startlinecolor": "#2a3f5f"
            },
            "type": "carpet"
           }
          ],
          "choropleth": [
           {
            "colorbar": {
             "outlinewidth": 0,
             "ticks": ""
            },
            "type": "choropleth"
           }
          ],
          "contour": [
           {
            "colorbar": {
             "outlinewidth": 0,
             "ticks": ""
            },
            "colorscale": [
             [
              0,
              "#0d0887"
             ],
             [
              0.1111111111111111,
              "#46039f"
             ],
             [
              0.2222222222222222,
              "#7201a8"
             ],
             [
              0.3333333333333333,
              "#9c179e"
             ],
             [
              0.4444444444444444,
              "#bd3786"
             ],
             [
              0.5555555555555556,
              "#d8576b"
             ],
             [
              0.6666666666666666,
              "#ed7953"
             ],
             [
              0.7777777777777778,
              "#fb9f3a"
             ],
             [
              0.8888888888888888,
              "#fdca26"
             ],
             [
              1,
              "#f0f921"
             ]
            ],
            "type": "contour"
           }
          ],
          "contourcarpet": [
           {
            "colorbar": {
             "outlinewidth": 0,
             "ticks": ""
            },
            "type": "contourcarpet"
           }
          ],
          "heatmap": [
           {
            "colorbar": {
             "outlinewidth": 0,
             "ticks": ""
            },
            "colorscale": [
             [
              0,
              "#0d0887"
             ],
             [
              0.1111111111111111,
              "#46039f"
             ],
             [
              0.2222222222222222,
              "#7201a8"
             ],
             [
              0.3333333333333333,
              "#9c179e"
             ],
             [
              0.4444444444444444,
              "#bd3786"
             ],
             [
              0.5555555555555556,
              "#d8576b"
             ],
             [
              0.6666666666666666,
              "#ed7953"
             ],
             [
              0.7777777777777778,
              "#fb9f3a"
             ],
             [
              0.8888888888888888,
              "#fdca26"
             ],
             [
              1,
              "#f0f921"
             ]
            ],
            "type": "heatmap"
           }
          ],
          "heatmapgl": [
           {
            "colorbar": {
             "outlinewidth": 0,
             "ticks": ""
            },
            "colorscale": [
             [
              0,
              "#0d0887"
             ],
             [
              0.1111111111111111,
              "#46039f"
             ],
             [
              0.2222222222222222,
              "#7201a8"
             ],
             [
              0.3333333333333333,
              "#9c179e"
             ],
             [
              0.4444444444444444,
              "#bd3786"
             ],
             [
              0.5555555555555556,
              "#d8576b"
             ],
             [
              0.6666666666666666,
              "#ed7953"
             ],
             [
              0.7777777777777778,
              "#fb9f3a"
             ],
             [
              0.8888888888888888,
              "#fdca26"
             ],
             [
              1,
              "#f0f921"
             ]
            ],
            "type": "heatmapgl"
           }
          ],
          "histogram": [
           {
            "marker": {
             "pattern": {
              "fillmode": "overlay",
              "size": 10,
              "solidity": 0.2
             }
            },
            "type": "histogram"
           }
          ],
          "histogram2d": [
           {
            "colorbar": {
             "outlinewidth": 0,
             "ticks": ""
            },
            "colorscale": [
             [
              0,
              "#0d0887"
             ],
             [
              0.1111111111111111,
              "#46039f"
             ],
             [
              0.2222222222222222,
              "#7201a8"
             ],
             [
              0.3333333333333333,
              "#9c179e"
             ],
             [
              0.4444444444444444,
              "#bd3786"
             ],
             [
              0.5555555555555556,
              "#d8576b"
             ],
             [
              0.6666666666666666,
              "#ed7953"
             ],
             [
              0.7777777777777778,
              "#fb9f3a"
             ],
             [
              0.8888888888888888,
              "#fdca26"
             ],
             [
              1,
              "#f0f921"
             ]
            ],
            "type": "histogram2d"
           }
          ],
          "histogram2dcontour": [
           {
            "colorbar": {
             "outlinewidth": 0,
             "ticks": ""
            },
            "colorscale": [
             [
              0,
              "#0d0887"
             ],
             [
              0.1111111111111111,
              "#46039f"
             ],
             [
              0.2222222222222222,
              "#7201a8"
             ],
             [
              0.3333333333333333,
              "#9c179e"
             ],
             [
              0.4444444444444444,
              "#bd3786"
             ],
             [
              0.5555555555555556,
              "#d8576b"
             ],
             [
              0.6666666666666666,
              "#ed7953"
             ],
             [
              0.7777777777777778,
              "#fb9f3a"
             ],
             [
              0.8888888888888888,
              "#fdca26"
             ],
             [
              1,
              "#f0f921"
             ]
            ],
            "type": "histogram2dcontour"
           }
          ],
          "mesh3d": [
           {
            "colorbar": {
             "outlinewidth": 0,
             "ticks": ""
            },
            "type": "mesh3d"
           }
          ],
          "parcoords": [
           {
            "line": {
             "colorbar": {
              "outlinewidth": 0,
              "ticks": ""
             }
            },
            "type": "parcoords"
           }
          ],
          "pie": [
           {
            "automargin": true,
            "type": "pie"
           }
          ],
          "scatter": [
           {
            "fillpattern": {
             "fillmode": "overlay",
             "size": 10,
             "solidity": 0.2
            },
            "type": "scatter"
           }
          ],
          "scatter3d": [
           {
            "line": {
             "colorbar": {
              "outlinewidth": 0,
              "ticks": ""
             }
            },
            "marker": {
             "colorbar": {
              "outlinewidth": 0,
              "ticks": ""
             }
            },
            "type": "scatter3d"
           }
          ],
          "scattercarpet": [
           {
            "marker": {
             "colorbar": {
              "outlinewidth": 0,
              "ticks": ""
             }
            },
            "type": "scattercarpet"
           }
          ],
          "scattergeo": [
           {
            "marker": {
             "colorbar": {
              "outlinewidth": 0,
              "ticks": ""
             }
            },
            "type": "scattergeo"
           }
          ],
          "scattergl": [
           {
            "marker": {
             "colorbar": {
              "outlinewidth": 0,
              "ticks": ""
             }
            },
            "type": "scattergl"
           }
          ],
          "scattermapbox": [
           {
            "marker": {
             "colorbar": {
              "outlinewidth": 0,
              "ticks": ""
             }
            },
            "type": "scattermapbox"
           }
          ],
          "scatterpolar": [
           {
            "marker": {
             "colorbar": {
              "outlinewidth": 0,
              "ticks": ""
             }
            },
            "type": "scatterpolar"
           }
          ],
          "scatterpolargl": [
           {
            "marker": {
             "colorbar": {
              "outlinewidth": 0,
              "ticks": ""
             }
            },
            "type": "scatterpolargl"
           }
          ],
          "scatterternary": [
           {
            "marker": {
             "colorbar": {
              "outlinewidth": 0,
              "ticks": ""
             }
            },
            "type": "scatterternary"
           }
          ],
          "surface": [
           {
            "colorbar": {
             "outlinewidth": 0,
             "ticks": ""
            },
            "colorscale": [
             [
              0,
              "#0d0887"
             ],
             [
              0.1111111111111111,
              "#46039f"
             ],
             [
              0.2222222222222222,
              "#7201a8"
             ],
             [
              0.3333333333333333,
              "#9c179e"
             ],
             [
              0.4444444444444444,
              "#bd3786"
             ],
             [
              0.5555555555555556,
              "#d8576b"
             ],
             [
              0.6666666666666666,
              "#ed7953"
             ],
             [
              0.7777777777777778,
              "#fb9f3a"
             ],
             [
              0.8888888888888888,
              "#fdca26"
             ],
             [
              1,
              "#f0f921"
             ]
            ],
            "type": "surface"
           }
          ],
          "table": [
           {
            "cells": {
             "fill": {
              "color": "#EBF0F8"
             },
             "line": {
              "color": "white"
             }
            },
            "header": {
             "fill": {
              "color": "#C8D4E3"
             },
             "line": {
              "color": "white"
             }
            },
            "type": "table"
           }
          ]
         },
         "layout": {
          "annotationdefaults": {
           "arrowcolor": "#2a3f5f",
           "arrowhead": 0,
           "arrowwidth": 1
          },
          "autotypenumbers": "strict",
          "coloraxis": {
           "colorbar": {
            "outlinewidth": 0,
            "ticks": ""
           }
          },
          "colorscale": {
           "diverging": [
            [
             0,
             "#8e0152"
            ],
            [
             0.1,
             "#c51b7d"
            ],
            [
             0.2,
             "#de77ae"
            ],
            [
             0.3,
             "#f1b6da"
            ],
            [
             0.4,
             "#fde0ef"
            ],
            [
             0.5,
             "#f7f7f7"
            ],
            [
             0.6,
             "#e6f5d0"
            ],
            [
             0.7,
             "#b8e186"
            ],
            [
             0.8,
             "#7fbc41"
            ],
            [
             0.9,
             "#4d9221"
            ],
            [
             1,
             "#276419"
            ]
           ],
           "sequential": [
            [
             0,
             "#0d0887"
            ],
            [
             0.1111111111111111,
             "#46039f"
            ],
            [
             0.2222222222222222,
             "#7201a8"
            ],
            [
             0.3333333333333333,
             "#9c179e"
            ],
            [
             0.4444444444444444,
             "#bd3786"
            ],
            [
             0.5555555555555556,
             "#d8576b"
            ],
            [
             0.6666666666666666,
             "#ed7953"
            ],
            [
             0.7777777777777778,
             "#fb9f3a"
            ],
            [
             0.8888888888888888,
             "#fdca26"
            ],
            [
             1,
             "#f0f921"
            ]
           ],
           "sequentialminus": [
            [
             0,
             "#0d0887"
            ],
            [
             0.1111111111111111,
             "#46039f"
            ],
            [
             0.2222222222222222,
             "#7201a8"
            ],
            [
             0.3333333333333333,
             "#9c179e"
            ],
            [
             0.4444444444444444,
             "#bd3786"
            ],
            [
             0.5555555555555556,
             "#d8576b"
            ],
            [
             0.6666666666666666,
             "#ed7953"
            ],
            [
             0.7777777777777778,
             "#fb9f3a"
            ],
            [
             0.8888888888888888,
             "#fdca26"
            ],
            [
             1,
             "#f0f921"
            ]
           ]
          },
          "colorway": [
           "#636efa",
           "#EF553B",
           "#00cc96",
           "#ab63fa",
           "#FFA15A",
           "#19d3f3",
           "#FF6692",
           "#B6E880",
           "#FF97FF",
           "#FECB52"
          ],
          "font": {
           "color": "#2a3f5f"
          },
          "geo": {
           "bgcolor": "white",
           "lakecolor": "white",
           "landcolor": "#E5ECF6",
           "showlakes": true,
           "showland": true,
           "subunitcolor": "white"
          },
          "hoverlabel": {
           "align": "left"
          },
          "hovermode": "closest",
          "mapbox": {
           "style": "light"
          },
          "paper_bgcolor": "white",
          "plot_bgcolor": "#E5ECF6",
          "polar": {
           "angularaxis": {
            "gridcolor": "white",
            "linecolor": "white",
            "ticks": ""
           },
           "bgcolor": "#E5ECF6",
           "radialaxis": {
            "gridcolor": "white",
            "linecolor": "white",
            "ticks": ""
           }
          },
          "scene": {
           "xaxis": {
            "backgroundcolor": "#E5ECF6",
            "gridcolor": "white",
            "gridwidth": 2,
            "linecolor": "white",
            "showbackground": true,
            "ticks": "",
            "zerolinecolor": "white"
           },
           "yaxis": {
            "backgroundcolor": "#E5ECF6",
            "gridcolor": "white",
            "gridwidth": 2,
            "linecolor": "white",
            "showbackground": true,
            "ticks": "",
            "zerolinecolor": "white"
           },
           "zaxis": {
            "backgroundcolor": "#E5ECF6",
            "gridcolor": "white",
            "gridwidth": 2,
            "linecolor": "white",
            "showbackground": true,
            "ticks": "",
            "zerolinecolor": "white"
           }
          },
          "shapedefaults": {
           "line": {
            "color": "#2a3f5f"
           }
          },
          "ternary": {
           "aaxis": {
            "gridcolor": "white",
            "linecolor": "white",
            "ticks": ""
           },
           "baxis": {
            "gridcolor": "white",
            "linecolor": "white",
            "ticks": ""
           },
           "bgcolor": "#E5ECF6",
           "caxis": {
            "gridcolor": "white",
            "linecolor": "white",
            "ticks": ""
           }
          },
          "title": {
           "x": 0.05
          },
          "xaxis": {
           "automargin": true,
           "gridcolor": "white",
           "linecolor": "white",
           "ticks": "",
           "title": {
            "standoff": 15
           },
           "zerolinecolor": "white",
           "zerolinewidth": 2
          },
          "yaxis": {
           "automargin": true,
           "gridcolor": "white",
           "linecolor": "white",
           "ticks": "",
           "title": {
            "standoff": 15
           },
           "zerolinecolor": "white",
           "zerolinewidth": 2
          }
         }
        },
        "title": {
         "text": "Height Distribution",
         "x": 0.5
        },
        "xaxis": {
         "anchor": "y2",
         "domain": [
          0,
          1
         ],
         "title": {
          "text": "Height (ft)"
         },
         "zeroline": false
        },
        "yaxis": {
         "anchor": "free",
         "domain": [
          0.35,
          1
         ],
         "position": 0,
         "title": {
          "text": "Frequency"
         }
        },
        "yaxis2": {
         "anchor": "x",
         "domain": [
          0,
          0.25
         ],
         "dtick": 1,
         "showticklabels": false
        }
       }
      }
     },
     "metadata": {},
     "output_type": "display_data"
    }
   ],
   "source": [
    "col = 'height_ft'\n",
    "hist_data = [df[col]]\n",
    "group_labels = [col]\n",
    "bin_size = [0.1] # can have different sizes for each bin\n",
    "colors=['green'] # can have different colors for each bin\n",
    "\n",
    "ff.create_distplot(\n",
    "    hist_data=hist_data\n",
    "    , group_labels=group_labels\n",
    "    , bin_size=bin_size\n",
    "    , colors=colors\n",
    "    , curve_type='normal' # 'kde' or 'normal'\n",
    ").update_layout(   \n",
    "    title='Height Distribution' \n",
    "    , xaxis_title='Height (ft)'\n",
    "    , yaxis_title='Frequency'\n",
    "    , bargap=0.1\n",
    "    , title_x=0.5\n",
    ")"
   ]
  },
  {
   "attachments": {},
   "cell_type": "markdown",
   "metadata": {},
   "source": [
    "### xxx to [MAD](https://www.mathsisfun.com/data/mean-deviation.html) and [STD](https://www.mathsisfun.com/data/standard-deviation.html)"
   ]
  },
  {
   "cell_type": "code",
   "execution_count": 40,
   "metadata": {},
   "outputs": [
    {
     "ename": "FileNotFoundError",
     "evalue": "[Errno 2] No such file or directory: '../data/weight_height.parquet'",
     "output_type": "error",
     "traceback": [
      "\u001b[0;31m---------------------------------------------------------------------------\u001b[0m",
      "\u001b[0;31mFileNotFoundError\u001b[0m                         Traceback (most recent call last)",
      "Cell \u001b[0;32mIn[40], line 1\u001b[0m\n\u001b[0;32m----> 1\u001b[0m df \u001b[39m=\u001b[39m pd\u001b[39m.\u001b[39;49mread_parquet(\u001b[39m'\u001b[39;49m\u001b[39m../data/weight_height.parquet\u001b[39;49m\u001b[39m'\u001b[39;49m, columns\u001b[39m=\u001b[39;49m[\u001b[39m'\u001b[39;49m\u001b[39mweight\u001b[39;49m\u001b[39m'\u001b[39;49m])\n\u001b[1;32m      2\u001b[0m df\n",
      "File \u001b[0;32m~/Documents/maths/venv/lib/python3.11/site-packages/pandas/io/parquet.py:503\u001b[0m, in \u001b[0;36mread_parquet\u001b[0;34m(path, engine, columns, storage_options, use_nullable_dtypes, **kwargs)\u001b[0m\n\u001b[1;32m    456\u001b[0m \u001b[39m\u001b[39m\u001b[39m\"\"\"\u001b[39;00m\n\u001b[1;32m    457\u001b[0m \u001b[39mLoad a parquet object from the file path, returning a DataFrame.\u001b[39;00m\n\u001b[1;32m    458\u001b[0m \n\u001b[0;32m   (...)\u001b[0m\n\u001b[1;32m    499\u001b[0m \u001b[39mDataFrame\u001b[39;00m\n\u001b[1;32m    500\u001b[0m \u001b[39m\"\"\"\u001b[39;00m\n\u001b[1;32m    501\u001b[0m impl \u001b[39m=\u001b[39m get_engine(engine)\n\u001b[0;32m--> 503\u001b[0m \u001b[39mreturn\u001b[39;00m impl\u001b[39m.\u001b[39;49mread(\n\u001b[1;32m    504\u001b[0m     path,\n\u001b[1;32m    505\u001b[0m     columns\u001b[39m=\u001b[39;49mcolumns,\n\u001b[1;32m    506\u001b[0m     storage_options\u001b[39m=\u001b[39;49mstorage_options,\n\u001b[1;32m    507\u001b[0m     use_nullable_dtypes\u001b[39m=\u001b[39;49muse_nullable_dtypes,\n\u001b[1;32m    508\u001b[0m     \u001b[39m*\u001b[39;49m\u001b[39m*\u001b[39;49mkwargs,\n\u001b[1;32m    509\u001b[0m )\n",
      "File \u001b[0;32m~/Documents/maths/venv/lib/python3.11/site-packages/pandas/io/parquet.py:244\u001b[0m, in \u001b[0;36mPyArrowImpl.read\u001b[0;34m(self, path, columns, use_nullable_dtypes, storage_options, **kwargs)\u001b[0m\n\u001b[1;32m    241\u001b[0m \u001b[39mif\u001b[39;00m manager \u001b[39m==\u001b[39m \u001b[39m\"\u001b[39m\u001b[39marray\u001b[39m\u001b[39m\"\u001b[39m:\n\u001b[1;32m    242\u001b[0m     to_pandas_kwargs[\u001b[39m\"\u001b[39m\u001b[39msplit_blocks\u001b[39m\u001b[39m\"\u001b[39m] \u001b[39m=\u001b[39m \u001b[39mTrue\u001b[39;00m  \u001b[39m# type: ignore[assignment]\u001b[39;00m\n\u001b[0;32m--> 244\u001b[0m path_or_handle, handles, kwargs[\u001b[39m\"\u001b[39m\u001b[39mfilesystem\u001b[39m\u001b[39m\"\u001b[39m] \u001b[39m=\u001b[39m _get_path_or_handle(\n\u001b[1;32m    245\u001b[0m     path,\n\u001b[1;32m    246\u001b[0m     kwargs\u001b[39m.\u001b[39;49mpop(\u001b[39m\"\u001b[39;49m\u001b[39mfilesystem\u001b[39;49m\u001b[39m\"\u001b[39;49m, \u001b[39mNone\u001b[39;49;00m),\n\u001b[1;32m    247\u001b[0m     storage_options\u001b[39m=\u001b[39;49mstorage_options,\n\u001b[1;32m    248\u001b[0m     mode\u001b[39m=\u001b[39;49m\u001b[39m\"\u001b[39;49m\u001b[39mrb\u001b[39;49m\u001b[39m\"\u001b[39;49m,\n\u001b[1;32m    249\u001b[0m )\n\u001b[1;32m    250\u001b[0m \u001b[39mtry\u001b[39;00m:\n\u001b[1;32m    251\u001b[0m     result \u001b[39m=\u001b[39m \u001b[39mself\u001b[39m\u001b[39m.\u001b[39mapi\u001b[39m.\u001b[39mparquet\u001b[39m.\u001b[39mread_table(\n\u001b[1;32m    252\u001b[0m         path_or_handle, columns\u001b[39m=\u001b[39mcolumns, \u001b[39m*\u001b[39m\u001b[39m*\u001b[39mkwargs\n\u001b[1;32m    253\u001b[0m     )\u001b[39m.\u001b[39mto_pandas(\u001b[39m*\u001b[39m\u001b[39m*\u001b[39mto_pandas_kwargs)\n",
      "File \u001b[0;32m~/Documents/maths/venv/lib/python3.11/site-packages/pandas/io/parquet.py:102\u001b[0m, in \u001b[0;36m_get_path_or_handle\u001b[0;34m(path, fs, storage_options, mode, is_dir)\u001b[0m\n\u001b[1;32m     92\u001b[0m handles \u001b[39m=\u001b[39m \u001b[39mNone\u001b[39;00m\n\u001b[1;32m     93\u001b[0m \u001b[39mif\u001b[39;00m (\n\u001b[1;32m     94\u001b[0m     \u001b[39mnot\u001b[39;00m fs\n\u001b[1;32m     95\u001b[0m     \u001b[39mand\u001b[39;00m \u001b[39mnot\u001b[39;00m is_dir\n\u001b[0;32m   (...)\u001b[0m\n\u001b[1;32m    100\u001b[0m     \u001b[39m# fsspec resources can also point to directories\u001b[39;00m\n\u001b[1;32m    101\u001b[0m     \u001b[39m# this branch is used for example when reading from non-fsspec URLs\u001b[39;00m\n\u001b[0;32m--> 102\u001b[0m     handles \u001b[39m=\u001b[39m get_handle(\n\u001b[1;32m    103\u001b[0m         path_or_handle, mode, is_text\u001b[39m=\u001b[39;49m\u001b[39mFalse\u001b[39;49;00m, storage_options\u001b[39m=\u001b[39;49mstorage_options\n\u001b[1;32m    104\u001b[0m     )\n\u001b[1;32m    105\u001b[0m     fs \u001b[39m=\u001b[39m \u001b[39mNone\u001b[39;00m\n\u001b[1;32m    106\u001b[0m     path_or_handle \u001b[39m=\u001b[39m handles\u001b[39m.\u001b[39mhandle\n",
      "File \u001b[0;32m~/Documents/maths/venv/lib/python3.11/site-packages/pandas/io/common.py:865\u001b[0m, in \u001b[0;36mget_handle\u001b[0;34m(path_or_buf, mode, encoding, compression, memory_map, is_text, errors, storage_options)\u001b[0m\n\u001b[1;32m    856\u001b[0m         handle \u001b[39m=\u001b[39m \u001b[39mopen\u001b[39m(\n\u001b[1;32m    857\u001b[0m             handle,\n\u001b[1;32m    858\u001b[0m             ioargs\u001b[39m.\u001b[39mmode,\n\u001b[0;32m   (...)\u001b[0m\n\u001b[1;32m    861\u001b[0m             newline\u001b[39m=\u001b[39m\u001b[39m\"\u001b[39m\u001b[39m\"\u001b[39m,\n\u001b[1;32m    862\u001b[0m         )\n\u001b[1;32m    863\u001b[0m     \u001b[39melse\u001b[39;00m:\n\u001b[1;32m    864\u001b[0m         \u001b[39m# Binary mode\u001b[39;00m\n\u001b[0;32m--> 865\u001b[0m         handle \u001b[39m=\u001b[39m \u001b[39mopen\u001b[39;49m(handle, ioargs\u001b[39m.\u001b[39;49mmode)\n\u001b[1;32m    866\u001b[0m     handles\u001b[39m.\u001b[39mappend(handle)\n\u001b[1;32m    868\u001b[0m \u001b[39m# Convert BytesIO or file objects passed with an encoding\u001b[39;00m\n",
      "\u001b[0;31mFileNotFoundError\u001b[0m: [Errno 2] No such file or directory: '../data/weight_height.parquet'"
     ]
    }
   ],
   "source": [
    "df = pd.read_parquet('../data/weight_height.parquet', columns=['weight'])\n",
    "df"
   ]
  },
  {
   "cell_type": "code",
   "execution_count": null,
   "metadata": {},
   "outputs": [],
   "source": [
    "# https://www.youtube.com/watch?v=xtTX69JZ92w&list=PLeo1K3hjS3uuKaU2nBDwr6zrSOTzNCs0l&index=7"
   ]
  },
  {
   "cell_type": "code",
   "execution_count": null,
   "metadata": {},
   "outputs": [],
   "source": [
    "df = pd.DataFrame([[1, 2, 3],\n",
    "                   [4, 5, 6],\n",
    "                   [7, 8, 9],\n",
    "                   [np.nan, np.nan, np.nan]],\n",
    "                  columns=['col1', 'col2', 'col3'])"
   ]
  },
  {
   "cell_type": "code",
   "execution_count": null,
   "metadata": {},
   "outputs": [],
   "source": [
    "df.sort_values(by='col1', ascending=False)"
   ]
  },
  {
   "cell_type": "code",
   "execution_count": null,
   "metadata": {},
   "outputs": [
    {
     "ename": "ValueError",
     "evalue": "The column label 'col1' is not unique.\nFor a multi-index, the label must be a tuple with elements corresponding to each level.",
     "output_type": "error",
     "traceback": [
      "\u001b[0;31m---------------------------------------------------------------------------\u001b[0m",
      "\u001b[0;31mValueError\u001b[0m                                Traceback (most recent call last)",
      "Cell \u001b[0;32mIn [455], line 5\u001b[0m\n\u001b[1;32m      1\u001b[0m (df\n\u001b[1;32m      2\u001b[0m  \u001b[39m.\u001b[39;49mmerge(df, how\u001b[39m=\u001b[39;49m\u001b[39m'\u001b[39;49m\u001b[39mleft\u001b[39;49m\u001b[39m'\u001b[39;49m, on\u001b[39m=\u001b[39;49m\u001b[39m'\u001b[39;49m\u001b[39mcol1\u001b[39;49m\u001b[39m'\u001b[39;49m)\n\u001b[1;32m      3\u001b[0m  \u001b[39m.\u001b[39;49mgroupby(by\u001b[39m=\u001b[39;49m\u001b[39m'\u001b[39;49m\u001b[39mcol1\u001b[39;49m\u001b[39m'\u001b[39;49m, as_index\u001b[39m=\u001b[39;49m\u001b[39mFalse\u001b[39;49;00m)\n\u001b[1;32m      4\u001b[0m  \u001b[39m.\u001b[39;49magg({\u001b[39m'\u001b[39;49m\u001b[39mcol1\u001b[39;49m\u001b[39m'\u001b[39;49m: [\u001b[39m'\u001b[39;49m\u001b[39msum\u001b[39;49m\u001b[39m'\u001b[39;49m, \u001b[39m'\u001b[39;49m\u001b[39mmax\u001b[39;49m\u001b[39m'\u001b[39;49m]})\n\u001b[0;32m----> 5\u001b[0m  \u001b[39m.\u001b[39;49msort_values(by\u001b[39m=\u001b[39;49m\u001b[39m'\u001b[39;49m\u001b[39mcol1\u001b[39;49m\u001b[39m'\u001b[39;49m, ascending\u001b[39m=\u001b[39;49m\u001b[39mFalse\u001b[39;49;00m)\n\u001b[1;32m      6\u001b[0m  )\n",
      "File \u001b[0;32m~/Documents/python-working/venv/lib/python3.11/site-packages/pandas/util/_decorators.py:331\u001b[0m, in \u001b[0;36mdeprecate_nonkeyword_arguments.<locals>.decorate.<locals>.wrapper\u001b[0;34m(*args, **kwargs)\u001b[0m\n\u001b[1;32m    325\u001b[0m \u001b[39mif\u001b[39;00m \u001b[39mlen\u001b[39m(args) \u001b[39m>\u001b[39m num_allow_args:\n\u001b[1;32m    326\u001b[0m     warnings\u001b[39m.\u001b[39mwarn(\n\u001b[1;32m    327\u001b[0m         msg\u001b[39m.\u001b[39mformat(arguments\u001b[39m=\u001b[39m_format_argument_list(allow_args)),\n\u001b[1;32m    328\u001b[0m         \u001b[39mFutureWarning\u001b[39;00m,\n\u001b[1;32m    329\u001b[0m         stacklevel\u001b[39m=\u001b[39mfind_stack_level(),\n\u001b[1;32m    330\u001b[0m     )\n\u001b[0;32m--> 331\u001b[0m \u001b[39mreturn\u001b[39;00m func(\u001b[39m*\u001b[39;49margs, \u001b[39m*\u001b[39;49m\u001b[39m*\u001b[39;49mkwargs)\n",
      "File \u001b[0;32m~/Documents/python-working/venv/lib/python3.11/site-packages/pandas/core/frame.py:6909\u001b[0m, in \u001b[0;36mDataFrame.sort_values\u001b[0;34m(self, by, axis, ascending, inplace, kind, na_position, ignore_index, key)\u001b[0m\n\u001b[1;32m   6905\u001b[0m \u001b[39melif\u001b[39;00m \u001b[39mlen\u001b[39m(by):\n\u001b[1;32m   6906\u001b[0m     \u001b[39m# len(by) == 1\u001b[39;00m\n\u001b[1;32m   6908\u001b[0m     by \u001b[39m=\u001b[39m by[\u001b[39m0\u001b[39m]\n\u001b[0;32m-> 6909\u001b[0m     k \u001b[39m=\u001b[39m \u001b[39mself\u001b[39;49m\u001b[39m.\u001b[39;49m_get_label_or_level_values(by, axis\u001b[39m=\u001b[39;49maxis)\n\u001b[1;32m   6911\u001b[0m     \u001b[39m# need to rewrap column in Series to apply key function\u001b[39;00m\n\u001b[1;32m   6912\u001b[0m     \u001b[39mif\u001b[39;00m key \u001b[39mis\u001b[39;00m \u001b[39mnot\u001b[39;00m \u001b[39mNone\u001b[39;00m:\n\u001b[1;32m   6913\u001b[0m         \u001b[39m# error: Incompatible types in assignment (expression has type\u001b[39;00m\n\u001b[1;32m   6914\u001b[0m         \u001b[39m# \"Series\", variable has type \"ndarray\")\u001b[39;00m\n",
      "File \u001b[0;32m~/Documents/python-working/venv/lib/python3.11/site-packages/pandas/core/generic.py:1865\u001b[0m, in \u001b[0;36mNDFrame._get_label_or_level_values\u001b[0;34m(self, key, axis)\u001b[0m\n\u001b[1;32m   1862\u001b[0m         multi_message \u001b[39m=\u001b[39m \u001b[39m\"\u001b[39m\u001b[39m\"\u001b[39m\n\u001b[1;32m   1864\u001b[0m     label_axis_name \u001b[39m=\u001b[39m \u001b[39m\"\u001b[39m\u001b[39mcolumn\u001b[39m\u001b[39m\"\u001b[39m \u001b[39mif\u001b[39;00m axis \u001b[39m==\u001b[39m \u001b[39m0\u001b[39m \u001b[39melse\u001b[39;00m \u001b[39m\"\u001b[39m\u001b[39mindex\u001b[39m\u001b[39m\"\u001b[39m\n\u001b[0;32m-> 1865\u001b[0m     \u001b[39mraise\u001b[39;00m \u001b[39mValueError\u001b[39;00m(\n\u001b[1;32m   1866\u001b[0m         \u001b[39mf\u001b[39m\u001b[39m\"\u001b[39m\u001b[39mThe \u001b[39m\u001b[39m{\u001b[39;00mlabel_axis_name\u001b[39m}\u001b[39;00m\u001b[39m label \u001b[39m\u001b[39m'\u001b[39m\u001b[39m{\u001b[39;00mkey\u001b[39m}\u001b[39;00m\u001b[39m'\u001b[39m\u001b[39m is not unique.\u001b[39m\u001b[39m{\u001b[39;00mmulti_message\u001b[39m}\u001b[39;00m\u001b[39m\"\u001b[39m\n\u001b[1;32m   1867\u001b[0m     )\n\u001b[1;32m   1869\u001b[0m \u001b[39mreturn\u001b[39;00m values\n",
      "\u001b[0;31mValueError\u001b[0m: The column label 'col1' is not unique.\nFor a multi-index, the label must be a tuple with elements corresponding to each level."
     ]
    }
   ],
   "source": []
  },
  {
   "cell_type": "code",
   "execution_count": null,
   "metadata": {},
   "outputs": [],
   "source": [
    "### Normal Distribution and Z-Scores\n",
    "- https://www.youtube.com/watch?v=okhrFgaUwio"
   ]
  }
 ],
 "metadata": {
  "kernelspec": {
   "display_name": "venv",
   "language": "python",
   "name": "python3"
  },
  "language_info": {
   "codemirror_mode": {
    "name": "ipython",
    "version": 3
   },
   "file_extension": ".py",
   "mimetype": "text/x-python",
   "name": "python",
   "nbconvert_exporter": "python",
   "pygments_lexer": "ipython3",
   "version": "3.11.1"
  },
  "orig_nbformat": 4,
  "vscode": {
   "interpreter": {
    "hash": "fa695a1cb1a48d0071df834cedf2657744e309a882e30ea57ea43856e1ca1b19"
   }
  }
 },
 "nbformat": 4,
 "nbformat_minor": 2
}
